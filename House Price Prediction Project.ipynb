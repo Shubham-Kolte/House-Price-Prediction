{
 "cells": [
  {
   "cell_type": "code",
   "execution_count": 1,
   "id": "da5a3f51",
   "metadata": {},
   "outputs": [],
   "source": [
    "import pandas as pd\n",
    "import numpy as np\n",
    "import matplotlib.pyplot as plt\n",
    "import seaborn as sns"
   ]
  },
  {
   "cell_type": "code",
   "execution_count": 2,
   "id": "915fb057",
   "metadata": {},
   "outputs": [
    {
     "data": {
      "text/html": [
       "<div>\n",
       "<style scoped>\n",
       "    .dataframe tbody tr th:only-of-type {\n",
       "        vertical-align: middle;\n",
       "    }\n",
       "\n",
       "    .dataframe tbody tr th {\n",
       "        vertical-align: top;\n",
       "    }\n",
       "\n",
       "    .dataframe thead th {\n",
       "        text-align: right;\n",
       "    }\n",
       "</style>\n",
       "<table border=\"1\" class=\"dataframe\">\n",
       "  <thead>\n",
       "    <tr style=\"text-align: right;\">\n",
       "      <th></th>\n",
       "      <th>area_type</th>\n",
       "      <th>availability</th>\n",
       "      <th>location</th>\n",
       "      <th>size</th>\n",
       "      <th>society</th>\n",
       "      <th>total_sqft</th>\n",
       "      <th>bath</th>\n",
       "      <th>balcony</th>\n",
       "      <th>price</th>\n",
       "    </tr>\n",
       "  </thead>\n",
       "  <tbody>\n",
       "    <tr>\n",
       "      <th>0</th>\n",
       "      <td>Super built-up  Area</td>\n",
       "      <td>19-Dec</td>\n",
       "      <td>Electronic City Phase II</td>\n",
       "      <td>2 BHK</td>\n",
       "      <td>Coomee</td>\n",
       "      <td>1056</td>\n",
       "      <td>2.0</td>\n",
       "      <td>1.0</td>\n",
       "      <td>39.07</td>\n",
       "    </tr>\n",
       "    <tr>\n",
       "      <th>1</th>\n",
       "      <td>Plot  Area</td>\n",
       "      <td>Ready To Move</td>\n",
       "      <td>Chikka Tirupathi</td>\n",
       "      <td>4 Bedroom</td>\n",
       "      <td>Theanmp</td>\n",
       "      <td>2600</td>\n",
       "      <td>5.0</td>\n",
       "      <td>3.0</td>\n",
       "      <td>120.00</td>\n",
       "    </tr>\n",
       "    <tr>\n",
       "      <th>2</th>\n",
       "      <td>Built-up  Area</td>\n",
       "      <td>Ready To Move</td>\n",
       "      <td>Uttarahalli</td>\n",
       "      <td>3 BHK</td>\n",
       "      <td>NaN</td>\n",
       "      <td>1440</td>\n",
       "      <td>2.0</td>\n",
       "      <td>3.0</td>\n",
       "      <td>62.00</td>\n",
       "    </tr>\n",
       "    <tr>\n",
       "      <th>3</th>\n",
       "      <td>Super built-up  Area</td>\n",
       "      <td>Ready To Move</td>\n",
       "      <td>Lingadheeranahalli</td>\n",
       "      <td>3 BHK</td>\n",
       "      <td>Soiewre</td>\n",
       "      <td>1521</td>\n",
       "      <td>3.0</td>\n",
       "      <td>1.0</td>\n",
       "      <td>95.00</td>\n",
       "    </tr>\n",
       "    <tr>\n",
       "      <th>4</th>\n",
       "      <td>Super built-up  Area</td>\n",
       "      <td>Ready To Move</td>\n",
       "      <td>Kothanur</td>\n",
       "      <td>2 BHK</td>\n",
       "      <td>NaN</td>\n",
       "      <td>1200</td>\n",
       "      <td>2.0</td>\n",
       "      <td>1.0</td>\n",
       "      <td>51.00</td>\n",
       "    </tr>\n",
       "    <tr>\n",
       "      <th>...</th>\n",
       "      <td>...</td>\n",
       "      <td>...</td>\n",
       "      <td>...</td>\n",
       "      <td>...</td>\n",
       "      <td>...</td>\n",
       "      <td>...</td>\n",
       "      <td>...</td>\n",
       "      <td>...</td>\n",
       "      <td>...</td>\n",
       "    </tr>\n",
       "    <tr>\n",
       "      <th>13315</th>\n",
       "      <td>Built-up  Area</td>\n",
       "      <td>Ready To Move</td>\n",
       "      <td>Whitefield</td>\n",
       "      <td>5 Bedroom</td>\n",
       "      <td>ArsiaEx</td>\n",
       "      <td>3453</td>\n",
       "      <td>4.0</td>\n",
       "      <td>0.0</td>\n",
       "      <td>231.00</td>\n",
       "    </tr>\n",
       "    <tr>\n",
       "      <th>13316</th>\n",
       "      <td>Super built-up  Area</td>\n",
       "      <td>Ready To Move</td>\n",
       "      <td>Richards Town</td>\n",
       "      <td>4 BHK</td>\n",
       "      <td>NaN</td>\n",
       "      <td>3600</td>\n",
       "      <td>5.0</td>\n",
       "      <td>NaN</td>\n",
       "      <td>400.00</td>\n",
       "    </tr>\n",
       "    <tr>\n",
       "      <th>13317</th>\n",
       "      <td>Built-up  Area</td>\n",
       "      <td>Ready To Move</td>\n",
       "      <td>Raja Rajeshwari Nagar</td>\n",
       "      <td>2 BHK</td>\n",
       "      <td>Mahla T</td>\n",
       "      <td>1141</td>\n",
       "      <td>2.0</td>\n",
       "      <td>1.0</td>\n",
       "      <td>60.00</td>\n",
       "    </tr>\n",
       "    <tr>\n",
       "      <th>13318</th>\n",
       "      <td>Super built-up  Area</td>\n",
       "      <td>18-Jun</td>\n",
       "      <td>Padmanabhanagar</td>\n",
       "      <td>4 BHK</td>\n",
       "      <td>SollyCl</td>\n",
       "      <td>4689</td>\n",
       "      <td>4.0</td>\n",
       "      <td>1.0</td>\n",
       "      <td>488.00</td>\n",
       "    </tr>\n",
       "    <tr>\n",
       "      <th>13319</th>\n",
       "      <td>Super built-up  Area</td>\n",
       "      <td>Ready To Move</td>\n",
       "      <td>Doddathoguru</td>\n",
       "      <td>1 BHK</td>\n",
       "      <td>NaN</td>\n",
       "      <td>550</td>\n",
       "      <td>1.0</td>\n",
       "      <td>1.0</td>\n",
       "      <td>17.00</td>\n",
       "    </tr>\n",
       "  </tbody>\n",
       "</table>\n",
       "<p>13320 rows × 9 columns</p>\n",
       "</div>"
      ],
      "text/plain": [
       "                  area_type   availability                  location  \\\n",
       "0      Super built-up  Area         19-Dec  Electronic City Phase II   \n",
       "1                Plot  Area  Ready To Move          Chikka Tirupathi   \n",
       "2            Built-up  Area  Ready To Move               Uttarahalli   \n",
       "3      Super built-up  Area  Ready To Move        Lingadheeranahalli   \n",
       "4      Super built-up  Area  Ready To Move                  Kothanur   \n",
       "...                     ...            ...                       ...   \n",
       "13315        Built-up  Area  Ready To Move                Whitefield   \n",
       "13316  Super built-up  Area  Ready To Move             Richards Town   \n",
       "13317        Built-up  Area  Ready To Move     Raja Rajeshwari Nagar   \n",
       "13318  Super built-up  Area         18-Jun           Padmanabhanagar   \n",
       "13319  Super built-up  Area  Ready To Move              Doddathoguru   \n",
       "\n",
       "            size  society total_sqft  bath  balcony   price  \n",
       "0          2 BHK  Coomee        1056   2.0      1.0   39.07  \n",
       "1      4 Bedroom  Theanmp       2600   5.0      3.0  120.00  \n",
       "2          3 BHK      NaN       1440   2.0      3.0   62.00  \n",
       "3          3 BHK  Soiewre       1521   3.0      1.0   95.00  \n",
       "4          2 BHK      NaN       1200   2.0      1.0   51.00  \n",
       "...          ...      ...        ...   ...      ...     ...  \n",
       "13315  5 Bedroom  ArsiaEx       3453   4.0      0.0  231.00  \n",
       "13316      4 BHK      NaN       3600   5.0      NaN  400.00  \n",
       "13317      2 BHK  Mahla T       1141   2.0      1.0   60.00  \n",
       "13318      4 BHK  SollyCl       4689   4.0      1.0  488.00  \n",
       "13319      1 BHK      NaN        550   1.0      1.0   17.00  \n",
       "\n",
       "[13320 rows x 9 columns]"
      ]
     },
     "execution_count": 2,
     "metadata": {},
     "output_type": "execute_result"
    }
   ],
   "source": [
    "df = pd.read_csv('C:\\\\Users\\\\Shubham\\\\Downloads\\\\Bengaluru_House_Data.csv')\n",
    "df"
   ]
  },
  {
   "cell_type": "code",
   "execution_count": 3,
   "id": "c7e2ff5e",
   "metadata": {},
   "outputs": [
    {
     "data": {
      "text/html": [
       "<div>\n",
       "<style scoped>\n",
       "    .dataframe tbody tr th:only-of-type {\n",
       "        vertical-align: middle;\n",
       "    }\n",
       "\n",
       "    .dataframe tbody tr th {\n",
       "        vertical-align: top;\n",
       "    }\n",
       "\n",
       "    .dataframe thead th {\n",
       "        text-align: right;\n",
       "    }\n",
       "</style>\n",
       "<table border=\"1\" class=\"dataframe\">\n",
       "  <thead>\n",
       "    <tr style=\"text-align: right;\">\n",
       "      <th></th>\n",
       "      <th>area_type</th>\n",
       "      <th>availability</th>\n",
       "      <th>location</th>\n",
       "      <th>size</th>\n",
       "      <th>society</th>\n",
       "      <th>total_sqft</th>\n",
       "      <th>bath</th>\n",
       "      <th>balcony</th>\n",
       "      <th>price</th>\n",
       "    </tr>\n",
       "  </thead>\n",
       "  <tbody>\n",
       "    <tr>\n",
       "      <th>0</th>\n",
       "      <td>Super built-up  Area</td>\n",
       "      <td>19-Dec</td>\n",
       "      <td>Electronic City Phase II</td>\n",
       "      <td>2 BHK</td>\n",
       "      <td>Coomee</td>\n",
       "      <td>1056</td>\n",
       "      <td>2.0</td>\n",
       "      <td>1.0</td>\n",
       "      <td>39.07</td>\n",
       "    </tr>\n",
       "    <tr>\n",
       "      <th>1</th>\n",
       "      <td>Plot  Area</td>\n",
       "      <td>Ready To Move</td>\n",
       "      <td>Chikka Tirupathi</td>\n",
       "      <td>4 Bedroom</td>\n",
       "      <td>Theanmp</td>\n",
       "      <td>2600</td>\n",
       "      <td>5.0</td>\n",
       "      <td>3.0</td>\n",
       "      <td>120.00</td>\n",
       "    </tr>\n",
       "    <tr>\n",
       "      <th>2</th>\n",
       "      <td>Built-up  Area</td>\n",
       "      <td>Ready To Move</td>\n",
       "      <td>Uttarahalli</td>\n",
       "      <td>3 BHK</td>\n",
       "      <td>NaN</td>\n",
       "      <td>1440</td>\n",
       "      <td>2.0</td>\n",
       "      <td>3.0</td>\n",
       "      <td>62.00</td>\n",
       "    </tr>\n",
       "    <tr>\n",
       "      <th>3</th>\n",
       "      <td>Super built-up  Area</td>\n",
       "      <td>Ready To Move</td>\n",
       "      <td>Lingadheeranahalli</td>\n",
       "      <td>3 BHK</td>\n",
       "      <td>Soiewre</td>\n",
       "      <td>1521</td>\n",
       "      <td>3.0</td>\n",
       "      <td>1.0</td>\n",
       "      <td>95.00</td>\n",
       "    </tr>\n",
       "    <tr>\n",
       "      <th>4</th>\n",
       "      <td>Super built-up  Area</td>\n",
       "      <td>Ready To Move</td>\n",
       "      <td>Kothanur</td>\n",
       "      <td>2 BHK</td>\n",
       "      <td>NaN</td>\n",
       "      <td>1200</td>\n",
       "      <td>2.0</td>\n",
       "      <td>1.0</td>\n",
       "      <td>51.00</td>\n",
       "    </tr>\n",
       "  </tbody>\n",
       "</table>\n",
       "</div>"
      ],
      "text/plain": [
       "              area_type   availability                  location       size  \\\n",
       "0  Super built-up  Area         19-Dec  Electronic City Phase II      2 BHK   \n",
       "1            Plot  Area  Ready To Move          Chikka Tirupathi  4 Bedroom   \n",
       "2        Built-up  Area  Ready To Move               Uttarahalli      3 BHK   \n",
       "3  Super built-up  Area  Ready To Move        Lingadheeranahalli      3 BHK   \n",
       "4  Super built-up  Area  Ready To Move                  Kothanur      2 BHK   \n",
       "\n",
       "   society total_sqft  bath  balcony   price  \n",
       "0  Coomee        1056   2.0      1.0   39.07  \n",
       "1  Theanmp       2600   5.0      3.0  120.00  \n",
       "2      NaN       1440   2.0      3.0   62.00  \n",
       "3  Soiewre       1521   3.0      1.0   95.00  \n",
       "4      NaN       1200   2.0      1.0   51.00  "
      ]
     },
     "execution_count": 3,
     "metadata": {},
     "output_type": "execute_result"
    }
   ],
   "source": [
    "df.head()"
   ]
  },
  {
   "cell_type": "code",
   "execution_count": 4,
   "id": "6fa95b98",
   "metadata": {},
   "outputs": [
    {
     "data": {
      "text/plain": [
       "(13320, 9)"
      ]
     },
     "execution_count": 4,
     "metadata": {},
     "output_type": "execute_result"
    }
   ],
   "source": [
    "df.shape"
   ]
  },
  {
   "cell_type": "code",
   "execution_count": 5,
   "id": "b940ad5f",
   "metadata": {},
   "outputs": [
    {
     "name": "stdout",
     "output_type": "stream",
     "text": [
      "<class 'pandas.core.frame.DataFrame'>\n",
      "RangeIndex: 13320 entries, 0 to 13319\n",
      "Data columns (total 9 columns):\n",
      " #   Column        Non-Null Count  Dtype  \n",
      "---  ------        --------------  -----  \n",
      " 0   area_type     13320 non-null  object \n",
      " 1   availability  13320 non-null  object \n",
      " 2   location      13319 non-null  object \n",
      " 3   size          13304 non-null  object \n",
      " 4   society       7818 non-null   object \n",
      " 5   total_sqft    13320 non-null  object \n",
      " 6   bath          13247 non-null  float64\n",
      " 7   balcony       12711 non-null  float64\n",
      " 8   price         13320 non-null  float64\n",
      "dtypes: float64(3), object(6)\n",
      "memory usage: 936.7+ KB\n"
     ]
    }
   ],
   "source": [
    "df.info()"
   ]
  },
  {
   "cell_type": "code",
   "execution_count": 6,
   "id": "21e057c3",
   "metadata": {},
   "outputs": [
    {
     "name": "stdout",
     "output_type": "stream",
     "text": [
      "Super built-up  Area    8790\n",
      "Built-up  Area          2418\n",
      "Plot  Area              2025\n",
      "Carpet  Area              87\n",
      "Name: area_type, dtype: int64\n",
      "********************\n",
      "Ready To Move    10581\n",
      "18-Dec             307\n",
      "18-May             295\n",
      "18-Apr             271\n",
      "18-Aug             200\n",
      "                 ...  \n",
      "15-Aug               1\n",
      "17-Jan               1\n",
      "16-Nov               1\n",
      "16-Jan               1\n",
      "14-Jul               1\n",
      "Name: availability, Length: 81, dtype: int64\n",
      "********************\n",
      "Whitefield                        540\n",
      "Sarjapur  Road                    399\n",
      "Electronic City                   302\n",
      "Kanakpura Road                    273\n",
      "Thanisandra                       234\n",
      "                                 ... \n",
      "Bapuji Layout                       1\n",
      "1st Stage Radha Krishna Layout      1\n",
      "BEML Layout 5th stage               1\n",
      "singapura paradise                  1\n",
      "Abshot Layout                       1\n",
      "Name: location, Length: 1305, dtype: int64\n",
      "********************\n",
      "2 BHK         5199\n",
      "3 BHK         4310\n",
      "4 Bedroom      826\n",
      "4 BHK          591\n",
      "3 Bedroom      547\n",
      "1 BHK          538\n",
      "2 Bedroom      329\n",
      "5 Bedroom      297\n",
      "6 Bedroom      191\n",
      "1 Bedroom      105\n",
      "8 Bedroom       84\n",
      "7 Bedroom       83\n",
      "5 BHK           59\n",
      "9 Bedroom       46\n",
      "6 BHK           30\n",
      "7 BHK           17\n",
      "1 RK            13\n",
      "10 Bedroom      12\n",
      "9 BHK            8\n",
      "8 BHK            5\n",
      "11 BHK           2\n",
      "11 Bedroom       2\n",
      "10 BHK           2\n",
      "14 BHK           1\n",
      "13 BHK           1\n",
      "12 Bedroom       1\n",
      "27 BHK           1\n",
      "43 Bedroom       1\n",
      "16 BHK           1\n",
      "19 BHK           1\n",
      "18 Bedroom       1\n",
      "Name: size, dtype: int64\n",
      "********************\n",
      "GrrvaGr    80\n",
      "PrarePa    76\n",
      "Sryalan    59\n",
      "Prtates    59\n",
      "GMown E    56\n",
      "           ..\n",
      "Amionce     1\n",
      "JaghtDe     1\n",
      "Jauraht     1\n",
      "Brity U     1\n",
      "RSntsAp     1\n",
      "Name: society, Length: 2688, dtype: int64\n",
      "********************\n",
      "1200    843\n",
      "1100    221\n",
      "1500    205\n",
      "2400    196\n",
      "600     180\n",
      "       ... \n",
      "3580      1\n",
      "2461      1\n",
      "1437      1\n",
      "2155      1\n",
      "4689      1\n",
      "Name: total_sqft, Length: 2117, dtype: int64\n",
      "********************\n",
      "2.0     6908\n",
      "3.0     3286\n",
      "4.0     1226\n",
      "1.0      788\n",
      "5.0      524\n",
      "6.0      273\n",
      "7.0      102\n",
      "8.0       64\n",
      "9.0       43\n",
      "10.0      13\n",
      "12.0       7\n",
      "13.0       3\n",
      "11.0       3\n",
      "16.0       2\n",
      "27.0       1\n",
      "40.0       1\n",
      "15.0       1\n",
      "14.0       1\n",
      "18.0       1\n",
      "Name: bath, dtype: int64\n",
      "********************\n",
      "2.0    5113\n",
      "1.0    4897\n",
      "3.0    1672\n",
      "0.0    1029\n",
      "Name: balcony, dtype: int64\n",
      "********************\n",
      "75.00     310\n",
      "65.00     302\n",
      "55.00     275\n",
      "60.00     270\n",
      "45.00     240\n",
      "         ... \n",
      "351.00      1\n",
      "54.10       1\n",
      "80.64       1\n",
      "32.73       1\n",
      "488.00      1\n",
      "Name: price, Length: 1994, dtype: int64\n",
      "********************\n"
     ]
    }
   ],
   "source": [
    "for column in df.columns:\n",
    "    print(df[column].value_counts())\n",
    "    print('*'*20)"
   ]
  },
  {
   "cell_type": "code",
   "execution_count": 7,
   "id": "03bf3422",
   "metadata": {},
   "outputs": [
    {
     "data": {
      "text/plain": [
       "area_type          0\n",
       "availability       0\n",
       "location           1\n",
       "size              16\n",
       "society         5502\n",
       "total_sqft         0\n",
       "bath              73\n",
       "balcony          609\n",
       "price              0\n",
       "dtype: int64"
      ]
     },
     "execution_count": 7,
     "metadata": {},
     "output_type": "execute_result"
    }
   ],
   "source": [
    "df.isnull().sum()"
   ]
  },
  {
   "cell_type": "code",
   "execution_count": 8,
   "id": "b97d808d",
   "metadata": {},
   "outputs": [],
   "source": [
    "df.drop(columns = ['availability','area_type','society','balcony'],inplace = True)"
   ]
  },
  {
   "cell_type": "code",
   "execution_count": 9,
   "id": "3e0e5d06",
   "metadata": {},
   "outputs": [
    {
     "data": {
      "text/html": [
       "<div>\n",
       "<style scoped>\n",
       "    .dataframe tbody tr th:only-of-type {\n",
       "        vertical-align: middle;\n",
       "    }\n",
       "\n",
       "    .dataframe tbody tr th {\n",
       "        vertical-align: top;\n",
       "    }\n",
       "\n",
       "    .dataframe thead th {\n",
       "        text-align: right;\n",
       "    }\n",
       "</style>\n",
       "<table border=\"1\" class=\"dataframe\">\n",
       "  <thead>\n",
       "    <tr style=\"text-align: right;\">\n",
       "      <th></th>\n",
       "      <th>bath</th>\n",
       "      <th>price</th>\n",
       "    </tr>\n",
       "  </thead>\n",
       "  <tbody>\n",
       "    <tr>\n",
       "      <th>count</th>\n",
       "      <td>13247.000000</td>\n",
       "      <td>13320.000000</td>\n",
       "    </tr>\n",
       "    <tr>\n",
       "      <th>mean</th>\n",
       "      <td>2.692610</td>\n",
       "      <td>112.565627</td>\n",
       "    </tr>\n",
       "    <tr>\n",
       "      <th>std</th>\n",
       "      <td>1.341458</td>\n",
       "      <td>148.971674</td>\n",
       "    </tr>\n",
       "    <tr>\n",
       "      <th>min</th>\n",
       "      <td>1.000000</td>\n",
       "      <td>8.000000</td>\n",
       "    </tr>\n",
       "    <tr>\n",
       "      <th>25%</th>\n",
       "      <td>2.000000</td>\n",
       "      <td>50.000000</td>\n",
       "    </tr>\n",
       "    <tr>\n",
       "      <th>50%</th>\n",
       "      <td>2.000000</td>\n",
       "      <td>72.000000</td>\n",
       "    </tr>\n",
       "    <tr>\n",
       "      <th>75%</th>\n",
       "      <td>3.000000</td>\n",
       "      <td>120.000000</td>\n",
       "    </tr>\n",
       "    <tr>\n",
       "      <th>max</th>\n",
       "      <td>40.000000</td>\n",
       "      <td>3600.000000</td>\n",
       "    </tr>\n",
       "  </tbody>\n",
       "</table>\n",
       "</div>"
      ],
      "text/plain": [
       "               bath         price\n",
       "count  13247.000000  13320.000000\n",
       "mean       2.692610    112.565627\n",
       "std        1.341458    148.971674\n",
       "min        1.000000      8.000000\n",
       "25%        2.000000     50.000000\n",
       "50%        2.000000     72.000000\n",
       "75%        3.000000    120.000000\n",
       "max       40.000000   3600.000000"
      ]
     },
     "execution_count": 9,
     "metadata": {},
     "output_type": "execute_result"
    }
   ],
   "source": [
    "df.describe()"
   ]
  },
  {
   "cell_type": "code",
   "execution_count": 10,
   "id": "9cea2891",
   "metadata": {},
   "outputs": [
    {
     "name": "stdout",
     "output_type": "stream",
     "text": [
      "<class 'pandas.core.frame.DataFrame'>\n",
      "RangeIndex: 13320 entries, 0 to 13319\n",
      "Data columns (total 5 columns):\n",
      " #   Column      Non-Null Count  Dtype  \n",
      "---  ------      --------------  -----  \n",
      " 0   location    13319 non-null  object \n",
      " 1   size        13304 non-null  object \n",
      " 2   total_sqft  13320 non-null  object \n",
      " 3   bath        13247 non-null  float64\n",
      " 4   price       13320 non-null  float64\n",
      "dtypes: float64(2), object(3)\n",
      "memory usage: 520.4+ KB\n"
     ]
    }
   ],
   "source": [
    "df.info()"
   ]
  },
  {
   "cell_type": "code",
   "execution_count": 11,
   "id": "37fe9f5d",
   "metadata": {},
   "outputs": [
    {
     "data": {
      "text/plain": [
       "Whitefield                        540\n",
       "Sarjapur  Road                    399\n",
       "Electronic City                   302\n",
       "Kanakpura Road                    273\n",
       "Thanisandra                       234\n",
       "                                 ... \n",
       "Bapuji Layout                       1\n",
       "1st Stage Radha Krishna Layout      1\n",
       "BEML Layout 5th stage               1\n",
       "singapura paradise                  1\n",
       "Abshot Layout                       1\n",
       "Name: location, Length: 1305, dtype: int64"
      ]
     },
     "execution_count": 11,
     "metadata": {},
     "output_type": "execute_result"
    }
   ],
   "source": [
    "df['location'].value_counts()"
   ]
  },
  {
   "cell_type": "code",
   "execution_count": 12,
   "id": "c8836c2f",
   "metadata": {},
   "outputs": [],
   "source": [
    "df['location'] = df['location'].fillna('Sarjapur Road')"
   ]
  },
  {
   "cell_type": "code",
   "execution_count": 13,
   "id": "20fc45f1",
   "metadata": {},
   "outputs": [
    {
     "name": "stdout",
     "output_type": "stream",
     "text": [
      "<class 'pandas.core.frame.DataFrame'>\n",
      "RangeIndex: 13320 entries, 0 to 13319\n",
      "Data columns (total 5 columns):\n",
      " #   Column      Non-Null Count  Dtype  \n",
      "---  ------      --------------  -----  \n",
      " 0   location    13320 non-null  object \n",
      " 1   size        13304 non-null  object \n",
      " 2   total_sqft  13320 non-null  object \n",
      " 3   bath        13247 non-null  float64\n",
      " 4   price       13320 non-null  float64\n",
      "dtypes: float64(2), object(3)\n",
      "memory usage: 520.4+ KB\n"
     ]
    }
   ],
   "source": [
    "df.info()"
   ]
  },
  {
   "cell_type": "code",
   "execution_count": 14,
   "id": "922cd47c",
   "metadata": {},
   "outputs": [
    {
     "data": {
      "text/plain": [
       "2 BHK         5199\n",
       "3 BHK         4310\n",
       "4 Bedroom      826\n",
       "4 BHK          591\n",
       "3 Bedroom      547\n",
       "1 BHK          538\n",
       "2 Bedroom      329\n",
       "5 Bedroom      297\n",
       "6 Bedroom      191\n",
       "1 Bedroom      105\n",
       "8 Bedroom       84\n",
       "7 Bedroom       83\n",
       "5 BHK           59\n",
       "9 Bedroom       46\n",
       "6 BHK           30\n",
       "7 BHK           17\n",
       "1 RK            13\n",
       "10 Bedroom      12\n",
       "9 BHK            8\n",
       "8 BHK            5\n",
       "11 BHK           2\n",
       "11 Bedroom       2\n",
       "10 BHK           2\n",
       "14 BHK           1\n",
       "13 BHK           1\n",
       "12 Bedroom       1\n",
       "27 BHK           1\n",
       "43 Bedroom       1\n",
       "16 BHK           1\n",
       "19 BHK           1\n",
       "18 Bedroom       1\n",
       "Name: size, dtype: int64"
      ]
     },
     "execution_count": 14,
     "metadata": {},
     "output_type": "execute_result"
    }
   ],
   "source": [
    "df['size'].value_counts()"
   ]
  },
  {
   "cell_type": "code",
   "execution_count": 15,
   "id": "306bd85b",
   "metadata": {},
   "outputs": [],
   "source": [
    "df['size'] = df['size'].fillna('2 BHK')"
   ]
  },
  {
   "cell_type": "code",
   "execution_count": 16,
   "id": "25934236",
   "metadata": {},
   "outputs": [],
   "source": [
    "df['bath'] = df['bath'].fillna(df['bath'].median())"
   ]
  },
  {
   "cell_type": "code",
   "execution_count": 17,
   "id": "62c70ccd",
   "metadata": {},
   "outputs": [
    {
     "name": "stdout",
     "output_type": "stream",
     "text": [
      "<class 'pandas.core.frame.DataFrame'>\n",
      "RangeIndex: 13320 entries, 0 to 13319\n",
      "Data columns (total 5 columns):\n",
      " #   Column      Non-Null Count  Dtype  \n",
      "---  ------      --------------  -----  \n",
      " 0   location    13320 non-null  object \n",
      " 1   size        13320 non-null  object \n",
      " 2   total_sqft  13320 non-null  object \n",
      " 3   bath        13320 non-null  float64\n",
      " 4   price       13320 non-null  float64\n",
      "dtypes: float64(2), object(3)\n",
      "memory usage: 520.4+ KB\n"
     ]
    }
   ],
   "source": [
    "df.info()"
   ]
  },
  {
   "cell_type": "code",
   "execution_count": 18,
   "id": "b9894d88",
   "metadata": {},
   "outputs": [],
   "source": [
    "df['bhk'] = df['size'].str.split().str.get(0).astype(int)"
   ]
  },
  {
   "cell_type": "code",
   "execution_count": 19,
   "id": "b8f70dc9",
   "metadata": {},
   "outputs": [
    {
     "data": {
      "text/html": [
       "<div>\n",
       "<style scoped>\n",
       "    .dataframe tbody tr th:only-of-type {\n",
       "        vertical-align: middle;\n",
       "    }\n",
       "\n",
       "    .dataframe tbody tr th {\n",
       "        vertical-align: top;\n",
       "    }\n",
       "\n",
       "    .dataframe thead th {\n",
       "        text-align: right;\n",
       "    }\n",
       "</style>\n",
       "<table border=\"1\" class=\"dataframe\">\n",
       "  <thead>\n",
       "    <tr style=\"text-align: right;\">\n",
       "      <th></th>\n",
       "      <th>location</th>\n",
       "      <th>size</th>\n",
       "      <th>total_sqft</th>\n",
       "      <th>bath</th>\n",
       "      <th>price</th>\n",
       "      <th>bhk</th>\n",
       "    </tr>\n",
       "  </thead>\n",
       "  <tbody>\n",
       "    <tr>\n",
       "      <th>1718</th>\n",
       "      <td>2Electronic City Phase II</td>\n",
       "      <td>27 BHK</td>\n",
       "      <td>8000</td>\n",
       "      <td>27.0</td>\n",
       "      <td>230.0</td>\n",
       "      <td>27</td>\n",
       "    </tr>\n",
       "    <tr>\n",
       "      <th>4684</th>\n",
       "      <td>Munnekollal</td>\n",
       "      <td>43 Bedroom</td>\n",
       "      <td>2400</td>\n",
       "      <td>40.0</td>\n",
       "      <td>660.0</td>\n",
       "      <td>43</td>\n",
       "    </tr>\n",
       "  </tbody>\n",
       "</table>\n",
       "</div>"
      ],
      "text/plain": [
       "                       location        size total_sqft  bath  price  bhk\n",
       "1718  2Electronic City Phase II      27 BHK       8000  27.0  230.0   27\n",
       "4684                Munnekollal  43 Bedroom       2400  40.0  660.0   43"
      ]
     },
     "execution_count": 19,
     "metadata": {},
     "output_type": "execute_result"
    }
   ],
   "source": [
    "df[df.bhk>20]"
   ]
  },
  {
   "cell_type": "code",
   "execution_count": 20,
   "id": "754311ea",
   "metadata": {},
   "outputs": [
    {
     "data": {
      "text/plain": [
       "array(['1056', '2600', '1440', ..., '1133 - 1384', '774', '4689'],\n",
       "      dtype=object)"
      ]
     },
     "execution_count": 20,
     "metadata": {},
     "output_type": "execute_result"
    }
   ],
   "source": [
    "df['total_sqft'].unique()"
   ]
  },
  {
   "cell_type": "code",
   "execution_count": 21,
   "id": "cd461946",
   "metadata": {},
   "outputs": [],
   "source": [
    "def convertrange(x):\n",
    "    temp = x.split('-')\n",
    "    if len(temp)==2:\n",
    "        return(float(temp[0]) + float(temp[1])/2)\n",
    "    try:\n",
    "        return(float(x))\n",
    "    except:\n",
    "        \n",
    "        return None"
   ]
  },
  {
   "cell_type": "code",
   "execution_count": 22,
   "id": "e8fd4ca4",
   "metadata": {},
   "outputs": [],
   "source": [
    "df['total_sqft'] = df['total_sqft'].apply(convertrange)"
   ]
  },
  {
   "cell_type": "code",
   "execution_count": 23,
   "id": "6809ea63",
   "metadata": {},
   "outputs": [
    {
     "data": {
      "text/html": [
       "<div>\n",
       "<style scoped>\n",
       "    .dataframe tbody tr th:only-of-type {\n",
       "        vertical-align: middle;\n",
       "    }\n",
       "\n",
       "    .dataframe tbody tr th {\n",
       "        vertical-align: top;\n",
       "    }\n",
       "\n",
       "    .dataframe thead th {\n",
       "        text-align: right;\n",
       "    }\n",
       "</style>\n",
       "<table border=\"1\" class=\"dataframe\">\n",
       "  <thead>\n",
       "    <tr style=\"text-align: right;\">\n",
       "      <th></th>\n",
       "      <th>location</th>\n",
       "      <th>size</th>\n",
       "      <th>total_sqft</th>\n",
       "      <th>bath</th>\n",
       "      <th>price</th>\n",
       "      <th>bhk</th>\n",
       "    </tr>\n",
       "  </thead>\n",
       "  <tbody>\n",
       "    <tr>\n",
       "      <th>0</th>\n",
       "      <td>Electronic City Phase II</td>\n",
       "      <td>2 BHK</td>\n",
       "      <td>1056.0</td>\n",
       "      <td>2.0</td>\n",
       "      <td>39.07</td>\n",
       "      <td>2</td>\n",
       "    </tr>\n",
       "    <tr>\n",
       "      <th>1</th>\n",
       "      <td>Chikka Tirupathi</td>\n",
       "      <td>4 Bedroom</td>\n",
       "      <td>2600.0</td>\n",
       "      <td>5.0</td>\n",
       "      <td>120.00</td>\n",
       "      <td>4</td>\n",
       "    </tr>\n",
       "    <tr>\n",
       "      <th>2</th>\n",
       "      <td>Uttarahalli</td>\n",
       "      <td>3 BHK</td>\n",
       "      <td>1440.0</td>\n",
       "      <td>2.0</td>\n",
       "      <td>62.00</td>\n",
       "      <td>3</td>\n",
       "    </tr>\n",
       "    <tr>\n",
       "      <th>3</th>\n",
       "      <td>Lingadheeranahalli</td>\n",
       "      <td>3 BHK</td>\n",
       "      <td>1521.0</td>\n",
       "      <td>3.0</td>\n",
       "      <td>95.00</td>\n",
       "      <td>3</td>\n",
       "    </tr>\n",
       "    <tr>\n",
       "      <th>4</th>\n",
       "      <td>Kothanur</td>\n",
       "      <td>2 BHK</td>\n",
       "      <td>1200.0</td>\n",
       "      <td>2.0</td>\n",
       "      <td>51.00</td>\n",
       "      <td>2</td>\n",
       "    </tr>\n",
       "  </tbody>\n",
       "</table>\n",
       "</div>"
      ],
      "text/plain": [
       "                   location       size  total_sqft  bath   price  bhk\n",
       "0  Electronic City Phase II      2 BHK      1056.0   2.0   39.07    2\n",
       "1          Chikka Tirupathi  4 Bedroom      2600.0   5.0  120.00    4\n",
       "2               Uttarahalli      3 BHK      1440.0   2.0   62.00    3\n",
       "3        Lingadheeranahalli      3 BHK      1521.0   3.0   95.00    3\n",
       "4                  Kothanur      2 BHK      1200.0   2.0   51.00    2"
      ]
     },
     "execution_count": 23,
     "metadata": {},
     "output_type": "execute_result"
    }
   ],
   "source": [
    "df.head()"
   ]
  },
  {
   "cell_type": "code",
   "execution_count": 24,
   "id": "52565da6",
   "metadata": {},
   "outputs": [
    {
     "data": {
      "text/plain": [
       "0         3699.810606\n",
       "1         4615.384615\n",
       "2         4305.555556\n",
       "3         6245.890861\n",
       "4         4250.000000\n",
       "             ...     \n",
       "13315     6689.834926\n",
       "13316    11111.111111\n",
       "13317     5258.545136\n",
       "13318    10407.336319\n",
       "13319     3090.909091\n",
       "Name: price_per_sqft, Length: 13320, dtype: float64"
      ]
     },
     "execution_count": 24,
     "metadata": {},
     "output_type": "execute_result"
    }
   ],
   "source": [
    "df['price_per_sqft'] = df['price']*100000/df['total_sqft']\n",
    "df['price_per_sqft']"
   ]
  },
  {
   "cell_type": "code",
   "execution_count": 25,
   "id": "9a0ca83a",
   "metadata": {},
   "outputs": [
    {
     "data": {
      "text/html": [
       "<div>\n",
       "<style scoped>\n",
       "    .dataframe tbody tr th:only-of-type {\n",
       "        vertical-align: middle;\n",
       "    }\n",
       "\n",
       "    .dataframe tbody tr th {\n",
       "        vertical-align: top;\n",
       "    }\n",
       "\n",
       "    .dataframe thead th {\n",
       "        text-align: right;\n",
       "    }\n",
       "</style>\n",
       "<table border=\"1\" class=\"dataframe\">\n",
       "  <thead>\n",
       "    <tr style=\"text-align: right;\">\n",
       "      <th></th>\n",
       "      <th>total_sqft</th>\n",
       "      <th>bath</th>\n",
       "      <th>price</th>\n",
       "      <th>bhk</th>\n",
       "      <th>price_per_sqft</th>\n",
       "    </tr>\n",
       "  </thead>\n",
       "  <tbody>\n",
       "    <tr>\n",
       "      <th>count</th>\n",
       "      <td>13274.000000</td>\n",
       "      <td>13320.000000</td>\n",
       "      <td>13320.000000</td>\n",
       "      <td>13320.000000</td>\n",
       "      <td>1.327400e+04</td>\n",
       "    </tr>\n",
       "    <tr>\n",
       "      <th>mean</th>\n",
       "      <td>1572.225941</td>\n",
       "      <td>2.688814</td>\n",
       "      <td>112.565627</td>\n",
       "      <td>2.802778</td>\n",
       "      <td>7.883254e+03</td>\n",
       "    </tr>\n",
       "    <tr>\n",
       "      <th>std</th>\n",
       "      <td>1254.823072</td>\n",
       "      <td>1.338754</td>\n",
       "      <td>148.971674</td>\n",
       "      <td>1.294496</td>\n",
       "      <td>1.064303e+05</td>\n",
       "    </tr>\n",
       "    <tr>\n",
       "      <th>min</th>\n",
       "      <td>1.000000</td>\n",
       "      <td>1.000000</td>\n",
       "      <td>8.000000</td>\n",
       "      <td>1.000000</td>\n",
       "      <td>2.678298e+02</td>\n",
       "    </tr>\n",
       "    <tr>\n",
       "      <th>25%</th>\n",
       "      <td>1100.000000</td>\n",
       "      <td>2.000000</td>\n",
       "      <td>50.000000</td>\n",
       "      <td>2.000000</td>\n",
       "      <td>4.227642e+03</td>\n",
       "    </tr>\n",
       "    <tr>\n",
       "      <th>50%</th>\n",
       "      <td>1280.000000</td>\n",
       "      <td>2.000000</td>\n",
       "      <td>72.000000</td>\n",
       "      <td>3.000000</td>\n",
       "      <td>5.416667e+03</td>\n",
       "    </tr>\n",
       "    <tr>\n",
       "      <th>75%</th>\n",
       "      <td>1690.000000</td>\n",
       "      <td>3.000000</td>\n",
       "      <td>120.000000</td>\n",
       "      <td>3.000000</td>\n",
       "      <td>7.293505e+03</td>\n",
       "    </tr>\n",
       "    <tr>\n",
       "      <th>max</th>\n",
       "      <td>52272.000000</td>\n",
       "      <td>40.000000</td>\n",
       "      <td>3600.000000</td>\n",
       "      <td>43.000000</td>\n",
       "      <td>1.200000e+07</td>\n",
       "    </tr>\n",
       "  </tbody>\n",
       "</table>\n",
       "</div>"
      ],
      "text/plain": [
       "         total_sqft          bath         price           bhk  price_per_sqft\n",
       "count  13274.000000  13320.000000  13320.000000  13320.000000    1.327400e+04\n",
       "mean    1572.225941      2.688814    112.565627      2.802778    7.883254e+03\n",
       "std     1254.823072      1.338754    148.971674      1.294496    1.064303e+05\n",
       "min        1.000000      1.000000      8.000000      1.000000    2.678298e+02\n",
       "25%     1100.000000      2.000000     50.000000      2.000000    4.227642e+03\n",
       "50%     1280.000000      2.000000     72.000000      3.000000    5.416667e+03\n",
       "75%     1690.000000      3.000000    120.000000      3.000000    7.293505e+03\n",
       "max    52272.000000     40.000000   3600.000000     43.000000    1.200000e+07"
      ]
     },
     "execution_count": 25,
     "metadata": {},
     "output_type": "execute_result"
    }
   ],
   "source": [
    "df.describe()"
   ]
  },
  {
   "cell_type": "code",
   "execution_count": 26,
   "id": "fb470eab",
   "metadata": {},
   "outputs": [
    {
     "data": {
      "text/plain": [
       "Whitefield                            541\n",
       "Sarjapur  Road                        399\n",
       "Electronic City                       304\n",
       "Kanakpura Road                        273\n",
       "Thanisandra                           237\n",
       "                                     ... \n",
       "1Channasandra                           1\n",
       "Hosahalli                               1\n",
       "Vijayabank bank layout                  1\n",
       "near Ramanashree California resort      1\n",
       "Abshot Layout                           1\n",
       "Name: location, Length: 1295, dtype: int64"
      ]
     },
     "execution_count": 26,
     "metadata": {},
     "output_type": "execute_result"
    }
   ],
   "source": [
    "df['location'] = df['location'].apply(lambda x: x.strip())\n",
    "location_counts = df['location'].value_counts()\n",
    "location_counts"
   ]
  },
  {
   "cell_type": "code",
   "execution_count": 27,
   "id": "96bbaa72",
   "metadata": {},
   "outputs": [
    {
     "data": {
      "text/plain": [
       "BTM 1st Stage                         10\n",
       "Nagadevanahalli                       10\n",
       "Basapura                              10\n",
       "Sector 1 HSR Layout                   10\n",
       "Dairy Circle                          10\n",
       "                                      ..\n",
       "1Channasandra                          1\n",
       "Hosahalli                              1\n",
       "Vijayabank bank layout                 1\n",
       "near Ramanashree California resort     1\n",
       "Abshot Layout                          1\n",
       "Name: location, Length: 1054, dtype: int64"
      ]
     },
     "execution_count": 27,
     "metadata": {},
     "output_type": "execute_result"
    }
   ],
   "source": [
    "location_count_less_10 = location_counts[location_counts<=10]\n",
    "location_count_less_10"
   ]
  },
  {
   "cell_type": "code",
   "execution_count": 28,
   "id": "0ff21316",
   "metadata": {},
   "outputs": [],
   "source": [
    "df['location'] = df['location'].apply(lambda x:'other' if x in location_count_less_10 else x)"
   ]
  },
  {
   "cell_type": "code",
   "execution_count": 29,
   "id": "3dcc329f",
   "metadata": {},
   "outputs": [
    {
     "data": {
      "text/plain": [
       "other                 2886\n",
       "Whitefield             541\n",
       "Sarjapur  Road         399\n",
       "Electronic City        304\n",
       "Kanakpura Road         273\n",
       "                      ... \n",
       "Nehru Nagar             11\n",
       "Banjara Layout          11\n",
       "LB Shastri Nagar        11\n",
       "Pattandur Agrahara      11\n",
       "Narayanapura            11\n",
       "Name: location, Length: 242, dtype: int64"
      ]
     },
     "execution_count": 29,
     "metadata": {},
     "output_type": "execute_result"
    }
   ],
   "source": [
    "df['location'].value_counts()"
   ]
  },
  {
   "cell_type": "markdown",
   "id": "57fde034",
   "metadata": {},
   "source": [
    "#  outliers"
   ]
  },
  {
   "cell_type": "code",
   "execution_count": 30,
   "id": "57019867",
   "metadata": {},
   "outputs": [
    {
     "data": {
      "text/html": [
       "<div>\n",
       "<style scoped>\n",
       "    .dataframe tbody tr th:only-of-type {\n",
       "        vertical-align: middle;\n",
       "    }\n",
       "\n",
       "    .dataframe tbody tr th {\n",
       "        vertical-align: top;\n",
       "    }\n",
       "\n",
       "    .dataframe thead th {\n",
       "        text-align: right;\n",
       "    }\n",
       "</style>\n",
       "<table border=\"1\" class=\"dataframe\">\n",
       "  <thead>\n",
       "    <tr style=\"text-align: right;\">\n",
       "      <th></th>\n",
       "      <th>total_sqft</th>\n",
       "      <th>bath</th>\n",
       "      <th>price</th>\n",
       "      <th>bhk</th>\n",
       "      <th>price_per_sqft</th>\n",
       "    </tr>\n",
       "  </thead>\n",
       "  <tbody>\n",
       "    <tr>\n",
       "      <th>count</th>\n",
       "      <td>13274.000000</td>\n",
       "      <td>13320.000000</td>\n",
       "      <td>13320.000000</td>\n",
       "      <td>13320.000000</td>\n",
       "      <td>1.327400e+04</td>\n",
       "    </tr>\n",
       "    <tr>\n",
       "      <th>mean</th>\n",
       "      <td>1572.225941</td>\n",
       "      <td>2.688814</td>\n",
       "      <td>112.565627</td>\n",
       "      <td>2.802778</td>\n",
       "      <td>7.883254e+03</td>\n",
       "    </tr>\n",
       "    <tr>\n",
       "      <th>std</th>\n",
       "      <td>1254.823072</td>\n",
       "      <td>1.338754</td>\n",
       "      <td>148.971674</td>\n",
       "      <td>1.294496</td>\n",
       "      <td>1.064303e+05</td>\n",
       "    </tr>\n",
       "    <tr>\n",
       "      <th>min</th>\n",
       "      <td>1.000000</td>\n",
       "      <td>1.000000</td>\n",
       "      <td>8.000000</td>\n",
       "      <td>1.000000</td>\n",
       "      <td>2.678298e+02</td>\n",
       "    </tr>\n",
       "    <tr>\n",
       "      <th>25%</th>\n",
       "      <td>1100.000000</td>\n",
       "      <td>2.000000</td>\n",
       "      <td>50.000000</td>\n",
       "      <td>2.000000</td>\n",
       "      <td>4.227642e+03</td>\n",
       "    </tr>\n",
       "    <tr>\n",
       "      <th>50%</th>\n",
       "      <td>1280.000000</td>\n",
       "      <td>2.000000</td>\n",
       "      <td>72.000000</td>\n",
       "      <td>3.000000</td>\n",
       "      <td>5.416667e+03</td>\n",
       "    </tr>\n",
       "    <tr>\n",
       "      <th>75%</th>\n",
       "      <td>1690.000000</td>\n",
       "      <td>3.000000</td>\n",
       "      <td>120.000000</td>\n",
       "      <td>3.000000</td>\n",
       "      <td>7.293505e+03</td>\n",
       "    </tr>\n",
       "    <tr>\n",
       "      <th>max</th>\n",
       "      <td>52272.000000</td>\n",
       "      <td>40.000000</td>\n",
       "      <td>3600.000000</td>\n",
       "      <td>43.000000</td>\n",
       "      <td>1.200000e+07</td>\n",
       "    </tr>\n",
       "  </tbody>\n",
       "</table>\n",
       "</div>"
      ],
      "text/plain": [
       "         total_sqft          bath         price           bhk  price_per_sqft\n",
       "count  13274.000000  13320.000000  13320.000000  13320.000000    1.327400e+04\n",
       "mean    1572.225941      2.688814    112.565627      2.802778    7.883254e+03\n",
       "std     1254.823072      1.338754    148.971674      1.294496    1.064303e+05\n",
       "min        1.000000      1.000000      8.000000      1.000000    2.678298e+02\n",
       "25%     1100.000000      2.000000     50.000000      2.000000    4.227642e+03\n",
       "50%     1280.000000      2.000000     72.000000      3.000000    5.416667e+03\n",
       "75%     1690.000000      3.000000    120.000000      3.000000    7.293505e+03\n",
       "max    52272.000000     40.000000   3600.000000     43.000000    1.200000e+07"
      ]
     },
     "execution_count": 30,
     "metadata": {},
     "output_type": "execute_result"
    }
   ],
   "source": [
    "df.describe()"
   ]
  },
  {
   "cell_type": "code",
   "execution_count": 31,
   "id": "95c252bb",
   "metadata": {},
   "outputs": [
    {
     "data": {
      "text/plain": [
       "count    13274.000000\n",
       "mean       579.732987\n",
       "std        392.247238\n",
       "min          0.250000\n",
       "25%        475.000000\n",
       "50%        554.000000\n",
       "75%        627.500000\n",
       "max      26136.000000\n",
       "dtype: float64"
      ]
     },
     "execution_count": 31,
     "metadata": {},
     "output_type": "execute_result"
    }
   ],
   "source": [
    "(df['total_sqft']/df['bhk']).describe()"
   ]
  },
  {
   "cell_type": "code",
   "execution_count": null,
   "id": "90cb7ac1",
   "metadata": {},
   "outputs": [],
   "source": []
  },
  {
   "cell_type": "code",
   "execution_count": 32,
   "id": "832fe4f5",
   "metadata": {},
   "outputs": [
    {
     "data": {
      "text/plain": [
       "(13320, 7)"
      ]
     },
     "execution_count": 32,
     "metadata": {},
     "output_type": "execute_result"
    }
   ],
   "source": [
    "df.shape"
   ]
  },
  {
   "cell_type": "code",
   "execution_count": 33,
   "id": "e8e08269",
   "metadata": {},
   "outputs": [
    {
     "data": {
      "text/plain": [
       "count    1.327400e+04\n",
       "mean     7.883254e+03\n",
       "std      1.064303e+05\n",
       "min      2.678298e+02\n",
       "25%      4.227642e+03\n",
       "50%      5.416667e+03\n",
       "75%      7.293505e+03\n",
       "max      1.200000e+07\n",
       "Name: price_per_sqft, dtype: float64"
      ]
     },
     "execution_count": 33,
     "metadata": {},
     "output_type": "execute_result"
    }
   ],
   "source": [
    "df.price_per_sqft.describe()"
   ]
  },
  {
   "cell_type": "code",
   "execution_count": 34,
   "id": "ba7d3a0a",
   "metadata": {},
   "outputs": [
    {
     "name": "stdout",
     "output_type": "stream",
     "text": [
      "[1056.0, 2427.800000000003, 1440.0, 1521.0, 1200.0, 1170.0, 2427.800000000003, 2427.800000000003, 1310.0, 1020.0, 1800.0, 2427.800000000003, 1000.0, 1100.0, 2250.0, 1175.0, 1180.0, 1540.0, 2427.800000000003, 1100.0, 900.0, 1755.0, 2427.800000000003, 1767.0, 900.0, 1250.0, 900.0, 1610.0, 1151.0, 1025.0, 2427.800000000003, 1075.0, 1760.0, 1693.0, 1925.0, 900.0, 1070.0, 1724.0, 1290.0, 1143.0, 1296.0, 1254.0, 900.0, 900.0, 1330.74, 900.0, 970.0, 1459.0, 900.0, 900.0, 1270.0, 1670.0, 2010.0, 1185.0, 1600.0, 1200.0, 2427.800000000003, 1500.0, 1407.0, 900.0, 2427.800000000003, 900.0, 2427.800000000003, 1160.0, 2427.800000000003, 1100.0, 1140.0, 1220.0, 1350.0, 1005.0, 900.0, 1358.0, 1569.0, 1240.0, 2089.0, 1206.0, 1150.0, 2427.800000000003, 900.0, 2427.800000000003, 1660.0, 2427.800000000003, 1326.0, 1325.0, 1499.0, 2427.800000000003, 1665.0, 900.0, 1060.0, 900.0, 1000.0, 1000.0, 1450.0, 1200.0, 1296.0, 1540.0, 2427.800000000003, 1330.0, 1200.0, 1200.0, 2427.800000000003, 900.0, 2400.0, 1007.0, 1200.0, 966.0, 1630.0, 1640.0, 900.0, 1260.0, 1800.0, 1413.0, 1116.0, 1530.0, 2427.800000000003, 2427.800000000003, 1540.0, 1436.0, 1100.0, 900.0, 1427.0, 2061.0, 2427.800000000003, 2427.800000000003, 1282.0, 1050.0, 1600.0, 945.0, 1500.0, 950.0, 1870.0, 1600.0, 900.0, 1200.0, 1535.0, 950.0, 1360.0, 1594.5, 1280.0, 1260.0, 2427.800000000003, 2427.800000000003, 1563.05, 1000.0, 1167.0, 2427.800000000003, 1828.0, 900.0, 1612.0, 1034.0, 1710.0, 957.0, 1250.0, 2427.800000000003, 1125.0, 1020.0, 1200.0, 1735.0, 2050.0, 2427.800000000003, 1350.0, 1063.0, 1904.0, 2427.800000000003, 2000.0, 1815.0, 1425.0, 1500.0, 1060.0, 1470.0, 1300.0, 900.0, 1152.0, 1350.0, 1550.0, 1500.0, 900.0, 900.0, 900.0, 900.0, 1242.0, 1700.0, 2144.0, 1704.0, 1070.0, 1846.0, 1340.0, 1025.0, 1785.0, 1200.0, 2250.0, 1550.0, 1200.0, 1800.0, 1200.0, 1327.0, 1186.0, 1783.0, 1400.0, 980.0, 1285.0, 912.0, 1225.0, 1075.0, 1260.0, 1282.0, 1909.0, 1359.0, 1207.0, 1736.0, 2427.800000000003, 1595.0, 1798.0, 1475.0, 1580.0, 1295.0, 2427.800000000003, 900.0, 1415.0, 1787.0, 1787.0, 1475.0, 2000.0, 984.0, 2390.0, 2405.0, 1080.0, 1500.0, 1900.0, 900.0, 1153.0, 1148.0, 1110.0, 1100.0, 1290.0, 1500.0, 1080.0, 1933.0, 2427.800000000003, 1060.0, 900.0, 2427.800000000003, 900.0, 1644.0, 1285.0, 1200.0, 910.0, 1577.0, 2427.800000000003, 2420.0, 900.0, 1060.0, 1270.0, 900.0, 1280.0, 1200.0, 1025.0, 1108.0, 1200.0, 2427.800000000003, 2427.800000000003, 1500.0, 1295.0, 1162.0, 1035.0, 1600.0, 1464.0, 1866.0, 900.0, 1804.0, 913.0, 1868.0, 900.0, 900.0, 1664.0, 2026.0, 1210.0, 2427.800000000003, 1762.0, 1252.0, 900.0, 1420.0, 1450.0, 1490.0, 1075.0, 1425.0, 1200.0, 1280.0, 1084.0, 1015.0, 1017.0, 1027.0, 1069.0, 1349.0, 1005.0, 1417.0, 1475.0, 950.0, 2000.0, 900.0, 1863.0, 1010.0, 1425.0, 1450.0, 1847.0, 1100.0, 900.0, 1665.0, 1664.0, 1850.0, 1438.0, 1560.0, 1350.0, 1550.0, 1140.0, 1200.0, 900.0, 1280.0, 1170.0, 1113.0, 1385.0, 1128.0, 1200.0, 1200.0, 2390.0, 2400.0, 1464.0, 1200.0, 1200.0, 1150.0, 1645.0, 1000.0, 2427.800000000003, 1192.0, 2135.0, 1173.0, 1020.0, 2427.800000000003, 1600.0, 1200.0, 1230.0, 1250.0, 1325.0, 1850.0, 900.0, 1200.0, 1350.0, 1260.0, 1800.0, 900.0, 1100.0, 1508.0, 1592.0, 1388.0, 900.0, 2000.0, 1762.0, 950.0, 2427.800000000003, 1116.0, 1308.0, 1200.0, 1500.0, 900.0, 1075.0, 900.0, 1205.0, 1075.0, 930.0, 1380.0, 2427.800000000003, 1166.0, 1050.0, 2023.71, 1200.0, 1600.0, 1935.0, 900.0, 1800.0, 1400.0, 1801.0, 1451.0, 1200.0, 1160.0, 1000.0, 950.0, 1629.0, 1580.0, 1826.0, 1245.0, 1145.0, 900.0, 1693.0, 1113.27, 1460.0, 1050.0, 1260.0, 900.0, 1656.0, 1208.0, 1910.0, 2427.800000000003, 1200.0, 1200.0, 1175.0, 1000.0, 1200.0, 2390.0, 2427.800000000003, 900.0, nan, 1185.0, 900.0, 1200.0, 1550.0, 1760.0, 1125.0, 1350.0, 1000.0, 1090.0, 1200.0, 1991.0, 1060.0, 1105.0, 985.0, 1533.0, 1590.0, 1120.0, 1069.0, 1933.0, 1194.0, 1150.0, 1240.0, 1419.0, 1200.0, 2150.0, 1450.0, 1630.0, 900.0, 1000.0, 2427.800000000003, 1250.0, 1400.0, 1670.0, 1750.0, 1404.0, 1715.0, 900.0, 1752.12, 1650.0, 1295.0, 1800.0, 1346.0, 1200.0, 1150.0, 2427.800000000003, 1190.0, 1620.0, 950.0, 2427.800000000003, 2427.800000000003, 1220.0, 900.0, 1020.0, 1100.0, 1150.0, 1760.0, 1800.0, 1070.0, 1500.0, 1440.0, 900.0, 1200.0, 1130.0, 1320.0, 1270.0, 1200.0, 2427.800000000003, 1200.0, 929.0, 1150.0, 1125.0, 900.0, 1200.0, 1464.0, 2427.800000000003, 2000.0, 1208.0, 1130.0, 1753.0, 2427.800000000003, 900.0, 1196.0, 1150.0, 1128.0, 1000.0, 1035.0, 950.0, 1075.0, 1040.0, 900.0, 1511.0, 1300.0, 1545.0, 900.0, 1062.0, 1115.0, 1000.0, 900.0, 1195.0, 1200.0, 900.0, 1246.0, 900.0, 2427.800000000003, 1600.0, 2427.800000000003, 1584.0, 2427.800000000003, 1175.0, 1595.0, 1353.0, 1599.0, 1150.0, 2427.800000000003, 1155.0, 1200.0, 1000.0, 2427.800000000003, 1867.0, 1251.0, 1028.0, 1222.0, 1170.0, 2400.0, 1385.0, 1372.0, 1282.0, 2427.800000000003, 2427.800000000003, 1135.0, 1768.0, 1325.0, 1599.0, 1500.0, 2427.800000000003, 1286.0, 2427.800000000003, 1600.0, 1915.0, 2427.800000000003, 1102.0, 1350.0, 1200.0, 1300.0, 1800.0, 950.0, 900.0, 900.0, 1780.0, 1056.0, 900.0, 1080.0, 2225.0, 1126.0, 1490.0, 2000.0, 1550.0, 1600.0, 1160.0, 2427.800000000003, 2100.0, 1404.0, 2230.0, 1544.0, 1305.0, 1230.0, 1200.0, 1460.0, 2400.0, 967.0, 900.0, 900.0, 2427.800000000003, 1578.0, 1020.0, 1020.0, 1253.0, 1180.0, 961.0, 1419.0, 1709.0, 1600.0, 900.0, 1100.0, 1430.0, 1260.0, 1630.0, 1249.0, 1450.0, 2427.800000000003, 900.0, 900.0, 1125.0, 2060.0, 2427.800000000003, 900.0, 1133.0, 1075.0, 2427.800000000003, 2427.800000000003, 1200.0, 1075.0, 1140.0, 940.0, 2160.0, 1090.0, 1500.0, 2427.800000000003, 1790.0, 1920.0, 1374.0, 1445.0, 900.0, 1500.0, 1720.0, 1400.0, 1030.0, 1200.0, 1375.0, 1050.0, 2250.0, 1000.0, 900.0, 2427.800000000003, 900.0, 1820.0, 1440.0, 2427.800000000003, 2427.800000000003, 1225.0, 2427.800000000003, 900.0, 900.0, 1180.0, 1194.0, 1500.0, 1160.0, nan, 2378.0, 1128.0, 1500.0, 1220.0, 1210.0, 1100.0, 1200.0, 2427.800000000003, 1641.0, 1200.0, 1260.0, 1720.0, 1692.5, 1210.0, 2200.0, 1075.0, 1702.0, 1630.0, 1141.0, 2072.0, 2427.800000000003, 1200.0, 1350.0, 2427.800000000003, 1180.0, 2427.800000000003, 1355.0, 900.0, 1200.0, 1640.0, 1200.0, 1190.0, 2400.0, 1019.0, 1875.0, 1250.0, 1200.0, 1140.0, 1683.0, 1515.0, 2118.0, 1380.0, 1083.0, 900.0, 2300.0, 1240.0, 1750.0, 1230.0, 1500.0, 985.0, 1500.0, 1125.0, 950.0, 2427.800000000003, 1580.0, 1092.0, 1090.0, 2264.0, 1033.0, 900.0, 1045.0, 1337.0, 1200.0, 1580.0, 1500.0, 1640.0, 1570.0, 1470.0, 1160.0, 1050.0, 1855.0, 1460.0, 1823.0, 1094.0, 1153.0, 1325.0, 1200.0, 1590.0, 1210.0, 1200.0, 1202.0, 1202.0, 1200.0, 1688.0, 1020.0, 1185.0, 1235.0, 2427.800000000003, 1077.0, 1415.0, 2330.0, 900.0, 900.0, 1155.0, 2427.800000000003, 900.0, 1100.0, 1150.0, 900.0, 1468.0, 2427.800000000003, 2280.0, 1341.0, 1279.0, 2225.0, 1185.0, 1750.0, 1152.0, 1000.0, 1300.0, 2427.800000000003, 1070.0, 1101.0, 900.0, 900.0, 1070.0, 1875.0, 900.0, 2427.800000000003, 1750.0, 1215.0, 900.0, 900.0, 1757.5, 1779.0, 1105.0, nan, 1650.0, 1694.0, 2376.0, 1975.0, 900.0, 1185.0, 900.0, 900.0, 1475.0, 1618.0, 1120.0, 2181.0, 1200.0, 900.0, 1556.0, 1179.0, 1296.0, 1275.0, 1875.0, 1400.0, 1222.0, 940.0, 1185.0, 1779.0, 1615.0, 2427.800000000003, 1056.0, 1100.0, 920.0, 1602.0, 1176.0, 900.0, 1352.0, 1717.0, 2427.800000000003, 2119.0, 1246.0, 1141.0, 1157.0, 1025.0, 900.0, 1349.0, 1566.0, 2427.800000000003, 1320.0, 1780.0, 1091.0, 2427.800000000003, 918.0, 1950.0, 1695.0, 1705.0, 1375.0, 900.0, 1447.0, 1114.0, 1450.0, 900.0, 1022.0, 1000.0, 1128.0, 1180.0, 1000.0, 1200.0, 2427.800000000003, 1339.0, 1400.0, 1040.0, 1198.0, 1200.0, 1691.0, 1075.0, 1630.0, 1240.0, 1680.0, 1665.0, 2427.800000000003, 1142.0, 1976.0, 2427.800000000003, 1853.0, 900.0, 1567.0, 1090.0, 1200.0, 2400.0, 1175.0, 1200.0, 995.0, 900.0, 900.0, 1170.0, 1225.0, 1342.0, 1345.0, 1320.0, nan, 1140.0, 1300.0, 1652.0, 2072.0, 1740.0, 1360.0, 1145.0, 1540.0, 1278.0, 900.0, 1100.0, 1200.0, 2427.800000000003, 900.0, 1015.0, 2427.800000000003, 2427.800000000003, 1356.0, 900.0, 1200.0, 1050.0, 1180.0, 1116.0, 1070.0, 1385.0, 1000.0, 1897.0, 1005.0, 1575.0, 975.0, 1904.0, 930.0, 900.0, 900.0, 2400.0, 1410.0, 2238.0, 1174.0, 2427.800000000003, 2225.0, 1250.0, 918.0, 1250.0, 1800.0, 1170.0, 1300.0, 900.0, 1710.0, 1082.0, 1001.0, 1500.0, 1590.0, 2400.0, 1554.0, 1642.5, 2427.800000000003, 900.0, 1045.0, 1019.0, 1935.0, 1135.0, 1680.0, 2427.800000000003, 2427.800000000003, 2427.800000000003, 1260.0, 1800.0, 1799.0, 2427.800000000003, 900.0, 1047.0, 1282.0, 1020.0, 1080.0, 1495.0, 2427.800000000003, 1611.0, 2427.800000000003, 1500.0, 1500.0, 2427.800000000003, 1540.0, 1639.0, 900.0, 1303.0, 1005.0, 982.5, 1305.0, 900.0, 1300.0, 1440.0, 901.0, 1725.0, 900.0, 1060.0, 1020.0, 1535.0, 900.0, 1464.0, 1350.0, 1115.0, 1175.0, 1113.0, 1200.0, 1640.0, 900.0, 1325.0, 950.0, 1396.0, 1050.0, 1825.0, 1190.0, 1220.0, 1565.0, 1891.0, 900.0, 1161.0, 966.0, 2400.0, 900.0, 900.0, 1175.0, 1425.0, 1200.0, 1200.0, 1255.0, 2112.95, 900.0, 1810.0, 1200.0, 1033.0, 1548.0, 1611.0, 1400.0, 1485.0, 2400.0, 1025.0, 900.0, 1225.0, 1256.0, 2268.0, 1100.0, 1141.0, 900.0, 1400.0, 2427.800000000003, nan, 900.0, 1175.0, 1100.0, 1843.0, 1200.0, 1460.0, 1530.0, 1467.0, 950.0, 1246.0, 900.0, 1194.0, 1358.0, 1500.0, 1420.0, 1250.0, 1280.0, 1209.0, 2427.800000000003, 1215.0, 1315.0, 1800.0, 1600.0, 1600.0, 2427.800000000003, 1563.0, 1560.0, 2169.0, 900.0, 1050.0, 2427.800000000003, 1200.0, 1140.0, 1500.0, 1560.0, 1100.0, 1260.0, 1036.0, 1662.0, 1464.0, 1234.0, 1403.0, 915.0, 2427.800000000003, 1150.0, 2427.800000000003, 900.0, 929.0, 2400.0, 1350.0, 1135.0, 1405.0, 1200.0, 2427.800000000003, 1161.0, 1290.0, 2427.800000000003, 1480.0, 2427.800000000003, 1350.0, 1580.0, 1470.0, 900.0, 1346.0, 1600.0, 900.0, nan, 1200.0, 1200.0, 1340.0, 2427.800000000003, 918.0, 1500.0, 1315.0, 2400.0, 1390.0, 1330.0, 2427.800000000003, 1824.0, 1420.0, 900.0, 1260.0, 1561.0, 900.0, 1060.0, 1120.0, 1225.0, 2144.0, 1200.0, 900.0, 1639.0, 1240.0, 1500.0, 1243.0, 1575.0, 1027.0, 1082.0, 1637.0, 1665.0, 1265.0, 1691.0, 1100.0, 900.0, 1500.0, 2427.800000000003, 1666.0, 1115.0, 1070.0, 1128.0, 1162.0, 1339.0, 1192.0, 1920.0, 1255.0, 1357.0, 1600.0, 1225.0, 2400.0, 1570.0, 1093.0, 1865.0, 1200.0, 1039.0, 1246.0, 1985.0, 1590.0, 2427.800000000003, 900.0, 1000.0, 1800.0, 1035.0, 1520.0, 1360.0, 2427.800000000003, 1117.0, 1200.0, 1330.0, 1937.0, 1128.0, 1053.0, 1198.0, 1152.0, 1200.0, 1625.0, 1397.0, 1523.0, 900.0, 900.0, 1170.0, 1200.0, 2400.0, 1480.0, 1897.0, 996.0, 1875.0, 1500.0, 2427.800000000003, 1390.0, 2172.5, 900.0, 900.0, 910.0, 1025.0, 1442.0, 1200.0, 1453.0, 2427.800000000003, 1396.5, 1281.0, 900.0, 1024.0, 1620.0, 1254.0, 1300.0, 1233.0, 1200.0, 1510.0, 950.0, 1945.0, 1008.0, 1265.0, 1255.0, 2427.800000000003, 1200.0, 1403.0, 1535.0, 1500.0, 1475.0, 1390.0, 1278.0, 1133.0, 1560.0, 2427.800000000003, 1170.0, 1200.0, 1697.0, 1651.0, 1560.0, 1192.0, 1078.0, 900.0, 1349.0, 2300.0, 1680.0, 1314.0, 1060.0, 900.0, 2427.800000000003, 2000.0, 900.0, 1621.0, 1200.0, 1484.0, 900.0, 2427.800000000003, 900.0, 900.0, 1050.0, 1617.0, 900.0, 1384.0, 1408.0, 1150.0, 1410.0, 2150.0, 2292.0, 2006.0, 1508.0, 1040.0, 1240.0, 1535.0, 1180.0, 2200.0, 1400.0, 900.0, 2427.800000000003, 1984.0, 2427.800000000003, 1960.0, 1035.0, 2150.0, 1700.0, 2427.800000000003, 1586.0, 2264.0, 2325.0, 1120.0, 2382.0, 1128.0, 1200.0, 924.0, 1600.0, 1006.0, 1200.0, 1250.0, 1200.0, 957.0, 1140.0, 1050.0, 1565.0, 1190.0, 2427.800000000003, 1558.67, 900.0, 1403.0, 1542.0, 2427.800000000003, 2427.800000000003, 1635.0, 1239.0, 1194.0, 1596.0, 1009.0, 1726.0, 1535.0, 1300.0, 2427.800000000003, 1800.0, 900.0, 2427.800000000003, 1500.0, 925.0, 2427.800000000003, 1395.0, 1415.0, 1419.0, 1121.0, 1082.0, 1100.0, 1606.0, 1650.0, 2427.800000000003, 1206.0, 1495.0, 900.0, 900.0, 1210.0, 1523.0, 1232.0, 900.0, 1355.0, 1430.0, 1275.0, 1070.0, 1200.0, 2000.0, 1200.0, 1610.0, 1140.0, 1143.0, 2427.800000000003, 1530.0, 980.0, 1485.0, 1500.0, 1280.0, 1265.0, 1132.0, 1262.0, 940.0, 1515.0, 1300.0, 1840.0, 900.0, 1655.0, 2060.0, 1730.0, 2195.0, 1650.0, 1200.0, 1079.0, 1085.0, 2427.800000000003, 1075.0, 1380.0, 1450.0, 1200.0, 2427.800000000003, 1639.0, 1200.0, 1739.0, 2427.800000000003, 935.0, 900.0, 1200.0, 1178.0, 1375.0, 1065.0, 1450.0, 999.0, 2427.800000000003, 1350.0, 1100.0, 1835.0, 2090.0, 1519.0, 1267.0, 1150.0, 1146.0, 1200.0, 1550.0, 900.0, 2200.0, 2427.800000000003, 900.0, 2427.800000000003, 1610.0, 921.0, 900.0, 2427.800000000003, 1700.0, 1020.0, 1090.0, 2427.800000000003, 1027.0, 1185.0, 900.0, 1197.0, 2427.800000000003, 920.0, nan, 1105.0, 1850.0, 1300.0, 1595.0, 2427.800000000003, 900.0, 2427.800000000003, 1300.0, 1215.0, 900.0, 1145.0, 1093.0, 1213.0, 1654.0, 1105.0, 1611.0, 1367.0, 1010.0, 900.0, 1535.0, 900.0, 982.0, 1700.0, 1330.0, 2427.800000000003, 1475.0, 1410.0, 900.0, 1614.0, 1363.0, 900.0, 1015.0, 1156.0, 1100.0, 1455.0, 930.0, 1650.0, 1200.0, 900.0, 2427.800000000003, 1890.0, 2197.0, 2427.800000000003, 1240.0, 1440.0, 900.0, 900.0, 900.0, 1693.0, 1445.0, 900.0, 1030.0, 1381.0, 1100.0, 1575.0, 1200.0, 1200.0, 1080.0, 2280.0, 1360.0, 1865.0, 1157.0, 900.0, 1405.0, 1160.0, 1600.0, 1790.0, 1128.0, 1180.0, 1450.0, 900.0, 2000.0, 1050.0, 1125.0, 1246.0, 1372.0, 1330.0, 2427.800000000003, 1300.0, 1420.0, 900.0, 1065.0, 900.0, 960.995, 1050.0, 1250.0, 900.0, 1200.0, 1756.0, 900.0, 900.0, 1200.0, 1207.0, 1765.0, 1130.0, 1532.0, 1650.0, 1200.0, 900.0, 1200.0, 1197.0, 1200.0, 1385.0, 1010.0, 2225.0, 1180.0, 1525.0, 1100.0, 1435.0, 900.0, 1200.0, 1272.0, 1205.0, 980.0, 1225.0, 1541.0, 1610.0, 1694.0, 900.0, 950.0, 1560.0, 1201.0, 1500.0, 1785.0, 1258.0, 910.0, 1297.0, 1291.0, 1070.0, 1012.0, 1260.0, 1282.0, 1843.0, 2400.0, 2427.800000000003, 2427.800000000003, 1330.0, 1400.0, 1192.0, 1000.0, 1297.0, 905.0, 1490.0, 1373.0, 1035.0, 2427.800000000003, 1010.0, 1195.0, 1750.0, 1052.0, 1180.0, 2427.800000000003, 2100.0, 2427.800000000003, 1128.0, 2427.800000000003, 1120.0, 2424.0, 1300.0, 1090.0, 2427.800000000003, 2427.800000000003, 1330.0, 1427.0, 1294.0, 1580.0, 900.0, 1808.0, 2427.800000000003, 1194.0, 900.0, 1310.0, 900.0, 2427.800000000003, 925.0, 2400.0, 1290.0, 2427.800000000003, 1390.0, 1200.0, 900.0, 1537.0, 1135.0, 1512.0, 900.0, 1230.0, 1378.0, 1277.0, 1985.0, 2427.800000000003, 1210.0, 900.0, 2427.800000000003, 1200.0, 2427.800000000003, 1464.0, 2427.800000000003, 1550.0, 2427.800000000003, 975.0, 2427.800000000003, 1690.0, 1063.0, 2427.800000000003, 2200.0, 1600.0, 1250.0, 900.0, 2427.800000000003, 1390.0, 1185.0, 1219.0, 1564.0, 2427.800000000003, 1100.0, 1300.0, 1600.0, 1600.0, 1482.0, 1000.0, 1200.0, 900.0, 1200.0, 900.0, 2400.0, 1469.0, 900.0, 1160.0, 1205.0, 1550.0, 1745.0, 1028.0, 1700.0, 1200.0, 2427.800000000003, 1100.0, 1200.0, 1269.72, 1266.0, 1060.0, 1168.0, 1552.0, 2427.800000000003, 900.0, 1080.0, 2100.0, 1300.0, 920.0, 900.0, 1310.0, 1650.0, 1515.0, 1157.0, 2400.0, 2427.800000000003, 2200.0, 1243.0, 1530.0, 2070.0, 1815.0, 2427.800000000003, 1000.0, 982.0, 1232.0, 1282.0, 900.0, 1181.0, 1075.0, 1200.0, 1616.0, 1800.0, 1200.0, 1306.0, 1626.0, 2427.800000000003, 1585.0, 1370.0, 2427.800000000003, 1495.0, 2000.0, 2400.0, 1375.0, 2427.800000000003, 1400.0, 1100.0, 995.0, 1200.0, 1150.0, 1080.0, 1645.0, 1760.0, 900.0, 1200.0, 2427.800000000003, 1410.0, 1090.0, 900.0, 1300.0, 1890.0, 1254.0, 2427.800000000003, 1275.0, 1245.0, 1170.0, 1193.0, 900.0, 1678.0, 1600.0, 1750.0, 1125.0, 2200.0, nan, 2427.800000000003, 1200.0, 1000.0, 2427.800000000003, 1320.0, 2427.800000000003, 2422.0, 1100.0, 900.0, 900.0, 900.0, 1086.5, 1595.0, 1280.0, 1700.0, 920.0, 1300.0, 1450.0, 1757.0, 900.0, 2400.0, 1240.0, 900.0, 1330.0, 1062.0, 1078.0, 1460.0, 1200.0, 1200.0, 912.0, nan, 2400.0, 2028.0, 980.0, 1000.0, 1050.0, 2427.800000000003, 1875.0, 1065.0, 1800.0, 1163.0, 1098.0, 1725.0, 2427.800000000003, 1128.0, 1320.0, 1705.0, 1418.0, 1500.0, 1100.0, 1464.0, 900.0, 2427.800000000003, 1280.0, 1420.0, 1200.0, 900.0, 1200.0, 2427.800000000003, 2000.0, 1722.0, 2427.800000000003, 2427.800000000003, 1650.0, 900.0, 914.0, 1482.0, 1724.0, 1670.0, 1184.0, 1200.0, 1200.0, 927.0, 1242.0, 1220.0, 1360.0, 2427.800000000003, 1180.0, 1697.0, 900.0, 1225.0, 1690.0, 1660.0, 1488.0, 1250.0, 1050.0, 1027.0, 1699.0, 1205.0, 900.0, 950.0, 1200.0, 1476.0, 1070.0, 2160.0, 1296.0, 1800.0, 1570.0, 1300.0, 1550.0, 900.0, 1870.0, 1650.0, 1429.0, 1167.0, 1035.0, 1188.0, 1200.0, nan, 900.0, 1194.0, 1026.0, 1400.0, 1115.0, 1200.0, 2427.800000000003, 975.0, 900.0, 1900.0, 900.0, 1101.0, 1700.0, 2427.800000000003, 1258.0, 1560.0, 2427.800000000003, 2000.0, 2427.800000000003, 1494.0, 1482.0, 900.0, 1185.0, 1100.0, 1300.0, 1225.0, 1758.0, 1145.0, 1180.0, 1260.0, 2427.800000000003, 1190.0, 1691.0, 2427.800000000003, 1305.0, 2337.0, 1200.0, 1206.0, 1350.0, 1140.0, 1250.0, 900.0, 1225.0, 900.0, 1020.0, 2100.0, 1350.0, 925.0, 1800.0, 2000.0, 1510.0, 2427.800000000003, 1614.0, 900.0, 1200.0, 900.0, 1632.0, 1041.0, 2427.800000000003, 2427.800000000003, 1530.0, 1450.0, 1200.0, 1200.0, 1508.0, 900.0, 1188.0, 2427.800000000003, 1174.0, 1350.0, 1870.0, 1072.0, 2427.800000000003, 900.0, 1345.0, 1200.0, 980.0, 1050.0, 993.0, 1300.0, 1743.0, 1204.0, 1200.0, 1480.0, 950.0, 900.0, 972.0, 1840.0, 1128.0, 900.0, 2400.0, 1045.0, 955.0, 1360.0, 1150.0, 2427.800000000003, 1115.0, 920.0, 1030.0, 1564.0, 1045.0, 1200.0, 1277.0, 2427.800000000003, 1846.0, 1100.0, 1690.0, 1200.0, 2427.800000000003, 1640.0, 1068.0, 1135.0, 1925.0, 1615.0, 900.0, 1200.0, 1150.0, 930.0, 1410.0, 900.0, 2000.0, 1354.0, 1050.0, 900.0, 1320.0, 1600.0, 2427.800000000003, 1000.0, 1130.0, 1238.0, 2204.0, 1200.0, 1364.0, 900.0, 1745.0, 1200.0, 1020.0, 1650.0, 1550.0, 1440.0, 1329.0, 916.0, 900.0, 1358.0, 1331.0, 900.0, 1050.0, 2106.0, 1718.0, 1530.0, 1206.0, 1075.0, 1200.0, 1936.0, 2172.65, 1100.0, 1260.0, 990.0, 900.0, 1117.0, 1685.0, 900.0, 1080.0, 1500.0, 1800.0, 1700.0, 900.0, 1891.0, 1400.0, 1172.0, 1400.0, 900.0, 1180.0, 2427.800000000003, 900.0, 900.0, 1550.0, 1699.0, 2025.0, 900.0, 900.0, 1146.0, 2427.800000000003, 1455.0, 900.0, 900.0, 1521.0, 1600.0, 2427.800000000003, 2427.800000000003, 1765.0, 1980.0, 1900.0, 1265.0, 1034.0, 1012.0, 1070.0, 2427.800000000003, 1270.0, 900.0, 2045.0, 1490.0, 2427.800000000003, 900.0, 900.0, 1156.0, 2017.0, 2427.800000000003, 1635.0, 2427.800000000003, 1296.0, 2400.0, 1139.0, 1230.0, 900.0, 1245.0, 1158.0, 2427.800000000003, 900.0, 900.0, 1350.0, 1670.0, 1600.0, 1307.0, 1050.0, 1703.0, 1210.0, 1025.0, 1140.0, 1343.0, 1560.0, 925.0, 1420.0, 1415.0, 1210.0, 1852.0, 1250.0, 1100.0, 1150.0, 1100.0, 1350.0, 1546.0, 1424.0, 1398.0, 1650.0, 1200.0, 1476.0, 900.0, 1322.0, 900.0, 1100.0, 2427.800000000003, 1285.0, 1150.0, 1430.0, 1350.0, 1350.0, 1185.0, 1760.0, 2400.0, 900.0, 1297.0, 1840.0, 950.0, 1200.0, 950.0, 1902.5, 1571.0, 1031.0, 1485.0, 1109.0, 2200.0, 950.0, 1200.0, 1161.0, 2350.0, 1003.0, 1350.0, 1080.0, 1255.0, 1250.0, 1700.0, 1200.0, 900.0, 1875.0, 1320.0, 2427.800000000003, 1330.0, 1220.0, 1111.0, 1197.0, 2427.800000000003, 1340.0, 1450.0, 1837.0, 1200.0, 1238.0, 1405.0, 1690.0, 1620.0, 1673.0, 1090.0, 1112.0, 1385.0, 900.0, 985.0, 1160.0, 1080.0, 1430.0, 1050.0, 2000.0, 2427.800000000003, 1533.0, 2427.800000000003, 2427.800000000003, 1750.0, 1200.0, 1352.0, 1754.0, 1560.0, 2427.800000000003, 2427.800000000003, 1470.0, 1035.0, 2400.0, 1160.0, 1100.0, 1170.0, 900.0, 1650.0, 1875.0, 900.0, 1375.0, 1235.0, 900.0, 1400.0, 1270.0, 1105.0, 1375.0, 2168.0, 1200.0, 1065.0, 2427.800000000003, 2427.800000000003, 900.0, 1095.0, 900.0, 1440.0, 900.0, 1195.0, 1200.0, 1530.0, 1708.0, 975.0, 900.0, 1200.0, 1920.0, 1200.0, 1183.0, 1140.0, 1550.0, 1110.0, 1500.0, 1105.0, 1800.0, 2427.800000000003, 1000.0, 1190.0, 1350.0, 2427.800000000003, 1929.0, 1525.0, 1775.0, 1125.0, 900.0, 1155.0, 1200.0, 1268.0, 1500.0, 900.0, 1525.0, 1060.0, 1687.0, 1847.0, 1410.0, 1075.0, 2427.800000000003, 2427.800000000003, 1500.0, 1010.0, 1875.0, 1200.0, 983.0, 1101.0, 1140.0, 1215.0, 1007.0, 2039.0, 1020.0, 1198.0, 2427.800000000003, 1470.0, 1370.0, 1316.0, 1350.0, 1050.0, 1631.275, 921.0, 1010.0, 1015.0, 1200.0, 1179.0, 1850.0, 900.0, 1605.0, 2427.800000000003, 2427.800000000003, 2427.800000000003, 2400.0, 1000.0, 1200.0, 1200.0, 1200.0, 1200.0, 1255.0, 1085.0, 1592.0, 1313.0, 1934.0, 1200.0, 2427.800000000003, 935.0, 900.0, 936.0, 1470.0, 1050.0, 1232.0, 2225.0, 1200.0, 1901.0, 1819.0, 1464.0, 2400.0, 2427.800000000003, 2427.800000000003, 1200.0, 1256.0, 1100.0, 2427.800000000003, 1435.0, 2427.800000000003, 1845.0, 2400.0, 1140.0, 1200.0, 2254.0, 1750.0, 1020.0, 900.0, 1893.0, 2427.800000000003, 900.0, 900.0, 1075.0, 2427.800000000003, 1200.0, 1233.0, 1255.0, 1200.0, 2145.0, 1500.0, 900.0, 1250.0, 1210.0, 1525.0, 900.0, 1240.0, 1245.0, 1865.0, 1606.0, 1075.0, 2200.0, 1155.0, 1520.0, 2427.800000000003, 1290.0, 2300.0, 2427.800000000003, nan, 900.0, 1340.0, 900.0, 1800.0, 987.0, 1720.0, 1040.0, 900.0, 1030.0, 2427.800000000003, 1850.0, 900.0, 1028.0, 1270.0, 1655.0, 940.0, 1050.0, 900.0, 946.0, 1726.0, 2121.0, 1404.0, 1525.0, 1025.0, 1575.0, 900.0, 1223.0, 2427.800000000003, 1197.0, 1150.0, 2427.800000000003, 1040.0, 1310.0, 1788.0, 1144.0, 1070.0, 1200.0, 1862.0, 1200.0, 970.0, 1646.0, 2427.800000000003, 1200.0, 1995.0, 2400.0, 1085.0, 1139.0, 1092.0, 1767.0, 1700.0, 1692.0, 1645.0, 1345.0, 1100.0, 1408.0, 2400.0, 1920.0, 2427.800000000003, 2072.0, 1420.0, 2040.0, 1220.0, 1200.0, 1300.0, 1150.0, 1470.0, 1063.0, 1311.0, 2427.800000000003, 900.0, 1400.0, 2200.0, 1430.0, 1060.0, 1000.0, 1760.0, 2010.0, 1480.0, 1230.0, 1300.0, 900.0, 2427.800000000003, 1100.0, 1752.12, 957.0, 1113.0, 1942.0, 1000.0, 900.0, 2427.800000000003, 900.0, 1089.0, 1800.0, 960.0, 1036.0, 1583.0, 2427.800000000003, 1100.0, 900.0, 1246.0, 900.0, 1196.0, 1697.0, 1000.0, 1567.0, 1200.0, 2427.800000000003, 950.0, 1022.0, 1018.0, 2000.0, 1322.0, 1800.0, 1460.0, 990.0, 2400.0, 1635.0, 2427.800000000003, 2427.800000000003, 2427.800000000003, 2427.800000000003, 1533.0, 1720.0, 2000.0, 1185.0, 900.0, 900.0, 1031.0, 2400.0, 2427.800000000003, 2400.0, 1330.0, 1259.0, 1570.0, 1075.0, 1216.0, 1428.0, 1160.0, 900.0, 1475.0, 1754.0, 1639.0, 1804.0, 1200.0, 1135.0, 1260.0, 1440.0, 2160.0, 900.0, 1220.0, 1200.0, 1300.0, 900.0, 1230.0, 1444.0, 924.0, 1000.0, 900.0, 1200.0, 900.0, 900.0, 1187.0, 1625.0, 1200.0, 1452.55, 2357.0, 1200.0, 1139.0, 900.0, 1660.0, 1170.0, 1448.0, 1762.0, 1105.0, 1825.0, 900.0, 1200.0, 1185.0, 1320.0, 1058.0, 1220.0, 925.0, 1200.0, 1160.0, 900.0, 1411.0, 1550.0, 2427.800000000003, 2427.800000000003, 2427.800000000003, 2427.800000000003, 2427.800000000003, 1063.0, 1077.0, 1200.0, 1500.0, 1045.0, 1290.0, 1400.0, 1600.0, 2427.800000000003, 1545.0, 1680.0, 1350.0, 950.0, 1050.0, 1305.0, 900.0, 2427.800000000003, 1100.0, 2427.800000000003, 1634.0, 1352.0, 1145.0, 1240.0, 2200.0, 1020.0, 2427.800000000003, 1168.0, 1205.0, 1195.0, 1028.0, 1175.0, 1550.0, 1826.0, 2400.0, 1603.0, 1350.0, 900.0, 1215.0, 1405.0, 1142.0, 2427.800000000003, 1870.0, 1313.0, 1945.0, 1573.0, 1255.0, 1400.0, 1235.0, 1380.0, 1500.0, 1238.0, 1465.0, 1418.0, 1650.0, 900.0, 1279.0, 1870.0, 1500.0, 2427.800000000003, 1550.0, 2427.800000000003, 1845.0, 1360.0, 1150.0, 1260.0, 1200.0, 965.0, 1350.0, 1447.0, 1229.0, 1027.0, 1153.0, 2427.800000000003, 1065.0, 1030.0, 1340.0, 2427.800000000003, 900.0, 1410.0, 1055.0, 1304.0, 2427.800000000003, 990.0, 1035.0, 998.0, 1120.0, 1300.0, 1239.0, 1403.0, 1365.0, 1165.0, 1130.0, 1776.42, 900.0, 1194.0, 1107.0, 2319.0, 1520.0, 1536.0, 2427.800000000003, 1050.0, 1850.0, 1112.0, 1535.0, 1050.0, 2400.0, 1250.0, 1187.0, 1164.0, 1395.0, 2072.0, 1450.0, 1550.0, 1315.0, 2427.800000000003, 1210.0, 1075.0, 2427.800000000003, 1215.0, 1470.0, 2427.800000000003, 1590.0, 1050.0, 1306.0, 2000.0, 1445.0, 1220.0, 2427.800000000003, 1215.0, 1920.0, 1390.0, 900.0, 900.0, 1196.0, 1550.0, 1418.0, 1655.0, 1115.0, 1170.0, 1035.0, 1306.0, 900.0, 1917.0, 1615.0, 1071.0, 1325.0, 2427.800000000003, 1400.0, 1246.0, 1215.0, 1200.0, 900.0, 1200.0, 945.0, 2427.800000000003, 1175.0, 920.0, 2427.800000000003, 1600.0, 900.0, 2400.0, 955.0, 1750.0, 1425.0, 2150.0, 1165.0, 1050.0, 1370.0, 1374.0, 1754.0, 1847.0, 1850.0, 2427.800000000003, 1187.0, 1400.0, 900.0, 1350.0, 2427.800000000003, 900.0, 1980.0, 1021.0, 1165.0, 1756.0, 1739.0, 1280.0, 1215.0, 950.0, 1082.0, 1050.0, 1080.0, 1100.0, 2427.800000000003, 1311.0, 1608.0, 1160.0, 1170.0, 1155.0, 1255.0, 1065.0, 900.0, 1936.0, 2289.0, 1100.0, 2257.0, 1055.0, 1530.0, 1700.0, 1575.0, 2427.800000000003, 1263.0, 2186.5, 1043.0, 1255.0, 2002.5, 900.0, 1550.0, 1220.0, 1900.0, 1360.0, 1100.0, 1455.0, 1035.0, 1152.0, 1299.0, 1157.0, 1050.0, 1050.0, 1246.0, 1929.0, 1285.0, 1200.0, 2427.800000000003, 1850.0, 1025.0, 1124.0, 1012.0, 2427.800000000003, 900.0, 1020.0, 1550.0, 2427.800000000003, 1410.0, 2427.800000000003, 1118.0, 1098.0, 1130.0, 1145.0, 950.0, 1051.0, 900.0, 1102.0, 1478.0, 900.0, 900.0, 900.0, 900.0, 1991.0, 1100.0, 1745.0, 1226.0, 900.0, 1100.0, 1200.0, 1450.0, 2427.800000000003, 1150.0, 1843.0, 2200.0, 1090.0, 1132.0, 1375.0, 1500.0, 900.0, 1180.0, 918.0, 900.0, 1200.0, 1372.0, 2400.0, 1728.0, 2215.0, 1200.0, 1280.0, 900.0, 1455.0, 900.0, 1500.0, 1800.0, 1525.0, 1204.0, 1225.0, 900.0, 1650.0, 900.0, 2427.800000000003, 1200.0, 1152.0, 1005.0, 1562.0, 2427.800000000003, 900.0, 1200.0, 1555.0, 1550.0, 1190.0, 1070.0, 2400.0, 1020.0, 1610.0, 900.0, 1300.0, 1420.0, 1200.0, 1069.0, 1900.0, 1655.0, 1155.0, 1300.0, 1100.0, 1030.0, 2105.0, 1700.0, 1760.0, 2427.800000000003, 1400.0, 1200.0, 912.0, 1102.0, 1535.0, 1243.0, 918.0, 1500.0, 2427.800000000003, 1476.0, 1200.0, 900.0, 1100.0, 1295.0, 900.0, 1300.0, 900.0, 1260.0, 1140.0, 1500.0, 2321.0, 1390.0, 1725.0, 2427.800000000003, 1186.0, 1230.0, 900.0, 1313.0, 900.0, 1250.0, 1200.0, 900.0, 1036.0, 2427.800000000003, 1100.0, 2427.800000000003, 1500.0, 900.0, 1015.0, 900.0, 1360.0, 2167.0, 1200.0, 1165.0, 1274.0, 1151.0, 1060.0, 1626.0, 1035.0, 1272.0, 965.0, 1600.0, 1070.0, 1570.0, nan, 900.0, 1000.0, 1200.0, 2427.800000000003, 1700.0, 1850.0, 904.0, 1121.0, 1385.0, 1270.0, 1450.0, 2400.0, 900.0, 1580.0, 1111.0, 1125.0, 977.0, 900.0, 900.0, 2427.800000000003, 1290.0, 900.0, 900.0, 900.0, 1463.0, 1000.0, 1306.0, 2401.0, 1670.0, 1875.0, 1200.0, 1804.0, 2065.0, 1225.0, 1652.5, 900.0, 1350.0, 900.0, 1495.0, 1160.0, 1680.0, 1043.0, 1200.0, 1040.0, 1357.0, 1600.0, 1225.0, 1500.0, 1130.0, 2427.800000000003, 1700.0, 1549.0, 1400.0, 1080.0, 1180.0, 900.0, 1800.0, 1225.0, 900.0, 1005.0, 1320.0, 1475.0, 2427.800000000003, 1110.0, 1300.0, 900.0, 1128.0, 1452.19, 2400.0, 2427.800000000003, 2427.800000000003, 900.0, 1243.0, 960.0, 1690.0, 900.0, 1365.0, 2427.800000000003, 1420.0, 1570.0, 900.0, 1575.0, 1418.0, 1050.0, 1065.0, 1340.0, 1610.0, 1160.0, 1092.0, 1194.0, 1455.0, 900.0, 900.0, 1896.0, 1100.0, 1350.0, 1355.0, 1128.0, 1350.0, 2427.800000000003, 1493.0, 1098.0, 1900.0, 1460.0, 2350.0, 1600.0, 1091.0, 1180.0, 1366.0, 1685.0, 1260.0, 2427.800000000003, 1330.0, 1200.0, 1346.0, 900.0, 2199.0, 1850.0, 2350.0, 900.0, 900.0, 1194.0, 2427.800000000003, 2427.800000000003, 900.0, 2250.0, 1352.0, 2002.0, 2427.800000000003, 1060.0, 1419.59, 1196.0, 1220.0, 1595.0, 1260.0, 1100.0, 1550.0, 1180.0, 2427.800000000003, 1662.0, 1285.0, 1080.0, 1862.0, 1419.0, 1410.0, 1560.0, 1100.0, 1634.0, 2427.800000000003, 1150.0, 1100.0, 1616.0, 1392.0, 1798.0, 1675.0, 900.0, 2000.0, 900.0, 1700.0, 1248.0, 1147.0, 1100.0, 1527.0, 2400.0, 900.0, 1100.0, 1118.0, 1476.0, 2100.0, 1215.0, 1332.0, 1350.0, 900.0, 1243.0, 1105.0, 1500.0, 1200.0, 1251.0, 900.0, 1400.0, 1800.0, 1703.0, 2427.800000000003, 1250.0, 933.0, 900.0, 1262.0, 915.0, 1370.0, 1210.0, 2392.0, 1500.0, 1065.0, 2427.800000000003, 1515.0, 1800.0, 1445.0, 1300.0, 989.0, 1300.0, 1185.0, 1350.0, 1045.0, 1205.0, 1260.0, 1320.0, 1500.0, 1250.0, 1199.0, 1385.0, 1222.0, 1149.0, 2180.0, 1200.0, 2427.800000000003, 1200.0, 1818.0, 1070.0, 1640.0, 1350.0, 900.0, 1430.0, 2427.800000000003, 1500.0, 1084.0, 1186.0, 1255.0, 2427.800000000003, 1541.0, 2427.800000000003, 1295.0, 1000.0, 2427.800000000003, 1370.0, 1100.0, 2427.800000000003, 1370.0, 1370.0, 1200.0, 2000.0, 2427.800000000003, 1200.0, 2400.0, 1220.0, 1950.0, 1178.0, 1286.0, 1160.0, 918.0, 1563.0, 1326.0, 1350.0, 2427.800000000003, 1240.0, 1325.0, 1100.0, 2427.800000000003, 1605.0, 2427.800000000003, 1260.0, 1553.0, 1280.0, 1550.0, 1445.0, 1550.0, 1515.0, 1332.0, 1652.0, 1570.0, 2427.800000000003, 900.0, 1200.0, 2427.800000000003, 1200.0, 1650.0, 900.0, 2427.800000000003, 1750.0, 1053.0, 1100.0, 1665.0, 2427.800000000003, 2427.800000000003, 1447.0, 1012.0, 1900.0, 1308.0, 2427.800000000003, 1351.0, 1000.0, 1200.0, 1140.0, 2427.800000000003, 1250.0, 1290.0, 1424.0, 1320.0, 1662.0, 2427.800000000003, 1200.0, 1975.0, 1295.0, 1777.0, 1900.0, 1576.0, 1020.0, 2100.0, 900.0, 1167.0, 1000.0, 1220.0, 2350.0, 1259.0, 2000.0, 1800.0, 1991.0, 1665.0, 1234.0, 1340.0, 1170.0, 995.0, 1075.0, 1025.0, 2427.800000000003, 2000.0, 2427.800000000003, 1325.0, 1314.0, 2265.0, 2427.800000000003, 1026.0, 1200.0, 2220.0, 1727.5, 1420.0, 1888.0, 1300.0, 1216.0, 2427.800000000003, 1559.0, 1290.0, 2400.0, 905.0, 1069.0, 900.0, 1900.0, nan, 1300.0, 1115.0, 2409.0, 2150.0, 1305.0, 1252.0, 2400.0, 1200.0, 1750.0, 900.0, 1375.0, 1313.0, 2427.800000000003, 1693.0, 1160.0, 1200.0, 1255.0, 1000.0, 900.0, 1700.0, 1875.0, 1700.0, 1749.0, 1500.0, 1175.0, 1280.0, 1200.0, 1610.0, 1070.0, 1200.0, 1127.0, 1210.0, 900.0, 2427.800000000003, 1364.0, 2268.0, 1150.0, 1146.0, 1345.0, 1110.0, 900.0, 1156.0, 1247.0, 1058.0, 950.0, 900.0, 900.0, 1520.0, 1215.0, 900.0, 2350.0, 1050.0, 1672.0, 2427.800000000003, 1500.0, 1400.0, nan, 2427.800000000003, 920.0, 1200.0, 1250.0, 1817.0, 2043.0, 1140.0, 2427.800000000003, 1464.0, 1468.0, 1555.0, 1200.0, 1150.0, 970.0, 2427.800000000003, 1166.0, 2427.800000000003, 1350.0, 900.0, 1300.0, 1190.0, 1495.0, 1224.0, 1350.0, 940.0, 1100.0, 1300.0, 1480.0, 1105.0, 2427.800000000003, 1517.0, 2427.800000000003, 1615.0, 1500.0, 1082.0, 1365.0, 1000.0, 1392.0, 1086.0, 1586.0, 1100.0, 1065.0, 1500.0, 1575.0, 1975.0, 900.0, 1745.0, 1223.0, 1200.0, 1200.0, 900.0, 1351.0, 1355.0, 2427.800000000003, 1588.0, 900.0, 900.0, 2427.800000000003, 1370.0, 1500.0, 2280.0, 1100.0, 1247.0, 2000.0, 1020.07, 1033.0, 1460.0, 1150.0, 2427.800000000003, 1141.0, 2427.800000000003, 2427.800000000003, 1665.0, 1295.0, 1230.0, 1080.0, 1000.0, 2400.0, 937.0, 1708.0, 1697.0, 2427.800000000003, 900.0, 1350.0, 2245.0, 1083.0, 1460.0, 1084.0, 1035.0, 2400.0, 900.0, 950.0, 1285.0, 2000.0, 1200.0, 1070.0, 1801.0, 1697.0, 1199.0, 2300.0, 1340.0, 2427.800000000003, 900.0, 1125.0, 1200.0, 1050.0, 956.0, 1000.0, 1596.0, 1200.0, 1296.0, 1200.0, 1639.0, 1219.0, 1200.0, 1218.0, 920.0, 2427.800000000003, 900.0, 1427.0, 1270.0, 920.0, 2427.800000000003, 1740.0, 1355.0, 1530.0, 1372.0, 2363.0, 2427.800000000003, 1950.0, 900.0, 900.0, 1270.0, 1380.0, 1339.0, 1130.0, 1085.0, 1430.0, 1451.5, 2427.800000000003, 1490.0, 1650.0, 1286.0, 925.0, 2427.800000000003, 1000.0, 1215.0, 1200.0, 1336.0, 900.0, 1200.0, 900.0, 1600.0, 1200.0, 2427.800000000003, 2427.800000000003, 2400.0, 1143.0, 1470.0, 1584.0, 1785.0, 2292.0, 1460.0, 1500.0, 1200.0, 2427.800000000003, 1230.0, 900.0, 1480.0, 1220.0, 1570.0, 2427.800000000003, 1665.0, 1350.0, 2427.800000000003, 1100.0, 1350.0, 1719.0, 900.0, 1011.0, 2400.0, 1680.0, 1069.0, 900.0, 1520.0, 1350.0, 1760.0, 900.0, 1231.0, 1174.0, 1560.0, 1464.0, 2200.0, 900.0, 1750.0, 2024.0, 1500.0, 2100.0, 2408.0, 1080.0, 2070.0, 1020.0, 1500.0, 1575.0, 2427.800000000003, 1175.0, 1030.0, 1440.0, 1500.0, 1380.0, 1200.0, 900.0, 2240.0, 1584.01, 1340.0, 1800.0, 1200.0, 900.0, 925.0, 1230.0, 1200.0, 1125.0, 1100.0, 2400.0, 1400.0, 1200.0, 1858.0, 1260.0, 2427.800000000003, 1185.0, 1200.0, 1255.0, 2427.800000000003, 1335.0, 1999.0, 1200.0, 1397.0, 1200.0, 2427.800000000003, 1200.0, 1616.0, 1200.0, 1270.0, 1140.0, 900.0, 1200.0, 900.0, 1205.47, 1200.0, 1700.0, 900.0, 1090.0, 2427.800000000003, 2400.0, 923.0, 2427.800000000003, 1050.0, 1495.0, 2405.0, 1485.0, 1033.0, 1400.0, 900.0, 944.0, 2427.800000000003, 1216.0, 1100.0, 1743.0, 1274.0, 2427.800000000003, 1512.0, 2427.800000000003, 1650.0, 1875.0, 1350.0, 1219.0, 1200.0, 2400.0, 1141.0, 1151.0, 900.0, 915.0, 2427.800000000003, 1115.0, 2072.0, 1200.0, 1300.0, 1457.0, 1262.0, 1196.0, 900.0, 900.0, 1160.0, 1115.0, 1315.0, 1500.0, 1127.0, 1397.0, 1173.0, 1090.0, 2427.800000000003, 1230.0, 2427.800000000003, 900.0, 1868.0, 1689.28, 900.0, 1425.0, 1200.0, 1350.0, 2427.800000000003, 1310.0, 2427.800000000003, 970.0, 1397.0, 1157.0, 1125.0, 1157.0, 1241.0, 900.0, 2427.800000000003, 2340.0, 900.0, 2427.800000000003, 1200.0, 1910.0, 1139.0, 2427.800000000003, 1033.0, 1168.0, 900.0, 1340.0, 1405.0, 1800.0, 1750.0, 1360.0, 900.0, 985.0, 1300.0, 1850.0, 1490.0, 900.0, 1130.0, 1080.0, 2427.800000000003, 1410.0, 1375.0, 1290.0, 1318.0, 1128.0, 2427.800000000003, 1051.0, 2427.800000000003, 2400.0, 1327.0, 2427.800000000003, 1301.0, 900.0, 1200.0, 1500.0, 2427.800000000003, 1350.0, 1000.0, 984.0, 1819.18, 900.0, 1355.0, 2145.0, 2427.800000000003, 1118.0, 910.0, 1250.0, 1304.0, 1615.0, 1400.0, 1070.0, 2427.800000000003, 1132.0, 2000.0, 2400.0, 900.0, 1090.0, 1500.0, 2059.0, 900.0, 1447.0, 1269.0, 2427.800000000003, 1070.0, 1150.0, 1208.0, 1185.0, 1200.0, 900.0, 1015.0, 900.0, 1060.0, 900.0, 902.0, 900.0, 1175.0, 1365.0, 984.0, 2427.800000000003, 1475.0, 1300.0, 1200.0, 1453.0, 1550.0, 1666.0, 1410.0, 2427.800000000003, 1845.0, 1676.0, 1137.0, 1360.0, 1374.0, 1700.0, 2427.800000000003, 2145.0, 2400.0, 2170.0, 1080.0, 1790.0, 900.0, 1270.0, 1033.0, 1000.0, 2427.800000000003, 1240.0, 1650.0, 900.0, 1500.0, 1730.0, 1915.0, 1545.0, 1865.0, 1150.0, 1200.0, 963.0, 1200.0, 2427.800000000003, 1700.0, 1682.0, 1371.0, 901.0, 900.0, 1730.0, 1200.0, 1500.0, 2427.800000000003, 2427.800000000003, 1203.0, 1357.0, 1600.0, 900.0, 1665.0, 1400.0, 900.0, 900.0, 1444.0, 1277.0, 1521.0, 1134.0, 995.0, 2427.800000000003, 1325.0, 2427.800000000003, 1525.0, 1320.0, 900.0, 1858.0, 1150.0, 900.0, 1571.0, 1445.0, 1590.0, 902.0, 2238.0, 1090.0, 1712.0, 1088.0, 1575.0, 2150.0, 1920.0, 1000.0, 1100.0, 1089.0, 1106.0, 927.0, 1339.0, 923.0, 2427.800000000003, 1175.0, 975.0, 2400.0, 1330.0, 1183.0, 1758.0, 1200.0, 1255.0, 900.0, 1100.0, 1170.0, 2400.0, 1530.0, 1420.0, 1200.0, 1045.0, 1591.0, 1680.0, 900.0, 1055.0, 1918.0, 1280.0, 1560.0, 1145.0, 2106.0, 1801.0, 1200.0, 1718.0, 1306.0, 1320.0, 1350.0, 2427.800000000003, 2427.800000000003, 1344.0, 1893.0, 1107.0, 1200.0, 1190.0, 1000.0, 2400.0, 1000.0, 2113.0, 1100.0, 1200.0, 1884.0, 1110.0, 1027.0, 1250.0, 1470.0, 1150.0, 1200.0, 900.0, 1400.0, 1195.0, 1302.0, 1583.0, 1488.0, 900.0, 1385.0, 2427.800000000003, 1600.0, 1150.0, 2427.800000000003, 1263.0, 1200.0, 1299.0, 1330.0, 1282.0, 1853.0, 900.0, 1600.0, 1256.0, 1390.0, 1550.0, 1200.0, 919.0, 1625.0, 1195.0, 2400.0, 1159.0, 1386.0, 1197.0, 2427.800000000003, 2427.800000000003, 1295.0, 1310.0, 1132.0, 2350.0, 2400.0, 1645.0, 1200.0, 2427.800000000003, 1937.0, 1015.0, 1080.0, 1350.0, 1149.0, 1185.0, 1720.0, 2080.0, 1500.0, 1566.0, 2386.0, 1500.0, 1290.0, 1531.0, 1839.0, 2427.800000000003, 1400.0, 900.0, 1140.0, 1948.5, 2000.0, 1100.0, 1200.0, 1618.0, 2427.800000000003, 1315.0, 1141.0, 1080.0, 1200.0, 1111.0, 1022.0, 1275.0, 900.0, 1224.0, 1135.0, 1050.0, 1535.0, 1392.0, 1050.0, 1513.0, 1621.0, 900.0, 1205.0, 1355.0, 1250.0, 1650.0, 1200.0, 1400.0, 900.0, 1500.0, 2427.800000000003, 1079.0, 1170.0, 1104.0, 950.0, 2427.800000000003, 1650.0, 1559.0, 1100.0, 1750.0, 1215.0, 1868.0, 1130.0, 1570.0, 1691.0, 2427.800000000003, 1225.0, 1690.0, 1418.0, 1896.0, 900.0, 900.0, 900.0, 900.0, 900.0, 908.0, 2427.800000000003, 2427.800000000003, 2400.0, 1400.0, 1092.0, 1255.0, 1500.0, 1296.0, 925.0, 1023.0, 900.0, 1020.0, 1530.0, 1650.0, 1605.0, 1925.0, 1190.0, 1374.0, 1140.0, 1725.0, 1075.0, 1574.0, 965.0, 1550.0, 1205.0, 1082.0, 1215.0, 2427.800000000003, 1200.0, 1500.0, 2360.0, 2427.800000000003, 1452.0, 1329.0, 1125.0, 1200.0, 1350.0, 1875.0, 2427.800000000003, 1200.0, 1220.0, 1255.0, 1904.0, 1329.0, 1200.0, 2135.0, 2427.800000000003, 900.0, 2427.800000000003, 2427.800000000003, 900.0, 2427.800000000003, 1500.0, 1880.0, 1440.0, 1575.0, 1630.0, 1180.0, 1090.0, 1020.0, 2425.0, 1097.0, 1070.0, 1000.0, 1120.0, 1150.0, 1900.0, 1141.0, 937.0, 1075.0, 1000.0, 1450.0, 900.0, 936.0, 1280.0, 1050.0, 1350.0, 1325.0, 1174.0, 1890.0, 900.0, 900.0, 1304.0, 1653.0, 1075.0, 1212.0, 1100.0, 2427.800000000003, 1200.0, 1140.0, 1200.0, 1532.0, 2427.800000000003, 1531.0, 1270.0, 1325.0, 1200.0, 1156.0, 2000.0, 1260.0, 1934.0, 1060.0, 1476.0, 1185.0, 1265.0, 2427.800000000003, 1196.0, 1280.0, 900.0, 1175.0, 1850.0, 2400.0, 1195.0, 2000.0, 900.0, 900.0, 1180.0, 1050.0, 1400.0, 2360.0, 1030.0, 1512.0, 929.0, 1252.0, 1485.0, 1124.0, 2400.0, 1407.0, 1482.0, 1163.0, 1570.0, 2427.800000000003, 900.0, 2000.0, 1352.0, 1152.0, 1575.0, 1965.0, 1300.0, 900.0, 957.0, 1740.0, 1080.0, 1060.0, 975.0, 1150.0, 1738.0, 1250.0, 1788.0, 1151.0, 1300.0, 1150.0, 1380.0, 1645.0, 1141.0, 1175.0, 1355.0, 1150.0, 2427.800000000003, 1000.0, 1007.0, 2427.800000000003, 1436.0, 2427.800000000003, 2372.0, 1500.0, nan, 1200.0, 1016.0, 1100.0, 1080.0, 1070.0, 1532.0, 1040.0, 2427.800000000003, 1675.5, 1430.0, 1160.0, 2427.800000000003, 2100.0, 1190.0, 1827.0, 1210.0, 1500.0, 1050.0, 1251.0, 1600.0, 1128.0, 1820.0, 2072.0, 1510.0, 1925.0, 2427.800000000003, 2072.0, 1000.0, 1752.0, 960.0, 1180.0, 2270.0, 900.0, 1200.0, 1180.0, 1300.0, 1157.0, 1300.0, 1305.0, 2006.0, 1290.0, 1170.0, 971.0, 1400.0, 1200.0, 1155.0, 1725.0, 900.0, 2427.800000000003, 1112.0, 1178.0, 1274.0, 915.0, 1650.0, 900.0, 1540.0, 1206.0, 1645.0, 1200.0, 1200.0, 2342.0, 1200.0, 1056.0, 2427.800000000003, 1450.0, 1161.0, 1097.0, 900.0, 1715.0, 2300.0, 1200.0, 1080.0, 1200.0, 2400.0, 1400.0, 1500.0, 900.0, 1230.0, 1640.0, 1700.0, 1478.0, 2427.800000000003, 1020.0, 1200.0, 1275.0, 1600.0, 1110.0, 1627.86, 900.0, 2427.800000000003, 1133.0, 1182.0, 1500.0, 2427.800000000003, 1200.0, 1128.0, 2427.800000000003, 900.0, 1100.0, 900.0, 2062.0, 1874.0, 900.0, 1171.0, 2020.0, 1059.0, 1315.0, 1760.0, 1200.0, 1192.0, 1645.0, 1250.0, 971.0, 1340.0, 2388.0, 1369.1, 1355.0, 1150.0, 1938.0, 2427.800000000003, 1636.0, 1430.0, 2000.0, 993.0, 1260.0, 1700.0, 1270.0, 1500.0, 2300.0, 2427.800000000003, 1650.0, 1109.0, 1280.0, 2427.800000000003, 1200.0, 1600.0, 1462.0, 900.0, 930.0, 2427.800000000003, 1200.0, 2427.800000000003, 2427.800000000003, 1418.0, 2427.800000000003, 1125.0, 1825.0, 1320.0, 2427.800000000003, 1490.0, 1650.0, 900.0, 1400.0, 2427.800000000003, 2427.800000000003, 2427.800000000003, 1150.0, 1200.0, 965.0, 900.0, 1100.0, 1180.0, 1145.0, 1027.0, 1215.0, 1200.0, 1015.0, 2400.0, 2427.800000000003, 2427.800000000003, 1076.0, 1300.0, 1300.0, 1512.0, 1053.4, 900.0, 1153.0, 2080.0, 1255.0, nan, 1583.0, 1505.0, 1365.0, 1200.0, 1810.0, 900.0, 975.0, 1250.0, 1530.0, 1300.0, 1115.0, 1308.0, 1194.0, 1490.0, 2427.800000000003, 1592.0, 1222.0, 1267.0, 900.0, 2427.800000000003, 2427.800000000003, 1200.0, 1698.0, 1500.0, 2000.0, 1152.0, 900.0, 900.0, 1410.0, 1419.0, 1200.0, 1800.0, 990.0, 1016.0, 1100.0, 900.0, 1095.0, 2000.0, 1444.0, 1415.0, 1500.0, 1600.0, 1105.0, 1225.0, 2427.800000000003, 1080.0, 2400.0, 1856.0, 1464.0, 2100.0, 1150.0, 1200.0, 2427.800000000003, 1485.0, 2427.800000000003, 1200.0, 1036.0, 2427.800000000003, 1400.0, 1110.0, 1150.0, 900.0, 1200.0, 1200.0, 2283.0, 1790.0, 1453.0, 1400.0, 1400.0, 1700.0, 1591.0, 1515.0, 2427.800000000003, 975.0, 1382.0, 1750.0, 1533.0, 2427.800000000003, 1100.0, 2427.800000000003, 1500.0, 1391.0, 1160.0, 900.0, 2400.0, 1200.0, 2427.800000000003, 1482.0, 1405.0, 1190.0, 1174.0, 1155.0, 1411.0, 900.0, 1000.0, 923.0, 1000.0, 1276.0, 1460.0, 1355.0, 900.0, 1200.0, 1750.0, 1200.0, 900.0, 2200.0, 1594.0, 1790.0, 1020.0, 2427.800000000003, 1037.0, 1345.0, 1070.0, 2427.800000000003, 1385.0, 1207.0, 1140.0, 1220.0, 2427.800000000003, 2427.800000000003, 1965.0, 1760.0, 1225.0, 1075.0, 1000.0, 1891.0, 1322.0, 1095.0, 2427.800000000003, 1045.0, 1545.0, 1996.0, 1125.0, 1560.0, 2000.0, 2427.800000000003, 900.0, 1350.0, 2275.0, 1350.0, 1464.0, 1570.0, 900.0, 1680.0, 1400.0, 1310.0, 2427.800000000003, 1175.0, 1428.0, 900.0, 2427.800000000003, 1194.0, 900.0, 1080.0, 1200.0, 1200.0, 1200.0, 1320.0, 1842.0, 1146.0, 900.0, 1048.0, 1801.0, 1232.0, 1150.0, 1868.0, 1445.0, 1466.0, 1730.0, 2427.800000000003, 1185.0, 2427.800000000003, 2400.0, 1185.0, 1150.0, 2000.0, 900.0, 1075.0, 1760.0, 1600.0, 910.0, 1000.0, 1215.0, 1734.0, 1280.0, 1113.0, 1272.0, 1240.0, 900.0, 1100.0, 900.0, 2427.800000000003, 1200.0, 2427.800000000003, 2427.800000000003, 2427.800000000003, 2427.800000000003, 1500.0, 1200.0, 1096.0, 900.0, 1094.0, 1100.0, 2427.800000000003, 2427.800000000003, 1145.0, 1550.0, 1830.0, 1746.0, 1280.0, 918.0, 900.0, 1305.0, 1207.0, 1678.0, 950.0, 1200.0, 1070.0, 1732.46, 1639.0, 1360.0, 2427.800000000003, 2427.800000000003, 900.0, 1656.0, 985.0, 1999.0, 1050.0, 1440.0, 1600.0, 1253.0, 1200.0, 1360.0, 1086.0, 1655.0, 2427.800000000003, 1418.0, 1270.0, 1410.0, 1150.0, 900.0, 1440.0, 1200.0, 1200.0, 1410.0, 1200.0, 900.0, 900.0, 1060.0, 2427.800000000003, 1200.0, 1200.0, 1917.0, 950.0, 2427.800000000003, 1250.0, 1235.0, 900.0, 2427.800000000003, 1200.0, 1400.0, 1225.0, 1220.0, 900.0, 1880.0, 1200.0, 1550.0, 1893.0, 1650.0, 1113.0, 1500.0, 1800.0, 1586.0, 2427.800000000003, 1541.0, 1830.0, 1200.0, 1800.0, 1015.0, 1120.0, 900.0, 1350.0, 900.0, 1900.0, 1200.0, 2427.800000000003, 1075.0, 1290.0, 1200.0, 1150.0, 1360.0, 2427.800000000003, 935.0, 1730.0, 1260.0, 900.0, 2427.800000000003, 950.0, 900.0, 2427.800000000003, 2427.800000000003, 900.0, 1991.0, 1115.0, 1900.0, 1109.0, 2340.0, 1200.0, 2427.800000000003, 1005.0, 900.0, 1394.0, 2138.0, 1550.0, 1300.0, 1265.0, 1140.0, 1050.0, 1100.0, 1012.0, 1600.0, 1326.0, 1654.0, 1705.0, 1070.0, 1700.0, 910.2, 1140.0, 2427.800000000003, 2254.0, 945.0, 2427.800000000003, 1350.0, 900.0, 1110.0, 900.0, 1025.0, 1758.0, 2427.800000000003, 1342.0, 1800.0, 2427.800000000003, 1140.0, 1608.0, 1645.0, 1410.0, 1200.0, 1275.0, 2427.800000000003, 909.0, 1200.0, 1080.0, 1200.0, 1092.0, 1932.0, 1156.0, 924.0, 1330.0, 1917.0, 985.0, 2400.0, 1800.0, 1290.0, 900.0, 1800.0, 1360.0, 1785.0, 2427.800000000003, 1645.0, 1235.0, 900.0, 900.0, 1440.0, 1215.0, 900.0, 1525.0, 1000.0, 1255.0, 1560.0, 2100.0, 1620.0, 1595.0, 1095.0, 900.0, 2182.0, 1418.0, 1900.0, 2427.800000000003, 1070.0, 2000.0, 2400.0, 900.0, 1645.0, 2400.0, 900.0, 2427.800000000003, 2400.0, 2416.0, 919.0, 1725.0, 1346.0, 1070.0, 1225.0, 900.0, 900.0, 1310.0, 1190.0, 1645.0, 1350.0, 1404.0, 1105.0, 900.0, 1650.0, 1100.0, 2100.0, 1948.0, 1464.0, 1210.0, 2427.800000000003, 1252.0, 1200.0, 2427.800000000003, 2427.800000000003, 1300.0, 1130.0, 1200.0, 1690.0, 2427.800000000003, 950.0, 1020.0, 2107.0, 1735.0, 915.0, 1450.0, 2215.0, 2427.800000000003, 1804.0, 1600.0, 1280.0, 1255.0, 1320.0, 1257.0, 1240.0, 1200.0, 1850.0, 1255.0, 900.0, 1789.0, 900.0, 900.0, 900.0, 1155.0, 1235.0, 2427.800000000003, 1025.0, 1395.0, 1530.0, 1252.0, 1081.0, 1255.0, 2062.0, 1220.0, 1408.0, 1180.0, 900.0, 1230.0, 1035.0, 2427.800000000003, 1300.0, 1100.0, 1216.0, 1450.0, 900.0, 1385.0, 1200.0, 1310.0, 1043.0, 1320.0, 1900.0, 1140.0, 1100.0, 1586.0, 975.0, 1365.0, 1263.0, 1565.0, 1163.0, 2427.800000000003, 2320.0, 1750.0, 1143.0, 1936.0, 900.0, 900.0, 1402.0, 2427.800000000003, 1000.0, 1000.0, 900.0, 1680.0, 2422.0, 1145.0, 1190.0, 1145.0, 1575.0, 2427.800000000003, 1200.0, 1500.0, 2427.800000000003, 1583.0, 900.0, 950.0, 1041.0, 1085.0, 1070.0, 1165.0, 1000.0, 1169.0, 1150.0, 1840.0, 1550.0, 997.0, 1457.0, 1000.0, 1000.0, 1500.0, 958.0, 1165.0, 1200.0, 1787.0, 1288.0, 1430.0, 2427.800000000003, 900.0, 900.0, 1200.0, 1500.0, 1230.0, 900.0, 1220.0, 1110.0, 2100.0, 1380.0, 1690.0, 1130.0, 1213.0, 900.0, 1199.0, 2427.800000000003, 2427.800000000003, 900.0, 900.0, 1804.0, 1710.0, 1030.0, 1220.0, 1530.0, 1200.0, 2000.0, 900.0, 1751.0, 900.0, 1255.0, 1778.0, 1100.0, 1480.0, 1358.0, 900.0, 1197.0, 1200.0, 1705.0, 1310.0, 1132.0, 1200.0, 900.0, 1575.0, 1302.0, 1800.0, 2006.8, 1100.0, 2400.0, 900.0, 900.0, 1590.0, 1140.0, 1090.0, 1922.0, 965.0, 900.0, 1062.0, 1533.0, 1358.0, 1108.0, 1197.0, 1190.0, 2427.800000000003, 1749.0, 1750.0, 1691.0, 1449.0, 2305.0, 1400.0, 1310.0, 1100.0, 1230.0, 1750.0, 1450.0, 1810.0, 1246.0, 1420.0, 2427.800000000003, 1450.0, 1200.0, 1367.0, 2254.0, 1160.0, 1200.0, 1711.0, 900.0, 1120.0, 950.0, 1560.0, 1250.0, 1225.0, 1200.0, 1340.0, 1846.0, 1155.0, 1205.0, 1140.0, 1140.0, 1300.0, 1051.0, 1134.0, 2427.800000000003, 2427.800000000003, 1135.0, 1745.0, 900.0, 1665.0, 1220.0, 1868.0, 900.0, 2300.0, 1210.0, 1351.0, 1636.0, 2400.0, 1464.0, 900.0, 1339.0, 2370.0, 1530.0, 1100.0, 1350.0, 1290.0, 1220.0, 1846.0, 1847.0, 2427.800000000003, 1430.0, 935.0, 1350.0, 900.0, 1590.0, 1286.0, 1141.0, 1554.0, 2427.800000000003, 2427.800000000003, 1749.0, 2250.0, 1140.0, 1632.0, 1000.0, 1065.0, 1520.0, 1075.0, 900.0, 1539.0, 1342.0, 1004.0, 1295.0, 1098.0, 1070.0, 1016.0, 1450.0, 900.0, 2427.800000000003, 1080.0, 1046.0, 1950.0, 1610.0, 2427.800000000003, 1151.0, 1125.0, 992.0, 1000.0, 2400.0, 1850.0, 1174.0, 2427.800000000003, 1100.0, 1095.0, 2427.800000000003, 900.0, 1082.0, 1350.0, 1314.0, 1290.0, 1010.0, 2200.0, 1636.0, 1050.0, 1200.0, 1520.0, 2427.800000000003, 1067.0, 1060.0, 955.0, 1418.0, 1200.0, 900.0, 1366.0, 1090.0, 1250.0, 2427.800000000003, 950.0, 1470.0, 1250.0, 900.0, 1494.0, 1445.0, 1397.0, 900.0, 900.0, 1170.0, 2427.800000000003, 1205.0, 1224.0, 900.0, 1153.0, 2400.0, 2427.800000000003, 1200.0, 1450.0, 1139.0, 1530.0, 900.0, 1575.0, 900.0, 1120.0, 1700.0, 1090.0, 1897.0, 1200.0, 900.0, 1437.0, 1856.0, 1500.0, 1036.0, 2427.800000000003, 1125.0, 1320.0, 2215.0, 900.0, 1730.0, 900.0, 1804.0, 1795.0, 1050.0, 2100.0, 1199.0, 1350.0, 1100.0, 1000.0, 1254.0, 900.0, 940.0, 1280.0, 2155.0, 2427.800000000003, 2427.800000000003, 1255.0, 1388.0, 905.0, 1176.0, 1390.0, 2400.0, 1160.0, 2427.800000000003, 1200.0, 1583.0, 1252.0, 1170.0, 1350.0, 1075.0, 972.0, 1486.0, 900.0, 2427.800000000003, 900.0, 1282.0, 2427.800000000003, 2383.0, 1103.0, 1577.0, 1465.0, 1600.0, 1090.0, 1721.0, 1100.0, 1450.0, 1071.0, 2266.0, 2065.0, 1800.0, 1150.0, 1200.0, 1123.0, 1884.0, 930.0, 1145.0, 1328.0, 950.0, 1250.0, 1115.0, 1318.0, 2427.800000000003, 1280.0, 1230.0, 1420.0, 2111.0, 1100.0, 1750.0, 2427.800000000003, 900.0, 1050.0, 1235.0, 1200.0, 900.0, 1146.0, 1200.0, 2400.0, 1200.0, 900.0, 1070.0, 1538.0, 1355.0, 2427.800000000003, 1800.0, 1400.0, 1123.0, 1200.0, 900.0, 1082.0, 1096.0, 1200.0, 1140.0, 1130.0, 900.0, 1058.0, 1269.0, 946.0, 2427.800000000003, 2427.800000000003, 1976.0, 1820.0, 1329.0, 1350.0, 1250.0, 1205.0, 900.0, 1339.0, 938.0, 900.0, 1100.0, 900.0, 1060.0, 1125.0, 900.0, 1060.0, 1749.0, 1200.0, 1100.0, 1010.0, 900.0, 2427.800000000003, 1925.0, 900.0, 2427.800000000003, 1475.0, 1550.0, 966.0, 1350.0, 1300.0, 2427.800000000003, 1559.0, 1246.0, 2427.800000000003, 1410.0, 1300.0, 1339.0, 900.0, 1104.0, 900.0, 1550.0, 900.0, 1483.0, 1540.0, 1200.0, 1255.0, 900.0, 1036.0, 1460.0, 1230.0, 1340.0, 1600.0, 2162.0, 919.0, 1070.0, 1733.0, 1221.0, 1041.0, 2427.800000000003, 1400.0, 900.0, 900.0, 1500.0, 2427.800000000003, 2061.0, 2400.0, 1255.0, 2425.0, 1031.0, 1210.0, 950.0, 1376.0, 1161.0, 1303.0, 1418.0, 1200.0, 1825.0, 1015.0, 1150.0, 1010.0, 1508.0, 1275.0, 1460.0, 946.0, 1110.0, 1832.0, 1088.0, 1564.0, 1030.0, 900.0, 1700.0, 1100.0, 1205.0, 1950.0, 1080.0, 2427.800000000003, 999.0, 900.0, 1300.0, 1265.0, 1200.0, 1974.0, 1180.0, 1350.0, 1560.0, 2427.800000000003, 1085.0, 1300.0, 1600.0, 1127.0, 900.0, 1850.0, 1020.0, 1475.0, 1200.0, 1345.0, 900.0, 1706.0, 2100.0, 1250.0, 1260.0, 1265.0, 1260.0, 1045.0, 2427.800000000003, 900.0, 1100.0, 1113.0, 2427.800000000003, 1210.0, 900.0, 1155.0, 1132.0, 1359.0, 2427.800000000003, 1145.0, 900.0, 1200.0, 900.0, 1009.0, 1800.0, 1226.0, 1500.0, 1363.0, 1400.0, 1165.0, 2427.800000000003, 900.0, 1060.0, 1200.0, 1518.0, 1495.0, 1575.0, 1440.0, 1545.0, 1470.0, 1500.0, 1450.0, 1179.0, 1650.0, 1095.0, 900.0, 1143.0, 1349.0, 1280.0, 900.0, 1216.0, 2427.800000000003, 1290.0, 1200.0, 1156.0, 1230.0, 1070.0, 2427.800000000003, 1235.0, 1117.0, 1724.0, 1200.0, 900.0, 1930.0, 1216.0, 1452.0, 1355.0, 2427.800000000003, 2145.0, 957.0, 925.0, 1550.0, 2427.800000000003, 2100.0, 1115.0, 1692.0, 1100.0, 1385.0, 900.0, 1335.0, 910.0, 1610.0, 1341.0, 1200.0, 1285.0, 2100.0, 1679.0, 2427.800000000003, 1016.0, 1500.0, 900.0, 2427.800000000003, 924.0, 900.0, 1800.0, 1255.0, 1040.0, 1062.0, 1190.5, 950.0, 1216.0, 1300.0, 1390.0, 1033.0, 1390.0, 1020.0, 971.0, 1140.0, 900.0, 2171.0, 1136.0, 1477.0, 1001.0, 1040.0, 1060.0, 1240.0, 2427.800000000003, 2427.800000000003, 1070.0, 1253.0, 1190.0, 1312.0, 900.0, 1615.0, 1095.0, 1745.0, 1050.0, 2080.0, 1220.0, 1793.0, 1100.0, 1385.0, 1200.0, 2017.0, 900.0, 1400.0, 960.0, 1125.0, 1551.0, 900.0, 1246.0, 2427.800000000003, 1060.0, 1384.0, 900.0, 1005.0, 1200.0, 1400.0, 2400.0, 1096.0, 1180.0, 1300.0, 1020.0, 900.0, 2427.800000000003, 1165.0, 1685.0, 1580.0, 1210.0, 1030.0, 1100.0, 1255.0, 1482.0, 1344.0, 1275.0, 900.0, 2427.800000000003, 1210.0, 1320.0, 1532.0, 1245.0, 1212.0, 1230.0, 1000.0, 2257.0, 1246.0, 1080.0, nan, 1360.0, 1260.0, 1200.0, 1418.0, 1200.0, 950.0, 1020.0, 1400.0, 1440.0, 900.0, 2117.5, 1175.0, 1185.0, 2250.0, 1178.0, 2427.800000000003, 900.0, 1250.0, 1113.12, 1718.0, 1010.0, 900.0, 1500.0, 900.0, 1020.0, 1194.0, 1470.0, 900.0, 1108.0, 2427.800000000003, 900.0, 1600.0, 1850.0, 1250.0, 900.0, 1140.0, 1200.0, 985.0, 982.0, 900.0, 2427.800000000003, 1314.0, 1700.0, 1077.0, 2427.800000000003, 2000.0, 1643.0, 1200.0, 1116.0, 1020.0, 900.0, 1740.0, 1225.0, 1241.0, 1041.0, 1050.0, 2427.800000000003, 1309.0, 1128.0, 1430.0, 1065.0, 1085.0, 900.0, 981.0, 1548.3, 2302.0, 1410.0, 1525.84, 1200.0, 1030.0, 1852.0, 1160.0, 918.0, 1255.0, 1200.0, 1150.0, 2427.800000000003, 1150.0, 1227.0, 1255.0, 900.0, 1198.0, 1200.0, nan, 2427.800000000003, 2072.0, 900.0, 1350.0, 2427.800000000003, 2215.0, 900.0, 2427.800000000003, 1500.0, 900.0, 1355.0, 1465.0, 1006.0, 2000.0, 1128.0, 900.0, 1310.0, 1390.0, 1390.0, 2396.0, 1170.0, 1385.0, 1160.0, 1160.0, 1200.0, 1475.0, 1939.0, 900.0, 900.0, 1060.0, 1235.0, 900.0, 1250.0, 1460.0, 1690.0, 900.0, 1843.0, 1680.0, 1047.0, 1100.0, 2427.800000000003, 1120.0, 1095.0, 970.0, 1200.0, 1100.0, 1685.0, 1148.0, 1050.0, 1465.0, 2427.800000000003, 900.0, 1850.0, 1200.0, 1750.0, 1350.0, 1760.0, 1440.0, 1200.0, 1100.0, 1140.0, 2352.0, 1410.0, 1434.0, 1180.0, 1160.0, 1343.0, 1184.0, 2246.0, 2427.800000000003, 1305.0, 2427.800000000003, 1540.0, 1550.0, 1345.0, 975.0, 1140.0, 1152.0, 2427.800000000003, 1033.0, 1800.0, 1102.0, 1223.0, 1762.0, 900.0, 2000.0, 1410.0, 1853.0, 1455.0, 1138.0, 2427.800000000003, 1200.0, 1200.0, nan, 1200.0, 1870.0, 1199.0, 900.0, 1360.0, 1230.0, 2000.0, 1200.0, 1047.0, 2427.800000000003, 1200.0, 1930.0, 900.0, 1645.0, 900.0, 1026.0, 2000.0, 1710.0, 1766.0, 900.0, 1100.0, 1221.0, 900.0, 1278.0, 1025.0, 1175.0, 1410.0, 900.0, 900.0, 900.0, 1165.0, 900.0, 1340.0, 937.0, 1500.0, 900.0, nan, 1475.0, 2230.0, 2200.0, 900.0, 1116.0, 948.0, 970.0, 1519.0, 1200.0, 1760.0, 2427.800000000003, 1914.0, 1820.0, 1820.0, 1565.0, 1334.0, 924.0, 914.0, 900.0, 2145.0, 1200.0, 1650.0, 2427.800000000003, 1020.0, 1180.0, 1255.0, 2427.800000000003, 1014.0, 920.0, 900.0, 2273.0, 1140.0, 2427.800000000003, 1180.0, 2400.0, 900.0, 1200.0, 2427.800000000003, 1769.0, nan, 1554.3, 1243.0, 2427.800000000003, 905.0, 900.0, 2180.0, 2400.0, 1435.0, 2427.800000000003, 1620.0, 1862.0, 900.0, 1220.0, 1027.0, 1025.0, 1430.0, 1235.0, 1291.0, 1498.0, 2180.0, 1000.0, 922.0, 900.0, 900.0, 1123.0, 1235.0, 1250.0, 2403.0, 984.0, 1305.0, 1200.0, 900.0, 2427.800000000003, 2010.0, 995.0, 1277.0, 1236.0, 1265.0, 900.0, 2427.800000000003, 2400.0, 1442.0, 1224.0, 1205.0, 1233.0, 1312.0, 1449.0, 1090.0, 2100.0, 1390.0, 1200.0, 900.0, 1000.0, 2400.0, 1732.0, 1290.0, 1840.0, 1917.0, 1100.0, 1455.0, 2427.800000000003, 1200.0, 1425.0, 1655.0, 2427.800000000003, 900.0, 1040.0, 1126.0, 1600.0, 1250.0, 1800.0, 1200.0, 2050.0, 900.0, 2427.800000000003, 900.0, 1490.0, 1295.0, 1275.0, 900.0, 1200.0, 1063.0, 900.0, 1125.0, 900.0, 1350.0, 900.0, 1936.0, 1680.0, 1253.0, 1640.0, 1082.0, 1065.0, 2100.0, 1070.0, 1280.0, 1200.0, 1125.0, 1755.0, 1210.0, 951.0, 1500.0, 1652.5, 1381.0, 1085.0, 905.0, 1685.0, 1200.0, 1151.0, 2427.800000000003, 1665.0, 900.0, 1050.0, 1030.0, 1257.0, 1600.0, 1465.0, 1650.0, 1243.0, 900.0, 1230.0, 1300.0, 1000.0, 1146.0, 1200.0, 2427.800000000003, 2159.0, 1255.0, 1130.0, 1200.0, 1040.0, 1500.0, 906.0, 1180.0, 1200.0, 900.0, 1200.0, 1374.0, 2427.800000000003, 937.0, 2400.0, 1027.0, 1200.0, 2384.0, 1033.0, 1200.0, 2017.0, 1500.0, 900.0, 1150.0, 1495.0, 1302.0, 905.0, 1303.0, 1350.0, 1380.0, 1620.0, 2427.800000000003, 1000.0, 900.0, 1250.0, 1750.0, 997.0, 1760.0, 1322.0, 1365.0, 1500.0, 1256.0, 941.0, 2427.800000000003, 1665.0, 1414.0, 1270.0, 900.0, 2427.800000000003, 1800.0, 900.0, 900.0, 2427.800000000003, 900.0, 900.0, 1200.0, 900.0, 900.0, 900.0, 1680.0, 990.0, 1380.0, 1088.0, 1414.0, 1240.0, 1810.0, 2005.0, 1185.0, 1200.0, 1070.0, 1265.0, 1100.0, 1035.0, 917.0, 1000.0, 1179.0, 1650.0, 2427.800000000003, 2427.800000000003, 1430.0, 1130.0, 1850.0, 1340.0, 2427.800000000003, 900.0, 2427.800000000003, 1160.0, 1200.0, 1116.0, 900.0, 2427.800000000003, 1090.0, 1100.0, 1365.0, 1484.0, 1630.0, 1451.0, 1330.0, 2127.0, 900.0, 1260.0, 1173.0, 1445.0, 2250.0, 1500.0, 2427.800000000003, 1197.0, 1200.0, 2427.800000000003, 1450.0, 1187.0, 2427.800000000003, 1050.0, 1370.0, 1036.0, 1275.0, 2010.0, 1418.0, 1265.0, 1576.0, 1148.0, 1000.0, 1293.0, 1200.0, 1210.0, 1126.0, 1840.0, 1440.0, 1300.0, 1276.0, 900.0, 1216.0, 900.0, 1240.0, 1126.0, 900.0, 1162.0, 1301.0, 900.0, 1350.0, 2427.800000000003, nan, 1208.51, 1133.0, 1760.0, 1075.0, 940.0, 1145.0, 1930.0, 2427.800000000003, 2427.800000000003, 1300.0, 2427.800000000003, 2040.0, 1200.0, 2420.0, 1216.0, 1459.0, 1622.0, 1843.0, 1274.0, 900.0, 1430.0, 1800.0, 1565.0, 1670.0, 1695.0, 1410.0, 1060.0, 1120.0, 900.0, 1083.0, 1435.0, 1425.0, 900.0, 2400.0, 900.0, 900.0, 2427.800000000003, 1920.0, 900.0, 1075.0, 1200.0, 900.0, 1200.0, 1532.0, 1330.0, 1200.0, 1530.0, 1105.0, 1566.0, 1630.0, 1256.0, 1200.0, 1595.0, 1000.0, 1475.0, 2400.0, 1000.0, 2360.0, 1737.0, 1000.0, 2100.0, 2427.800000000003, 900.0, 1243.0, 1776.0, 1347.0, 1330.0, 900.0, 2427.800000000003, 1459.0, 2259.0, 2427.800000000003, 1008.0, 1200.0, 2328.0, 900.0, 900.0, 1800.0, 2427.800000000003, 1995.0, 900.0, 1710.0, 1500.0, 1539.0, 900.0, 1100.0, 1151.0, 920.0, 1350.0, 1200.0, 1265.0, 900.0, 1700.0, 1600.0, 1550.0, 1560.0, 1000.0, 1243.0, 1200.0, 1403.0, 1010.0, 1416.0, 1628.0, 1660.4, 1680.0, 1595.0, 1507.0, 2427.800000000003, 1949.0, 900.0, 1000.0, 905.0, 2427.800000000003, 1495.0, 1605.0, 1290.0, 1100.0, 2100.0, 995.0, 900.0, 2427.800000000003, 1425.0, 1455.0, 900.0, 1385.0, 2427.800000000003, 2427.800000000003, 1060.0, 1080.0, 1783.0, 1520.0, 1060.0, 1267.0, 1155.0, 2427.800000000003, 1240.0, 1570.0, 1019.0, 1355.0, 1537.0, 2427.800000000003, 1550.0, 1100.0, 1750.0, 1466.0, 1550.0, 2300.0, 900.0, 950.0, 2427.800000000003, 1020.0, 2427.800000000003, 1987.0, 1305.0, 2100.0, 1125.0, 1225.0, 1255.0, 1191.0, 2427.800000000003, 1165.0, 900.0, 1850.0, 900.0, 1232.0, 1732.0, 1614.0, 900.0, 2072.0, 919.0, 2100.0, 900.0, 900.0, 1200.0, 2427.800000000003, 1000.0, 1216.0, 2245.0, 1476.0, 1852.0, 1225.0, 1597.0, 2423.0, 1152.0, 1762.0, 1400.0, 1530.0, 2400.0, 1185.0, 1890.0, 1247.0, 900.0, 1000.0, 1201.0, 900.0, 1165.0, 1100.0, 1890.0, 1685.0, 2427.800000000003, 1165.0, 900.0, 900.0, 1200.0, 900.0, 2427.800000000003, 1050.0, 900.0, 1819.18, 1500.0, 1500.0, 2427.800000000003, 1751.0, 2427.800000000003, 1020.0, 1148.0, 1856.0, 1754.0, 2427.800000000003, 1060.0, 1300.0, 2427.800000000003, 1325.0, 1261.0, 1100.0, 900.0, 1675.0, 2427.800000000003, 2427.800000000003, 1180.0, 1160.0, 1863.0, 1914.0, 1458.0, 1200.0, 1105.0, 2427.800000000003, 1200.0, 1662.0, 1556.0, 918.0, 1455.0, 1205.0, 1194.0, 1200.0, 1100.0, 1405.0, 929.0, 2427.800000000003, 1035.0, 2100.0, 1065.0, 2215.0, 1500.0, 1200.0, 1093.0, 1250.0, 1680.0, 1146.0, 1250.0, 1451.0, 1424.0, 1435.0, 900.0, 1300.0, 1242.0, 1910.0, 1610.0, 1127.0, 1075.0, 1155.0, 1280.0, 1250.0, 2200.0, 2400.0, 900.0, 1850.0, 1314.0, 900.0, 2427.800000000003, 1230.0, 920.0, 1850.0, 1073.0, 1540.0, 1550.0, 1198.0, 1656.0, 1900.0, 1910.0, 1003.0, nan, 1495.0, 2172.0, 2400.0, 1200.0, 1548.0, 2427.800000000003, 2427.800000000003, 1689.0, 1031.0, 2119.0, 1200.0, 1060.0, 1100.0, 1350.0, 1050.0, 1250.0, 1100.0, 1200.0, 1420.0, 1500.0, 1942.0, 1985.0, 950.0, 1200.0, 1752.0, 1200.0, 1200.0, 1480.0, 900.0, 1826.0, 1035.0, 2427.800000000003, 1667.0, 934.0, nan, 1620.0, 1070.0, 2427.800000000003, 1280.0, 1400.0, 1200.0, 1330.0, 1012.0, 1611.0, 1405.0, 1515.0, 1830.0, 1710.0, 935.0, 2197.0, 900.0, 1678.0, 1410.0, 1125.0, 1191.0, 1200.0, 1525.0, 1464.0, 920.0, 900.0, 900.0, 900.0, 1185.0, 1190.0, nan, 2427.800000000003, 1355.0, 1200.0, 2427.800000000003, 1200.0, 900.0, 1250.0, 1480.0, 2427.800000000003, 2324.0, 1206.0, 1357.0, 925.0, 909.0, 2427.800000000003, 1100.0, 2427.800000000003, 1100.0, 975.0, 1306.0, 1200.0, 900.0, 1484.0, 1125.0, 1447.0, 2427.800000000003, 900.0, 2075.0, 1250.0, 1272.0, 1050.0, 900.0, 900.0, 2427.800000000003, 900.0, 900.0, 1115.0, 1464.0, 2200.0, 900.0, 1600.0, 1365.0, 1300.0, 1200.0, 1260.0, 1190.0, 2427.800000000003, 1250.0, 1500.0, 1510.0, 1187.0, 1120.0, 1605.5, 1717.0, 2099.0, 1100.0, 1200.0, 1465.0, 1500.0, 2427.800000000003, 1255.0, 1220.0, 1065.0, 1765.0, 1281.0, 1210.0, 1215.0, 1200.0, 1237.0, 1300.0, 1105.0, 1505.0, 2427.800000000003, 1186.0, 900.0, 900.0, 1083.0, 1430.0, 1056.0, 2108.0, 1650.0, 1220.0, 1198.0, 1190.0, 900.0, 2427.800000000003, 1340.0, 2427.800000000003, 2400.0, 2324.0, 1260.0, 2254.0, 2427.800000000003, 1800.0, 900.0, 1296.0, 1190.0, 1173.0, 1800.0, 1102.0, 913.0, 1176.0, 1620.0, 2427.800000000003, 1519.0, 1345.0, 1594.0, 1250.0, 1056.0, 1200.0, 1290.0, 1150.0, 1464.0, 1200.0, 900.0, 1047.0, 1200.0, 1200.0, 1065.0, 2300.0, 1000.0, 1682.0, 1756.0, 2427.800000000003, 1050.0, 1238.0, 900.0, 1145.0, 965.0, 900.0, 1300.0, 1590.0, 900.0, 982.0, 1260.0, 1555.0, 2427.800000000003, 1225.0, 1085.0, 1640.0, 1595.0, 1196.0, 1859.0, 1079.0, 900.0, 1118.0, 1198.0, 1712.5, 1830.0, 1160.0, 1485.0, 2070.0, 900.0, 957.0, 2400.0, 1268.0, 1450.0, 1600.0, 1330.0, 1355.0, 1272.0, 1100.0, 1220.0, 1075.0, 900.0, 995.0, 900.0, 1140.0, 1480.0, 1710.0, 2106.0, 2400.0, 2427.800000000003, 900.0, 1602.0, 1660.0, 1549.0, 900.0, 1012.0, 1469.0, 1216.0, 1065.0, 1411.0, 1400.0, 1250.0, 1245.0, 1115.0, 1000.0, 2362.5, 1800.0, 1500.0, 900.0, 1275.0, 1494.0, 1949.0, 1020.0, 900.0, 2427.800000000003, 1680.0, 2232.0, 2010.0, 1240.0, 1213.0, 1835.0, 1800.0, 2427.800000000003, 2427.800000000003, 945.0, 1504.0, 1569.0, 1755.0, 1760.0, 1240.0, 1450.0, 1000.0, 2427.800000000003, 2000.0, 1215.0, nan, 1330.0, 1178.0, 1500.0, 2040.0, 2000.0, 1602.0, 1200.0, 1194.0, 1800.0, 2400.0, 1700.0, 1200.0, 1500.0, 1240.0, 2427.800000000003, 1737.0, 900.0, 1280.0, 1560.0, 900.0, 900.0, 2400.0, 900.0, 1030.0, 1850.0, 1831.0, 1095.0, 1320.0, 1907.5, 1000.0, 1820.0, 1075.0, 1500.0, 900.0, 1345.0, 1140.0, 1145.0, 1862.0, 947.0, nan, 900.0, 1120.0, 2427.800000000003, 1805.0, 1100.0, 1355.0, 1677.0, 2427.800000000003, 1560.0, 2060.0, 1716.0, 1864.0, 900.0, 1200.0, 1150.0, 937.0, 1490.0, 2427.800000000003, 2427.800000000003, 1100.0, 1000.0, 1060.0, 1047.0, 1200.0, 1420.0, 1539.0, 1550.0, 1555.0, 900.0, 1553.0, 920.0, 1740.0, 1855.0, 1724.0, 1020.0, 1000.0, 1250.0, 1450.0, 1200.0, 1140.0, 900.0, 900.0, 1450.0, 1500.0, 900.0, 1200.0, 1050.0, 1600.0, 1625.0, 1492.0, 2427.800000000003, 1489.0, 1560.0, 1140.0, 1431.0, 1682.0, 1198.0, 2427.800000000003, 1550.0, 1026.0, 1260.0, 900.0, 900.0, 1200.0, 2400.0, 1200.0, 2427.800000000003, 1186.0, 1039.0, 1500.0, 1500.0, 2427.800000000003, 1225.0, 1350.0, 1030.0, 1550.0, 1490.0, 1520.0, 2427.800000000003, 1391.0, 1200.0, 1200.0, 2427.800000000003, 1322.0, 2173.0, 1200.0, 1200.0, 1170.0, 1125.0, 1026.0, 1250.0, 1025.0, 1075.0, 1900.0, 1435.0, 1175.0, 1464.0, 900.0, 900.0, 2427.800000000003, 1602.0, 1220.0, 2427.800000000003, 2145.0, 960.0, 907.0, 1210.0, 900.0, 1230.0, 1350.0, 1150.0, 1404.0, 1050.0, 1020.0, 1285.0, 1018.0, 1200.0, 1115.0, 1600.0, 1480.0, 2427.800000000003, 900.0, 1435.0, 900.0, 900.0, 1590.0, 2130.0, 936.0, 1181.0, 1741.0, 1750.0, 1050.0, 1027.0, 900.0, 2427.800000000003, 1600.0, 2427.800000000003, 1000.0, 1120.0, 1200.0, 1200.0, 1570.0, 1500.0, 1315.0, 1140.0, 1105.0, 1200.0, 905.0, 2400.0, 1185.0, 1083.0, 1458.0, 1555.0, 1200.0, 1308.0, 1024.0, 1194.0, 1450.0, 1639.0, 1870.0, 1232.0, 1719.0, 975.0, 2000.0, 1230.0, 1350.0, 1076.0, 2400.0, 995.0, 2120.0, 2400.0, 900.0, 1096.0, 1107.83, 900.0, 1320.0, 2135.5, 1320.0, 2427.800000000003, 1315.0, 1000.0, 1596.0, 1750.0, 2403.0, 1350.0, 2427.800000000003, 1175.0, 921.0, 2427.800000000003, 1713.0, 1200.0, 1900.0, 1664.0, 1795.0, 900.0, 1240.0, 1965.0, 900.0, 2427.800000000003, 1200.0, 1112.0, 2427.800000000003, 1136.0, 914.0, 1270.0, 1050.0, 1385.0, 990.0, 900.0, 1485.0, 1460.0, 1450.0, 1360.0, 1375.0, 1125.0, 900.0, 1460.0, 1107.0, 1158.0, 900.0, 900.0, 1760.0, 2427.800000000003, 900.0, 1350.0, 900.0, 1125.0, 1706.0, 1600.0, 1200.0, 1755.0, 1200.0, 1200.0, 1266.67, 1800.0, 1200.0, 1300.0, 900.0, 2427.800000000003, 1500.5, 1128.0, 2000.0, 1210.0, 2427.800000000003, 1151.0, 2427.800000000003, 1464.0, 1017.0, 920.0, 1200.0, 1000.0, 1750.0, 1163.0, 1650.0, 1800.0, 1100.0, 1200.0, 1410.0, 1933.0, 1200.0, 1608.0, 2427.800000000003, 1156.0, 1230.0, 900.0, 1777.26, 1339.0, 2427.800000000003, 1080.0, 2427.800000000003, 2400.0, 1450.0, 1075.0, 1163.0, 1200.0, 1200.0, 2427.800000000003, 1299.0, 1130.0, 1170.0, 2427.800000000003, 2427.800000000003, 1140.0, 1900.0, 1090.0, 1110.0, 900.0, 1089.0, 900.0, 1080.0, 1093.0, 1480.0, 1703.0, 1200.0, 1690.0, 1305.0, 1257.0, 1150.0, 1194.0, 2000.0, 1500.0, 1025.0, 980.0, 1200.0, 2225.0, 1022.0, 900.0, 1153.0, 1175.0, 1560.0, 900.0, 900.0, 1350.0, 1200.0, 1200.0, 900.0, 2093.0, 1320.0, 1275.0, 1215.0, 1130.0, 1444.0, 950.0, 1000.0, 1240.0, 900.0, 1231.0, 1300.0, 1713.0, 1200.0, 2427.800000000003, 1310.0, 900.0, 1744.0, 1605.0, 1250.0, 2427.800000000003, 1260.0, 1615.0, 1180.0, 1255.0, 1025.0, 1877.0, 1649.0, 2427.800000000003, 2427.800000000003, 1542.0, 1418.0, 1012.0, 1200.0, 1115.0, 1680.0, 1171.0, 1027.0, 1700.0, 1090.0, 1232.0, 900.0, 1200.0, 900.0, nan, 1452.0, 1254.0, 2427.800000000003, 1593.0, 1333.0, 1100.0, 1375.0, 1650.0, 1430.0, 940.0, 900.0, 1160.0, 1500.0, 1890.0, 1050.0, 1200.0, 1027.0, 2190.0, 2427.800000000003, 1459.0, 1711.0, 1250.0, 900.0, 900.0, 1334.0, 1140.0, 1115.0, 1200.0, 1776.0, 2072.0, 1600.0, 1200.0, 920.0, 1077.0, 1310.0, 1631.0, 900.0, 1395.0, 2000.0, 1232.0, 1075.0, 1205.0, 1200.0, 2340.0, 1179.0, 1013.0, 1160.0, nan, 1200.0, 1200.0, 1255.0, 1100.0, 1069.0, 1200.0, 1400.0, 1065.0, 1395.0, 1725.0, 1007.0, 1436.0, 2427.800000000003, 1645.0, 1200.0, 940.0, 2427.800000000003, 2427.800000000003, 1740.0, 1194.0, 2427.800000000003, 1829.0, 1800.0, 1000.0, 2427.800000000003, 900.0, 900.0, 1390.0, 1500.0, 2047.0, 1202.0, 1012.0, 2132.0, 1350.0, 900.0, 1331.0, 1200.0, 1150.0, 1200.0, 1800.0, 900.0, 1280.0, 1007.0, 1370.0, 925.0, 1500.0, 900.0, 1200.0, 1341.0, 1350.0, 992.0, 1163.0, 1229.0, 900.0, 1219.0, 1525.0, 1147.0, 1412.0, 1200.0, 1044.0, 1190.0, 1240.0, 1352.0, 1100.0, 1330.0, 1700.0, 1355.0, 1200.0, 900.0, 1342.0, 1615.0, 1340.0, 1200.0, 900.0, 1080.0, 1600.0, 1200.0, 2427.800000000003, 1780.0, 1605.0, 2427.800000000003, 900.0, 1200.0, 900.0, 1830.0, 900.0, 900.0, 1800.0, 900.0, 1230.0, 1065.0, 1350.0, 1080.0, 900.0, 946.0, 1500.0, 1711.0, 1200.0, 950.0, 1656.0, 1075.0, 1752.12, 2427.800000000003, 1540.0, 900.0, 900.0, 1665.0, 1145.0, 1185.0, 1200.0, 1693.0, 2427.800000000003, 2427.800000000003, 1155.0, 1610.0, 1200.0, 1530.0, 1709.0, 900.0, 2427.800000000003, 900.0, 1400.0, 1200.0, 1439.0, 1375.0, 2427.800000000003, 1200.0, 1315.0, 1500.0, 2427.800000000003, 1178.0, 1430.0, 1400.0, 1093.0, 1200.0, 2427.800000000003, 1200.0, 2210.0, 1150.0, 1435.0, 900.0, 1173.0, 1140.0, 1717.0, 1325.0, 1370.0, 1025.0, 1409.0, 1200.0, 1200.0, 1740.0, 1232.0, 1200.0, 2427.800000000003, 1250.0, 1475.0, 2100.0, 900.0, 1065.0, 1000.0, 1225.0, 900.0, 1067.0, 1364.0, 1750.0, 1240.0, 1200.0, 1540.0, 1504.0, 1116.0, 2365.0, 1308.0, 900.0, 1200.0, 1069.0, 1333.0, 1800.0, 2427.800000000003, 1698.0, 1275.0, 1060.0, 1160.0, 1484.0, 900.0, 1200.0, 1310.0, 1806.0, 2427.800000000003, 2145.0, 1693.0, 1230.0, 1200.0, 1310.0, 1150.0, 1385.0, 1066.0, 2293.0, 900.0, 1625.0, 1246.0, 2100.0, 2400.0, 2427.800000000003, 1000.0, 907.0, 2427.800000000003, 1395.0, 1180.0, 1903.0, 1175.0, 1272.0, 1490.0, 1144.0, 2400.0, 1143.0, 2427.800000000003, 1216.0, 1044.0, 1352.0, 1552.0, 1785.0, 900.0, 1650.0, 1595.0, 1060.0, 1410.0, 1523.0, 1591.0, 1640.0, 900.0, 1305.0, 1590.0, 1240.0, 1200.0, 1100.0, 1180.0, 1115.0, 900.0, 1567.2, 1310.0, 2427.800000000003, 959.0, 1200.0, 900.0, 1050.0, 1390.0, nan, 1280.0, 1280.0, 1614.0, 1000.0, 1196.0, 1220.0, 950.0, 2400.0, 1141.0, 1200.0, 1380.0, 900.0, 900.0, 922.0, 1200.0, 1240.0, 1070.0, 1293.0, 1380.0, 1599.0, 967.0, 1885.0, 900.0, 1075.0, 1050.0, 1595.0, 1350.0, 1204.0, 2427.800000000003, 1035.0, 1000.0, 1457.0, 1194.0, 1100.0, 1655.0, 1691.2, 1215.0, 1660.0, 1639.0, 1685.0, 1008.0, 1100.0, 2122.0, 1050.0, 1230.0, 1240.0, 1252.0, 1374.0, 900.0, 1200.0, 1355.0, 1040.0, 1350.0, 2427.800000000003, 2400.0, 1560.0, 1151.0, 1360.0, 1250.0, 1110.0, 1015.0, 1351.0, 960.0, 1110.0, 1680.0, 2400.0, 2427.800000000003, 1350.0, 1254.0, 1255.0, 1051.0, 1200.0, 1099.0, 2427.800000000003, 2000.0, 1541.0, 1200.0, 1125.0, 1650.0, 900.0, 1320.0, 1200.0, 1000.0, 1500.0, 2427.800000000003, nan, 900.0, 1180.0, 1010.0, 1070.0, 1580.0, 1200.0, 2000.0, 1920.0, 1200.0, 1040.0, 1430.0, 1215.0, 900.0, 1564.0, 900.0, 900.0, 1200.0, 1128.0, 1200.0, 2000.0, 2427.800000000003, 2400.0, 1650.0, 1235.0, 1200.0, 900.0, 985.0, 1475.0, 2427.800000000003, 1157.0, 900.0, 2427.800000000003, 1030.0, 1000.0, 2427.800000000003, 2427.800000000003, 1950.0, 1570.0, 1283.0, 900.0, 1200.0, 2427.800000000003, 2400.0, 1250.0, 2427.800000000003, 990.0, 1199.0, 1280.0, 2427.800000000003, 1190.0, 1100.0, 2075.0, 1133.0, 2400.0, 1280.0, 1250.0, 1565.0, 1900.0, 1080.0, 900.0, 1240.0, 1335.0, 1246.0, 2427.800000000003, 1385.0, 1578.0, 1140.0, 1700.0, 1050.0, 1120.0, 900.0, 1116.0, 1480.0, 1000.0, 1145.0, 900.0, 1265.0, 2425.0, 1475.0, 1265.0, 1200.0, 2180.0, 1080.0, 2023.0, 2400.0, 1545.0, 1804.0, 1200.0, 1350.0, 1108.0, 1730.0, 1427.0, 935.0, 1073.0, 960.0, 2215.0, 1125.0, 1230.0, 1438.0, 1080.0, 1200.0, 1200.0, 1590.0, 1350.0, 1400.0, 1560.0, 1810.0, 2274.24, 1484.0, 1650.0, 1455.0, 2280.0, 2427.800000000003, 2079.0, 1351.0, 1223.0, 1430.0, 2427.800000000003, 1310.0, 1800.0, 1120.0, 984.0, 1770.0, 900.0, 1350.0, 1447.0, 1140.0, 1170.0, 1160.0, 1296.0, 1570.0, 1495.0, 1530.0, 900.0, 1800.0, 1088.0, 1533.0, 1100.0, 1540.0, 1244.0, 1040.0, 1034.0, 1260.0, 1180.0, 1245.0, 1350.0, 1464.0, 900.0, 920.0, 2300.0, 1124.0, 2095.0, 1100.0, 1019.0, 1756.0, 1280.0, 1200.0, 1700.0, 2134.0, 1369.1, 900.0, 1313.0, 2427.800000000003, 2215.0, 1440.0, 1186.0, 1350.0, 1800.0, 1600.0, 1000.0, 2275.0, 1305.0, 1740.0, 900.0, 1567.0, 1082.0, 1050.0, 1200.0, 2427.800000000003, 1220.0, 1970.0, 2427.800000000003, 2130.0, 1749.0, 1260.0, nan, 1170.0, 1670.0, 2264.0, 2427.800000000003, 1100.0, 900.0, 1320.0, 900.0, 1125.0, 1125.0, 900.0, 1300.0, 1600.0, 1052.0, 1140.0, 1130.0, 1140.0, 2200.0, 1500.0, 1350.0, 1230.0, 1520.0, 900.0, 1040.0, 1300.0, 2427.800000000003, 900.0, 1140.0, 1225.0, 900.0, 1600.0, 1890.0, 1050.0, 1200.0, 1458.0, 1200.0, 1970.0, 1808.0, 1007.0, 1105.0, 1700.0, 1170.0, 1080.0, 1150.0, 1200.0, 1200.0, 1656.0, 900.0, 1040.0, 1085.0, 1215.0, 2150.0, 1100.0, 1210.0, 1050.0, 900.0, 1920.0, 1250.0, 947.55, 1421.0, 1050.0, 1425.0, 1162.0, 905.0, 914.0, 1258.0, 1100.0, 2427.800000000003, 2400.0, 2427.800000000003, 1537.0, 1230.0, 2400.0, 2250.0, 2000.0, 2427.800000000003, 2427.800000000003, 2427.800000000003, 950.0, 2427.800000000003, 1282.0, 1304.0, 2100.0, 1220.0, 1636.0, 1415.0, nan, 1728.0, 1680.0, 1235.0, 900.0, 2427.800000000003, 1495.0, 1500.0, 2427.800000000003, 900.0, 2427.800000000003, 2002.0, 2427.800000000003, 1200.0, 1500.0, 1942.0, 2247.5, 900.0, 1200.0, 1450.0, 1039.0, 1210.0, 995.0, 1620.0, 2427.800000000003, 2427.800000000003, 1314.0, 945.0, 1374.0, 1603.0, 1230.0, 900.0, 1864.0, 2427.800000000003, 1625.0, 1186.0, 1500.0, 900.0, 1085.0, 2427.800000000003, 1893.0, 900.0, 1496.0, 1305.0, 1550.0, 1200.0, 1494.0, 1286.0, 900.0, 1860.0, 900.0, 1243.0, 1200.0, 1044.0, 1040.0, 1125.0, 2427.800000000003, 1278.0, 2400.0, 1250.0, 2400.0, 2427.800000000003, 1210.0, 1200.0, 1157.0, 1185.0, 1450.0, 1859.0, 1763.0, 900.0, 1305.0, 1200.0, 1165.5, 2427.800000000003, 1150.0, 1806.0, 1027.0, 1002.0, 1220.0, 1109.0, 1002.0, 1308.0, 1232.0, 1027.0, 1250.0, 900.0, 960.0, 1255.0, 1434.0, 925.0, 1858.0, 1205.0, 1500.0, 1200.0, 1020.0, 965.0, 1800.0, 1200.0, 1636.0, 1724.0, 1216.0, 900.0, 2427.800000000003, 1190.0, 1200.0, 1636.0, 1195.0, 2400.0, 1250.0, 1452.0, 1546.0, 2427.800000000003, 1440.0, 2260.0, 2427.800000000003, 1475.0, 2427.800000000003, 900.0, 1007.0, nan, 2427.800000000003, 1020.0, 1000.0, 900.0, 1200.0, 1125.0, 1150.0, 909.0, 2427.800000000003, 1400.0, 1152.0, 958.0, 1150.0, 2427.800000000003, 1310.0, 1590.0, 1645.0, 1800.0, 1795.0, 1100.0, 1087.0, 925.0, 1542.14, 2427.800000000003, 1430.0, 1020.0, 900.0, 1140.0, 967.0, 2427.800000000003, 900.0, 1100.0, 1697.0, 1250.0, 1120.0, 1200.0, 2427.800000000003, 2400.0, 1200.0, 1100.0, 1417.0, 1492.0, 1498.0, 2427.800000000003, 1010.0, 1255.0, 1050.0, 1847.0, 1200.0, 982.0, 2144.6, 900.0, 919.0, 1087.0, 1480.0, 1180.0, 2100.0, 1221.0, 1194.0, 2072.0, 1600.0, 2200.0, 1640.0, 1253.0, 1061.0, 1950.0, 1250.0, 1585.0, 1452.0, 1015.0, 2427.800000000003, 1125.0, 1116.0, 900.0, 2427.800000000003, 2427.800000000003, 1300.0, 1419.0, 1310.0, 2072.0, 1240.0, 1565.0, 1820.0, 2427.800000000003, 2427.800000000003, 1245.0, 1315.0, 1410.0, 1375.0, 1299.0, 993.0, 1200.0, 985.0, 2400.0, 1255.0, 1655.0, 2427.800000000003, 2427.800000000003, 900.0, 900.0, 1634.0, 1200.0, 1222.0, 1500.0, 1890.0, 2427.800000000003, 900.0, 1295.0, 1320.0, 950.0, 1200.0, 2427.800000000003, 1197.0, 1320.0, 1180.0, 900.0, 910.0, 1693.0, 1000.0, 1305.0, 900.0, 900.0, 900.0, 2427.800000000003, 2427.800000000003, 2427.800000000003, 1991.0, 1779.0, 2427.800000000003, 900.0, 1595.0, 900.0, 945.0, 2400.0, 2000.0, 1614.0, 1200.0, 1150.0, 2427.800000000003, 1610.0, 1190.0, 1050.0, 2427.800000000003, 1460.0, 2427.800000000003, 900.0, 1569.0, 2427.800000000003, 900.0, 1200.0, 900.0, 900.0, 1350.0, 2427.800000000003, 1410.0, 1109.0, 2000.0, 900.0, 1215.0, 1230.0, 2273.0, 1255.0, 1020.0, 1225.0, 1120.0, 2400.0, 1225.0, 2427.800000000003, 2427.800000000003, 1984.0, 2425.0, 1200.0, 1127.0, 1655.0, 900.0, 1200.0, 1000.0, 1225.0, 1350.0, 900.0, 1175.0, 900.0, 1311.0, 900.0, 1000.0, 1196.0, 1050.0, 1275.0, 927.0, 1520.0, 2400.0, 1333.0, 900.0, 1326.0, 2427.800000000003, 1370.0, 1100.0, 1650.0, 1917.0, 900.0, 950.0, 1175.0, 1089.0, 1804.0, 1257.0, 900.0, 1850.0, 2427.800000000003, 945.0, 1161.0, 1630.0, 1310.0, 900.0, 1200.0, 1000.0, 2427.800000000003, 1315.0, 1370.0, 1200.0, 1465.0, 2427.800000000003, 1128.0, 1250.0, 1645.0, 1284.0, 2427.800000000003, 1820.0, 1580.0, 2427.800000000003, 1215.0, 1075.0, 1400.0, 1400.0, 900.0, 2427.800000000003, 2427.800000000003, 900.0, 1199.0, 1175.0, 2400.0, 1767.0, 1800.0, 1856.0, 1200.0, 1613.0, 2427.800000000003, 1290.0, 1375.0, 985.0, 1200.0, 1099.0, 900.0, 2427.800000000003, 2427.800000000003, 1200.0, 1000.0, 1159.0, 2427.800000000003, 900.0, 2400.0, 1540.0, 1503.0, 1850.0, 1580.0, 1190.0, 1200.0, 1000.0, 900.0, 2180.0, 2427.800000000003, 1200.0, 1500.0, 1200.0, 1880.0, 1150.0, 2427.800000000003, 924.0, 2427.800000000003, 900.0, 900.0, 1962.0, 1200.0, 1765.0, 1174.0, 1894.0, 960.0, 1760.0, 1768.0, 1790.0, 2427.800000000003, 1200.0, 2427.800000000003, 1137.0, 2427.800000000003, 1200.0, 1568.0, 2427.800000000003, 1308.0, 2427.800000000003, 1200.0, 900.0, 900.0, 900.0, 2427.800000000003, 1200.0, 958.0, 2072.0, 2273.0, 900.0, 900.0, 1090.0, 2072.0, 2427.800000000003, 1550.0, 1251.0, 1070.0, 1200.0, 1435.0, 1400.0, 2330.0, 1200.0, 1000.0, 1655.0, 2427.800000000003, 900.0, 1175.0, 1155.0, 1200.0, 1149.0, 2427.800000000003, 2427.800000000003, 1010.0, 1718.0, 900.0, 1330.0, 1200.0, 1693.0, 1249.0, 1800.0, 900.0, 1020.0, 1700.0, 900.0, 1280.0, 1000.0, 1170.0, 933.0, 1150.0, 2427.800000000003, 1380.0, 1050.0, 1080.0, 1303.0, 1196.0, 2427.800000000003, 1200.0, 1250.0, 1419.0, 1200.0, 1120.0, 1140.0, 1245.0, 2427.800000000003, 1093.0, 1025.0, 1345.0, 1500.0, 1180.0, 1020.0, 1800.0, 2427.800000000003, 2008.0, 1240.0, 1020.0, 2095.0, 1362.0, 900.0, 1404.0, 1192.0, 1850.0, 1050.0, 1259.0, 1000.0, 985.0, 900.0, 1650.0, 2400.0, 1900.0, 1367.0, 1210.0, 1190.0, 1175.0, 2427.800000000003, 1140.0, 1095.0, 900.0, 1435.0, 900.0, 1600.0, 1200.0, 2427.800000000003, 900.0, 1674.0, 900.0, 1243.0, 1703.0, 1350.0, 1145.0, 1216.0, 1100.0, 2425.0, 2427.800000000003, 1196.0, 1600.0, 1510.0, 2427.800000000003, 900.0, 1194.0, 1250.0, 1480.0, 1250.0, 1350.0, 900.0, 1630.0, 1020.0, 1410.0, 1181.7, 1200.0, 1691.0, 1200.0, 1200.0, 1050.0, 1300.0, 1356.0, 1338.0, 900.0, 1280.0, 1531.0, 2427.800000000003, 900.0, 1605.0, 1917.0, 1200.0, 2427.800000000003, 1400.0, 2427.800000000003, 1100.0, 2041.0, 2070.0, 1110.0, 1650.0, 2427.800000000003, 1033.0, 1142.0, 1500.0, 1502.0, 1176.0, 1063.0, 1100.0, 1044.0, 2427.800000000003, 1216.0, 1425.0, 1200.0, 1345.0, 1248.0, 1830.0, 900.0, 2427.800000000003, 1025.0, 900.0, 2427.800000000003, 1424.0, 2427.800000000003, 1200.0, 1285.0, 1450.0, 1160.0, 2427.800000000003, 2000.0, 1125.0, 2427.800000000003, 1133.0, 1240.0, 1466.0, 2427.800000000003, 1610.0, 1220.0, 1225.0, 1300.0, 1996.0, 1320.0, 1800.0, 1835.0, 1435.0, 2427.800000000003, 1601.0, 1257.0, 2427.800000000003, 1309.0, 1362.0, 1115.0, 1870.0, 1322.0, 1450.0, 1185.0, 1790.0, 2427.800000000003, 1050.0, 1025.0, 2427.800000000003, 900.0, 1000.0, 1183.0, 1282.0, 900.0, 900.0, 2230.0, 1200.0, 1151.0, 1320.0, 1450.0, 1270.0, 1847.0, 1020.0, 1650.0, 2380.0, 2400.0, 1160.0, 2427.800000000003, 1360.0, 1089.0, 1115.0, 1215.0, 1194.0, 1536.0, 1255.0, 1571.0, 900.0, 1517.0, 900.0, 1230.0, 1340.0, 1175.0, 2427.800000000003, 1240.0, nan, 1470.0, 900.0, 1680.0, 1000.0, 1071.0, 1512.0, 2427.800000000003, 2427.800000000003, 1190.0, 1550.0, 1283.0, 1325.0, 1105.0, 1600.0, 900.0, 1150.0, 1100.0, 2099.0, 1365.0, 1485.0, 1250.0, 1290.0, 1170.0, 1328.0, 1232.0, 1180.0, 1350.0, 2427.800000000003, 2400.0, 1020.0, 1410.0, 2159.0, 1453.0, 1200.0, 1255.0, 1074.0, 1200.0, 1170.0, 1026.5, 1660.0, 900.0, 1850.0, 900.0, 1601.0, 952.0, 1166.0, 2427.800000000003, 1900.0, 1350.0, 1520.0, 2100.0, 1175.0, 1432.0, 1005.0, 1309.0, 2251.0, 1050.0, 1100.0, 2400.0, 1565.0, 940.0, 1015.0, 2400.0, 1652.0, 1100.0, 2340.0, 1084.0, 1200.0, 1400.0, 2400.0, 1020.0, 1267.0, 2427.800000000003, 1645.0, 1100.0, 1320.0, 1000.0, 2427.800000000003, 2427.800000000003, 2427.800000000003, 1086.0, 900.0, 1066.0, 1730.0, 1205.0, 2427.800000000003, 960.0, 1510.0, 1600.0, 2300.0, 1000.0, 1160.0, 1553.0, 2427.800000000003, 1134.0, 900.0, 2400.0, 2400.0, 1350.0, 1032.0, 1998.0, 1225.0, 1262.0, 1842.0, 1300.0, 1070.0, 950.0, 1012.0, 1000.0, 1394.0, 1450.0, 900.0, 1693.0, 2427.800000000003, 1000.0, 952.0, 2050.0, 1200.0, 1410.0, 1400.0, 2427.800000000003, 1826.0, 1689.0, 1075.0, 2427.800000000003, 960.0, 900.0, 907.0, 1300.0, 1804.0, 1350.0, 1836.0, 900.0, 1200.0, 2427.800000000003, 2400.0, 1460.0, 1200.0, 965.0, 2000.0, 1395.0, 1660.0, 935.0, 1180.0, 1090.0, 1204.0, 2072.0, 1056.0, 985.0, 1315.0, 900.0, 2427.800000000003, 2317.0, 900.0, 2200.0, 900.0, 900.0, 900.0, 2427.800000000003, 1174.0, 1153.0, 1000.0, 2400.0, 957.0, 910.0, 1060.0, 1000.0, 1843.0, 1150.0, 1230.0, 2427.800000000003, 1703.0, 1125.0, 1516.0, 1130.0, 2427.800000000003, 1512.0, 1491.0, 1250.0, 1650.0, 1140.0, 1200.0, 1881.0, 1100.0, 2427.800000000003, 1500.0, 1217.0, 1197.0, 2400.0, 1345.0, 1200.0, 2427.800000000003, 1260.0, 2427.800000000003, 1200.0, 1650.0, 900.0, 1025.0, 2427.800000000003, 973.0, 2427.800000000003, 2427.800000000003, 1007.0, 1107.5, 1830.0, 1077.0, 900.0, 1280.0, 900.0, 1000.0, 1285.0, 900.0, 2297.0, 2427.800000000003, 1850.0, 1754.0, 1200.0, 2200.0, 1567.0, 1695.0, 900.0, 1150.0, 1690.0, 2350.0, 1057.0, 1320.0, 2119.0, 1125.0, 2254.0, 900.0, 1050.0, 1040.0, 1700.0, 1760.0, 1138.0, 984.0, 1140.0, 2427.800000000003, 1365.0, 900.0, 1404.0, 1540.0, 1050.0, 900.0, 1550.0, 1653.0, 1194.0, 1471.0, 900.0, 900.0, 1504.0, 1450.0, 957.0, 900.0, 900.0, 1050.0, 1820.0, 1033.0, 900.0, 900.0, 1165.0, 1280.0, 1950.0, 900.0, 1550.0, 1392.0, 1221.0, 1000.0, 1300.0, 1065.0, 1209.0, 900.0, 2427.800000000003, 1929.0, 1255.0, 1035.0, 1200.0, 1650.0, 1275.0, 1128.0, 1140.0, 1200.0, 1183.0, 1155.0, 1245.0, 1000.0, 1040.0, 2062.0, 1477.0, 1050.0, 1525.0, 2000.0, 1220.0, 2388.0, 1355.0, 1141.0, 1046.0, 900.0, 1247.0, 2427.800000000003, 900.0, 1120.0, 900.0, 1798.0, 1180.0, 1000.0, 1216.0, 900.0, 1100.0, 1842.0, 1075.0, 1495.0, 1700.0, 1564.0, 1256.0, 1047.0, 1458.0, 1063.0, 2427.800000000003, 1150.0, 900.0, 1360.0, 1605.0, 1200.0, 1810.0, 1250.0, 1475.0, 1100.0, 900.0, 1025.0, 980.0, 1428.0, 1130.0, 1592.0, 2050.0, 1407.0, 2427.800000000003, 1585.0, 1785.0, 900.0, 1350.0, 1843.0, 2375.0, 1200.0, 1113.0, 1125.0, 1200.0, 1150.0, 900.0, 1181.0, 1550.0, 1200.0, 1295.0, 900.0, 1506.0, 1872.0, 2427.800000000003, 1326.0, 1040.0, 1200.0, 1020.0, 1400.0, 2427.800000000003, 900.0, 1100.0, 900.0, 900.0, 2427.800000000003, 1500.0, 900.0, 1180.0, 2427.800000000003, 2215.0, 1010.0, 1350.0, 1100.0, 1450.0, 1133.0, 1564.0, 900.0, 2072.0, 900.0, 1460.0, 900.0, 1050.0, 900.0, 1200.0, 900.0, 1105.0, 1800.0, 1200.0, 900.0, 1000.0, 2427.800000000003, 1240.0, 1200.0, 1400.0, 1393.0, 1140.0, 1000.0, 1640.0, 1200.0, 900.0, 1650.0, 2427.800000000003, 905.0, 1600.0, 1070.0, 2427.800000000003, 1200.0, 1800.0, 2427.800000000003, 1145.0, 1495.0, 1200.0, 1400.0, 1558.0, 1007.0, 902.0, 1054.0, 1135.0, 996.0, 1275.0, 1250.0, 2427.800000000003, 1394.0, 1243.0, 1216.0, 1075.0, 2400.0, 1500.0, 1708.0, 1500.0, 1800.0, 1532.0, 1726.0, 1220.0, 1100.0, 1530.0, 900.0, 1250.0, 1030.0, 1499.0, 1280.0, 1170.0, 2427.800000000003, 1161.0, 1633.0, 1050.0, 1650.0, 900.0, 900.0, 905.0, 1510.0, 1390.0, 1101.0, 2427.800000000003, 2350.0, 1056.0, 1425.0, 1450.0, 1000.0, 900.0, 1350.0, 2000.0, 1770.0, 2427.800000000003, 900.0, 900.0, 2427.800000000003, 2400.0, 1547.0, 1713.0, 2427.800000000003, 1135.0, 1856.0, 1152.0, 1100.0, 2357.0, 1820.0, 1865.0, 1240.0, 1360.0, 2427.800000000003, 1450.0, 1139.0, 1565.0, 1200.0, 900.0, 1200.0, 1855.0, 1100.0, 1350.0, 2266.0, 900.0, 1490.0, 1083.0, 1232.0, 1550.0, 1227.0, 1059.0, 900.0, 1152.0, 900.0, 1210.0, 900.0, 1464.0, 1365.0, 1704.0, 2190.0, 1256.0, 900.0, 1080.0, 900.0, 1073.0, 2427.800000000003, 1300.0, 900.0, 1200.0, 1550.0, 1707.0, 1310.0, 1577.0, 1324.0, 1786.0, 1174.0, 900.0, 1400.0, 900.0, 2427.800000000003, 1368.0, 1450.0, 1045.0, 1128.0, 1125.0, 1195.0, 900.0, 1350.0, 1740.0, 900.0, 1770.0, 900.0, 1000.0, 1300.0, 1300.0, 985.0, 1045.0, 1250.0, 2400.0, 1194.0, 1420.0, 1720.0, 1530.0, 1200.0, 1570.0, 1157.0, 900.0, 1120.0, 1150.0, 2400.0, 1215.0, 1444.0, 2003.0, 1100.0, 900.0, 1372.0, 2427.800000000003, 1180.0, 1096.0, 2427.800000000003, 1350.0, 900.0, 1832.0, 1380.0, 940.0, 2427.800000000003, 1020.0, 2427.800000000003, 1400.0, 1675.0, 900.0, 1123.0, 1100.0, 1225.0, 1683.0, 900.0, 2400.0, 1350.0, 1475.0, 1120.0, 1150.0, 1165.0, 1756.0, 1409.0, 1212.0, 1140.0, 2087.01, 1150.0, 1700.0, 2427.800000000003, 1110.0, 1000.0, 1550.0, 2427.800000000003, 2427.800000000003, 1600.0, 1205.0, 1418.0, 1650.0, 1200.0, 1150.0, 2427.800000000003, 2400.0, 900.0, 1580.0, 1216.0, 900.0, 2427.800000000003, 1040.0, 2427.800000000003, 1260.0, 1498.0, 1200.0, 1355.0, 1450.0, 1860.0, 1240.0, 1300.0, 2427.800000000003, 1950.0, 1625.0, 1200.0, 1101.0, 1216.0, 1250.0, 2100.0, 1470.0, 1365.0, 1364.0, 1180.0, 1800.0, 1350.0, 1573.0, 1620.0, 1072.0, 900.0, 1156.0, 1336.0, 1200.0, 2427.800000000003, 1608.0, 2427.800000000003, 1215.0, 1100.0, 1517.0, 1565.0, 1680.0, 2025.0, 1057.0, 2427.800000000003, 1044.0, 1695.0, 1635.0, 1140.0, 1150.0, 1110.0, 1163.0, 1418.0, 1155.0, 1115.0, 2250.0, 1020.0, 1485.0, 1920.0, 1350.0, 1209.0, 1089.0, 1445.0, 1250.0, 1500.0, 1705.0, 2200.0, 2427.800000000003, 1800.0, 2427.800000000003, 1830.0, 1450.0, 1220.0, 1259.0, 1260.0, 2427.800000000003, 1919.0, 1400.0, 2050.0, 1050.0, 1000.0, 1640.0, 1488.0, 1265.0, 1640.0, 1719.3, 1200.0, 1180.0, 1700.0, 1464.0, 1800.0, 1495.0, 1225.0, 1050.0, 1691.0, 2250.0, 2427.800000000003, 1244.0, 900.0, 1190.0, 1243.0, 900.0, 900.0, 1405.0, 1350.0, 900.0, 1200.0, 1165.0, 1400.0, 2427.800000000003, 1668.0, 900.0, 1485.0, 900.0, 1346.0, 1075.0, 1050.0, 1800.0, 1609.0, 900.0, 1076.0, 1052.0, 1000.0, 1000.0, 1262.0, 900.0, 900.0, 2427.800000000003, 1600.0, 1251.0, 1050.0, 1140.0, 1157.0, 900.0, 1197.0, 1500.0, 1185.0, 2400.0, 1397.0, 1175.0, 900.0, 2427.800000000003, 1720.0, 1756.0, 900.0, 1770.0, 930.0, 1295.0, 1200.0, 1100.0, 1194.0, 900.0, 1476.0, 1056.0, 900.0, 1860.0, 1063.0, 900.0, 2400.0, 1200.0, 1835.0, 2215.0, 1147.0, 1360.0, 2427.800000000003, 1080.0, 1010.0, 2427.800000000003, 1270.0, 1100.0, 1410.0, 1065.0, 1200.0, 1315.0, 1650.0, 1140.0, 960.0, 900.0, 1225.0, 1020.0, 900.0, 2427.800000000003, 900.0, 1035.0, 1020.0, 1315.0, 1350.0, 1075.0, 1450.0, 1806.0, 1350.0, 1282.0, 1929.0, 1100.0, 1800.0, 1223.0, 1664.0, 1360.0, 1158.0, 1420.0, 1268.0, 1308.0, 1485.0, 1067.0, 2000.0, 2427.800000000003, 1152.0, 1525.0, 935.0, 1465.0, 1198.0, 1145.0, 1000.0, 900.0, 2427.800000000003, 1310.0, 1861.0, 1265.0, 1280.0, 1279.0, 1200.0, 900.0, 1590.0, 1837.0, 1703.0, 1293.0, 900.0, 1450.0, 1030.0, 1570.0, 1000.0, 1075.0, 1091.0, 2210.0, 1738.0, 1640.0, 1205.0, 1009.0, 1200.0, 2427.800000000003, 2265.0, 1600.0, 960.0, 1330.0, 1024.0, 1196.0, 900.0, 2427.800000000003, 1080.0, 1150.0, 1286.0, 2427.800000000003, 1150.0, 1310.0, 1352.0, 1307.0, 1500.0, 1500.0, 1670.5, 1600.0, 2427.800000000003, 900.0, 2427.800000000003, 1650.0, 1850.0, 2000.0, 982.0, 2015.0, 1702.0, 1250.0, 1240.0, 1050.0, 1023.0, 1541.0, 1275.0, 1875.0, 1580.0, 1343.0, 1365.0, 1047.0, 1187.0, 1050.0, 900.0, 1000.0, 1200.0, 1075.0, 2048.0, 1090.0, 1119.0, 1355.0, 1445.0, 1314.0, 2427.800000000003, 1165.0, 1553.0, 1787.0, 2427.800000000003, 1200.0, 1020.0, 1797.0, 1205.0, 1095.0, 1560.0, 1200.0, 1200.0, 1450.0, 1496.0, 1935.0, 1016.0, 1816.0, 1680.0, 2427.800000000003, 1220.0, 2427.800000000003, 980.0, 1200.0, 1250.0, 1424.0, 1297.0, 1300.0, 1290.0, 1720.0, 1200.0, 2320.0, 1237.0, 1720.0, 1224.0, 1780.0, 2427.800000000003, 1800.0, 1139.0, 900.0, 900.0, 1150.0, 1330.0, 2427.800000000003, 965.0, 1600.0, 1464.0, 2427.800000000003, 1075.0, 1840.0, 1223.0, 1170.0, 2427.800000000003, 950.0, 2427.800000000003, 900.0, 2400.0, 1169.0, 1206.0, 2427.800000000003, 1683.0, 1250.0, 2427.800000000003, 1200.0, 1234.6, 900.0, 900.0, 1902.0, 1200.0, 1639.0, 1214.0, 900.0, 2427.800000000003, 1386.0, 1535.0, 1720.0, 1370.0, 1655.0, 1200.0, 1610.0, 2200.0, 1200.0, 1105.0, 900.0, 1655.0, 1700.0, 900.0, 1210.0, 965.0, 900.0, 1740.0, 1310.0, 1763.25, 1900.0, 1000.0, 1450.0, 1836.0, 1160.0, 1153.0, 1285.0, 2427.800000000003, 1194.0, 1257.0, 1200.0, 900.0, 1240.0, 1294.0, 1095.0, 1145.0, 1826.0, 1314.0, 1900.0, 1040.0, 1290.0, 1200.0, 1325.0, 2427.800000000003, 1129.0, 1113.0, 1075.0, 1108.0, 900.0, 1155.0, 2427.800000000003, 2367.0, 1550.0, 1100.0, 1452.0, 1141.0, 1464.0, 1500.0, 900.0, 1200.0, 2427.800000000003, 900.0, 2400.0, 900.0, 1180.0, 900.0, 1145.0, 1060.0, 2427.800000000003, 1420.0, 2427.800000000003, 1200.0, 1111.0, 984.0, 1200.0, 1247.0, 1050.0, 1550.0, 1270.0, 1012.0, 970.0, 933.0, 1200.0, 1148.0, 1463.0, 1719.0, 1350.0, 1250.0, 1700.0, 2427.800000000003, 1200.0, 1030.0, 1420.0, 2427.800000000003, 1703.0, 1210.0, 1210.0, 2427.800000000003, 1398.0, 1335.0, 1255.0, 900.0, 1213.0, 1240.0, 1076.0, 1320.0, 1216.0, 1100.0, 1183.0, 900.0, 900.0, 1285.0, 2087.01, 1161.0, 1306.0, 2249.81, 1504.0, 900.0, 1230.0, 1100.0, 1000.0, 1260.0, 1817.0, 2427.800000000003, 1180.0, 1050.0, 2427.800000000003, 2110.0, 900.0, 1930.0, 2427.800000000003, 1505.0, 2400.0, 900.0, 1200.0, 900.0, 1555.0, 900.0, 1057.0, 1680.0, 900.0, 1450.0, 1819.0, 1135.0, 2020.0, 2427.800000000003, 1730.0, 1950.0, 1077.0, 1706.0, 2427.800000000003, 1093.0, 2427.800000000003, 1340.0, 984.0, 1135.0, 2400.0, 1155.0, 900.0, 1150.0, 1385.0, 2061.0, 1335.0, 1015.0, 2427.800000000003, 1108.0, 1180.0, 1445.0, 1500.0, nan, 1085.0, 1050.0, 2427.800000000003, 1330.0, 900.0, 1762.0, 1303.0, 1560.0, 1110.0, 1290.0, 1817.5, 1780.0, 1636.0, 2427.800000000003, 1332.0, 2427.800000000003, 1012.0, 1192.0, 900.0, 1213.0, 1489.0, 1200.0, 1140.0, 1200.0, 1200.0, 2427.800000000003, 1650.0, 1245.0, 1224.0, 1235.0, 1200.0, 1342.0, 900.0, 1800.0, 2280.0, 2427.800000000003, 1130.0, 1186.0, 1295.0, 1535.0, 905.0, 1447.0, 1165.0, 1328.0, 1485.0, 1475.0, 1175.0, 1245.0, 900.0, 985.0, 2427.800000000003, 1395.0, 1064.0, 900.0, 2400.0, 1170.0, 2427.800000000003, 1100.0, 2427.800000000003, 900.0, 1160.0, 1180.0, 1441.0, 1115.0, 1825.0, 1489.0, 2427.800000000003, 1278.0, 1223.0, 1065.0, 1190.0, 1130.0, 1430.0, 1900.0, 1104.0, 1240.0, 1140.0, 1194.0, 1464.0, 2427.800000000003, 1700.0, 2427.800000000003, 1600.0, 2427.800000000003, 1508.0, 900.0, 1046.0, 1200.0, 1500.0, 2427.800000000003, 1079.0, 975.0, 1050.0, 1200.0, 1903.0, nan, 1200.0, 2427.800000000003, 2427.800000000003, 2000.0, 1453.0, 1092.0, 1400.0, 1416.0, 1602.0, 1100.0, 1760.0, 2427.800000000003, 1037.0, 1384.0, 900.0, 2400.0, 900.0, 900.0, 1415.0, 1400.0, 1300.0, 2427.800000000003, 1030.0, 900.0, 900.0, 1800.0, 2427.800000000003, 1210.0, 2000.0, 1100.0, 1780.0, 950.0, 1050.0, 1370.0, 2427.800000000003, 2427.800000000003, 1050.0, 1843.0, 1200.0, 1186.0, 900.0, 2357.0, 1200.0, 1823.0, 1310.0, 1520.0, 1610.0, 1500.0, 1400.0, 1625.0, 1500.0, 900.0, 1100.0, 1000.0, 2427.800000000003, 994.0, 1455.0, 1200.0, 1172.0, 1935.0, 1856.0, 2392.0, 900.0, 1757.0, 1027.0, 1626.0, 1200.0, 1559.0, 1190.0, 1200.0, 1174.0, 1140.0, 1603.0, 1278.0, 2180.0, 1085.0, 1195.0, 900.0, 2427.800000000003, 900.0, 1165.0, 2427.800000000003, 1452.0, 900.0, 1020.0, 1340.0, 1125.0, 1160.0, 1050.0, 1960.0, 1200.0, 1200.0, 2427.800000000003, 975.0, 1700.0, 1800.0, 900.0, 1275.0, 900.0, 1495.0, 1200.0, 2427.800000000003, 1679.0, 1450.0, 1210.0, 1300.0, 1165.0, 1623.0, 1115.0, 900.0, 1170.0, 2065.0, 1700.0, 1080.0, 1245.0, 1017.0, 900.0, 1242.0, 1792.0, 1275.0, 1200.0, 2400.0, 900.0, 1200.0, 1450.0, 1232.0, 1800.0, 900.0, 1200.0, 2100.0, 1065.0, 1075.0, 1508.0, 900.0, 1070.0, 1464.0, 1910.0, 1280.0, 1530.0, 2427.800000000003, 1088.0, 1174.0, 1587.0, 1045.0, 1304.0, 1100.0, 1482.0, 2125.0, 1000.0, 1194.0, 1200.0, 1070.0, 1100.0, 1270.0, 1000.0, 1246.0, 1529.0, 1185.0, 1060.0, 1319.0, 991.0, 900.0, 1200.0, 1400.0, 1575.0, 900.0, 900.0, 1319.0, 2000.0, 900.0, 940.0, 900.0, 985.0, 900.0, 1349.0, 2427.800000000003, 1844.0, 1830.0, 2275.0, 2427.800000000003, 1140.0, 900.0, 2427.800000000003, 2427.800000000003, 1372.0, 1455.0, 1100.0, 1295.0, 1475.0, 1788.0, 1243.0, 1855.0, 1850.0, 1315.0, 1216.0, 1721.0, 1059.0, 1184.0, 1400.0, 2223.0, 1480.0, 900.0, 2400.0, 1500.0, 1143.0, 2427.800000000003, 2427.800000000003, 2427.800000000003, 1485.0, 1640.0, 1655.0, 900.0, 1600.0, 1163.0, nan, 1654.0, 1200.5, 2100.0, 1685.0, 1540.0, 1265.0, 1200.0, 1300.0, 1009.0, 1540.0, 1735.0, 2427.800000000003, 900.0, 2427.800000000003, 1142.0, 1215.0, 1070.0, 1125.0, 1125.0, 1575.0, 1360.0, 1710.0, 1200.0, 2185.0, 2400.0, 1195.0, 1246.0, 1012.0, 998.0, 2400.0, 1130.0, 1744.0, 2427.800000000003, 1354.0, 2427.800000000003, 1389.0, 2427.800000000003, 2427.800000000003, 1172.0, 900.0, 1495.0, 1738.0, 1315.0, 1270.0, 1160.0, 1450.0, 900.0, 1040.0, 1205.0, 1215.0, 1135.0, 1224.0, 900.0, 1160.0, 1200.0, 1220.0, 1328.0, 975.0, 1907.0, 900.0, 1330.0, 2330.0, 1222.0, 2427.800000000003, 2100.0, 2427.800000000003, 2427.800000000003, 1320.0, 900.0, 2427.800000000003, 2400.0, 1330.0, 2000.0, 1244.0, 1000.0, 1400.0, 1000.0, 1056.0, 1250.0, 2427.800000000003, 1225.0, 2427.800000000003, 2427.800000000003, 1683.0, 1250.0, 1305.0, 2427.800000000003, 1150.0, 1654.0, 2427.800000000003, 1890.0, 1069.0, 900.0, 900.0, 2400.0, 1200.0, 1410.0, 1680.0, 2427.800000000003, 1700.0, 2200.0, 1595.0, 1480.0, 1092.0, 1866.0, 2427.800000000003, 1683.0, 900.0, 1340.0, 1100.0, 2000.0, 1185.0, 1025.0, 1730.0, 1450.0, 1862.0, 2427.800000000003, 2427.800000000003, 1254.5, 1170.0, 1075.0, 1060.0, 900.0, 935.0, 1905.0, 2000.0, 1125.0, 900.0, 1500.0, 1725.0, 1120.0, 1750.0, 2000.0, 1745.0, 900.0, 1270.0, 2427.800000000003, 1180.0, 1130.0, 2427.800000000003, 1723.0, 1175.0, 1607.0, 1334.0, 2427.800000000003, 1138.0, 1113.0, 1300.0, 2400.0, 1200.0, 1900.0, 2427.800000000003, 1200.0, 2427.800000000003, 1100.0, 1398.0, 1152.0, 1200.0, 1110.0, 1116.0, 1061.0, 900.0, 1300.0, 1270.0, 966.0, 1200.0, 1320.0, 2427.800000000003, 1630.0, 900.0, 900.0, 1202.0, 1200.0, 1300.0, 1200.0, 1360.0, 1155.0, 2378.0, 1011.0, 1203.0, 1645.0, 1364.0, 1200.0, 1050.0, 1365.0, 1252.0, 1221.0, 1065.0, 1270.0, 1032.0, 2427.800000000003, 1515.0, 1427.0, 940.0, 900.0, 1460.0, 2275.0, 1522.0, 2427.800000000003, 1185.0, 2427.800000000003, 1800.0, 940.0, 1200.0, 1530.0, 1050.0, 929.0, 2427.800000000003, 1530.0, 900.0, 978.0, 2427.800000000003, 900.0, 1066.0, 900.0, 1015.0, 1175.0, 1200.0, 1188.0, 2400.0, 900.0, 1210.0, 1000.0, 1500.0, 1800.0, 1185.0, 1600.0, 1100.0, 1300.0, 1100.0, 900.0, 1007.0, 1100.0, 1187.0, 1150.0, 2400.0, 1180.0, 1820.0, 1200.0, 2400.0, 2427.800000000003, 1430.0, 900.0, 1200.0, 1165.0, 1569.0, 1950.0, 1200.0, 2427.800000000003, 950.0, 1685.0, 2427.800000000003, 1314.0, 1250.0, 1130.0, 1200.0, 900.0, 900.0, 2247.0, 1550.0, 1715.0, 1053.0, 1200.0, 1800.0, 2400.0, 1245.0, 1320.0, 2427.800000000003, 1241.0, 2427.800000000003, 900.0, 1090.0, 1390.0, 900.0, 2427.800000000003, 1100.0, 1350.0, 900.0, 1787.0, 2400.0, 2427.800000000003, 1691.0, 2119.0, 2325.0, 900.0, 1896.0, 1540.0, 1244.0, 1365.0, 900.0, 1355.0, 1500.0, 1513.0, 1175.0, 2087.0, 2273.0, 2050.0, 1200.0, 1190.0, 900.0, 1019.0, 1830.0, 2427.800000000003, 1028.0, 1300.0, 1160.0, 1505.0, 1250.0, 900.0, 1175.0, 1100.0, 2159.0, 1230.0, 1200.0, 2427.800000000003, 2427.800000000003, 1200.0, 1340.0, 1750.0, 1400.0, 1350.0, 1675.0, 1340.0, 900.0, 1276.0, 1738.0, 1190.0, 1128.0, 1250.0, 1450.0, 1084.0, 2150.0, 2427.800000000003, 900.0, 1250.0, 2400.0, 1304.0, 1640.0, 980.0, 1275.0, 2427.800000000003, 2427.800000000003, 2427.800000000003, 2400.0, 2300.0, 1450.0, 900.0, 1340.0, 1100.0, 900.0, 900.0, 1300.0, 1301.0, 2427.800000000003, 1900.0, 1299.0, 1250.0, 1600.0, 925.0, 2427.800000000003, 1107.0, 1400.0, 1300.0, 900.0, 1715.0, 1200.0, 1200.0, 900.0, 921.0, 1144.0, 900.0, 1400.0, 900.0, 1200.0, 1200.0, 1705.0, 1035.0, 1430.0, 1240.0, 1325.0, 1230.0, 1000.0, 900.0, 1330.0, 2427.800000000003, 1300.0, 1243.0, 936.0, 1500.0, 1200.0, 1073.0, 1300.0, 2427.800000000003, 1065.0, 1216.0, 1252.0, 1196.0, 1027.0, 900.0, 1270.0, 1171.0, 1215.0, 900.0, 1180.0, 1160.0, 2427.800000000003, 2140.0, 1500.0, 1008.0, 1921.0, 1127.0, 1621.0, 2400.0, 1030.0, 1314.0, 1220.0, 900.0, 1590.0, 900.0, 1795.0, 2427.800000000003, 2427.800000000003, 900.0, 2427.800000000003, 1254.0, 2040.0, 2215.0, 1478.0, 2427.800000000003, 1669.0, 1820.0, 1623.0, 1243.0, 1200.0, 1613.0, 1293.0, 1065.0, 940.0, 1181.0, 2215.0, 1100.0, 1050.0, 1260.0, 2427.800000000003, 1500.0, 1200.0, 1000.0, 1530.0, 1140.0, 1864.0, 1575.0, 1200.0, 945.0, 1691.0, 1200.0, 1220.0, 900.0, 1160.0, 1950.0, 1650.0, 2400.0, 900.0, 900.0, 1400.0, 2285.0, 1243.0, 1263.0, 1200.0, 1345.0, 2427.800000000003, 1360.0, 1026.0, 1050.0, 1460.0, 1525.0, 1843.0, 1000.0, 1642.0, 1200.0, 975.0, 1075.0, 1210.0, 2000.0, 1225.0, 1290.0, 1220.0, 1500.0, 1361.0, 2427.800000000003, 1394.0, 900.0, 2427.800000000003, 1222.0, 1420.0, 1846.0, 1688.12, 1167.0, 902.0, 2422.0, 1050.0, 1000.0, 1260.0, 2427.800000000003, 939.0, 1590.0, 900.0, 1298.0, 1710.0, 1000.0, 2427.800000000003, 1200.0, 1100.0, 900.0, 1350.0, 2427.800000000003, 2427.800000000003, 2427.800000000003, 1718.0, 1680.0, 1500.0, 1157.0, 1179.0, 1942.5, 1105.0, 1800.0, 1010.0, 900.0, 1200.0, 1025.0, 1195.0, 1012.0, 1884.0, 1090.0, 1300.0, 2427.800000000003, 1710.0, 1500.0, 1310.0, 900.0, 1350.0, 1464.0, 900.0, 1400.0, 1625.0, 1065.0, 900.0, 1385.0, 1040.0, 1817.0, 1205.0, 1070.0, 1070.0, 1340.0, 980.0, 1006.0, 1098.0, 1200.0, 2427.800000000003, 1019.0, 1150.0, 1733.5, 1415.0, 1750.0, 1537.0, 1050.0, 1452.0, 1246.0, 1890.0, 972.0, 2427.800000000003, 1500.0, 900.0, 1050.0, 1255.0, 1900.0, 2427.800000000003, 1938.0, 1711.0, 1200.0, 1392.0, 1225.0, 2427.800000000003, 1750.0, 1260.0, 900.0, 2400.0, 1285.0, 1590.0, 1571.0, 2427.800000000003, 1060.0, 1255.0, 900.0, 2400.0, 1520.0, 2245.0, 1170.0, 1580.0, 1777.26, 1303.0, 1680.0, 1495.0, 1835.0, 900.0, 1080.0, 1025.0, 1225.0, 900.0, 994.0, 1025.0, 1156.0, 1250.0, 2427.800000000003, 1930.0, 1020.0, 1310.0, 917.5, 1322.0, 1160.0, 1100.0, 1720.0, 1689.0, 1090.0, 2000.0, 1155.0, 2427.800000000003, 2427.800000000003, 2427.800000000003, 1125.0, 1847.0, 1515.0, 2427.800000000003, 2427.800000000003, 1130.0, 1049.0, 2427.800000000003, 900.0, 1842.0, 2427.800000000003, 1282.0, 900.0, 1200.0, 1190.0, 1318.0, 1698.0, 2030.0, 1276.0, 1555.0, 1881.0, 2427.800000000003, 1890.0, 900.0, 935.0, 1000.0, 1510.0, 1120.0, 930.0, 1160.0, 1419.0, 1175.0, 1350.0, 2215.0, 996.0, 1076.0, 2180.0, 1715.0, 1072.0, 1230.0, 1600.0, 1411.0, 2427.800000000003, 2404.0, 1200.0, 1200.0, 1208.0, 1700.0, 1225.0, 1162.0, 1262.0, 1050.0, 1160.0, 1500.0, 1610.0, 1340.0, 2275.0, 1162.0, 1500.0, 2427.800000000003, 1170.0, 980.0, 1800.0, 1423.0, 1106.0, 1105.0, 2427.800000000003, 1255.0, 1525.0, 1061.0, 900.0, 1400.0, 2100.0, 900.0, 900.0, 1260.0, 1334.0, 2047.0, 2427.800000000003, 1211.0, 1904.0, 1205.0, 1164.0, 1410.0, 1150.0, 1170.0, 1420.0, 1125.0, 1789.0, 1021.0, 1074.0, 1222.0, 1981.0, 1103.0, 1201.0, 970.0, 920.0, 1520.0, 900.0, 1268.0, 900.0, 1755.0, 945.0, 900.0, 2427.800000000003, 1632.0, 1167.0, 1276.0, 1234.0, 1180.0, 1370.0, 1015.0, 1200.0, 1400.0, 1500.0, 1050.0, 1251.0, 1677.0, 1346.0, 1090.0, 1200.0, 1290.0, 2427.800000000003, 1881.0, 1150.0, nan, 2427.800000000003, 1200.0, nan, 2427.800000000003, 950.0, 1491.0, 1050.0, 1660.0, 1134.0, 1100.0, 900.0, 1200.0, 1200.0, 980.0, 1080.0, 900.0, 1200.0, 1200.0, 1804.0, 900.0, 900.0, 2427.800000000003, 1090.0, 1500.0, 1287.0, 2215.0, 2427.800000000003, 1045.0, 1263.0, 1431.0, 999.0, 1650.0, 1535.0, 2427.800000000003, 1300.0, 900.0, 2095.0, 900.0, 900.0, 1265.0, 1215.0, 2200.0, 1028.0, 1835.0, 1800.0, 2077.0, 2427.800000000003, 900.0, 900.0, 1200.0, 925.0, 2427.800000000003, 900.0, 2427.800000000003, 2427.800000000003, 1000.0, 1450.0, 1100.0, 1185.0, 1900.0, 1200.0, 900.0, 1920.0, 1200.0, 2427.800000000003, 2427.800000000003, 1205.0, 1200.0, 1421.0, 1250.0, 900.0, 2427.800000000003, 1540.0, 984.0, 985.0, 2427.800000000003, 1140.0, 2427.800000000003, 1410.0, 1700.0, 1975.0, 1800.0, 1333.0, 1258.0, 1458.0, 1386.0, 1140.0, 900.0, 1200.0, 1081.0, 2135.0, 2427.800000000003, 1178.0, 991.0, 1493.0, 2427.800000000003, 1080.0, 900.0, 1025.0, 1115.0, 2427.800000000003, 1900.0, 1760.0, 2427.800000000003, 2427.800000000003, 2427.800000000003, 1175.0, 2427.800000000003, 1100.0, 1200.0, 1450.0, 1810.0, 1426.0, 2400.0, 1100.0, 900.0, 1350.0, 900.0, 1360.0, 900.0, 1655.0, 1300.0, 936.0, 1277.0, 1200.0, 1015.0, 1153.0, 1035.0, 2427.800000000003, 1150.0, 1020.0, 2427.800000000003, 1160.0, 1075.0, 1225.0, 2427.800000000003, 1600.0, 900.0, 1350.0, 1300.0, 900.0, 1155.0, 2427.800000000003, 905.0, 1375.0, 1575.0, 1140.0, 1550.0, 957.0, 900.0, 2427.800000000003, 1070.0, 2400.0, 2400.0, 925.0, 1415.0, 900.0, 1225.0, 2000.0, 900.0, 1560.0, 1732.0, 1200.0, 1260.0, 1092.0, 900.0, 1357.0, 900.0, 1370.0, 1725.0, 1000.0, 1350.0, 2427.800000000003, 1717.0, 900.0, 900.0, 2367.0, 1415.0, 1976.0, 900.0, 900.0, 1445.0, 2082.0, 1140.0, 933.0, 900.0, 1155.0, 1130.0, 1200.0, 1055.0, 1555.0, 1420.0, 2214.0, 900.0, 900.0, 2427.800000000003, 1035.0, 2064.0, 1839.0, 1200.0, 900.0, 1200.0, 2427.800000000003, 993.0, 1225.0, 900.0, 1200.0, 900.0, 2427.800000000003, 1350.0, 1800.0, 925.0, 1167.0, 1150.0, 900.0, 900.0, 2260.0, 1050.0, 2427.800000000003, 1100.0, 900.0, 1330.0, 1320.0, 1685.0, 2400.0, 1770.0, 2100.0, 1000.0, 900.0, 2427.800000000003, 1419.59, 1400.0, 900.0, 1070.0, 1536.0, 1710.0, 2400.0, 2427.800000000003, 1342.0, 1600.0, 938.0, 1820.0, 2427.800000000003, 1665.0, 1850.0, 1091.0, 1346.0, 1720.0, 2427.800000000003, 1060.0, 1059.0, 1299.0, 1491.0, 1200.0, 2088.0, 900.0, 1296.0, 1125.0, 1275.0, 1095.0, 2427.800000000003, 1330.0, 1135.0, 900.0, 1194.0, 2250.0, 900.0, 2427.800000000003, 1355.0, 2427.800000000003, 2427.800000000003, 2427.800000000003, 1116.0, 1707.0, 1200.0, 1070.0, 2427.800000000003, 1240.0, 1300.0, 1700.0, 1383.0, 2427.800000000003, 1200.0, 935.0, 2072.0, 2200.0, 900.0, 1116.0, 1639.0, 1839.0, 1300.0, 900.0, 933.0, 2289.0, 2316.0, 1005.0, 1080.0, 1200.0, 910.0, 1200.0, 1110.0, 1142.0, 2427.800000000003, 1800.0, 1005.0, 1626.6, 1074.0, 1230.0, 900.0, 1007.0, 1050.0, 1820.0, 1100.0, 1348.0, 1230.0, 1176.0, 1590.0, 1200.0, 1298.0, 1161.0, 1350.0, 1200.0, 1285.0, 1644.0, 1819.0, 1205.0, 2350.0, 1050.0, 1270.0, 1240.0, 1221.0, 900.0, 1339.0, 2427.800000000003, 1315.0, 1250.0, 900.0, 1600.0, 1250.0, 1312.0, 2427.800000000003, 1300.0, 1990.0, 900.0, 2427.800000000003, 1614.0, 1500.0, 1182.0, 1053.0, 900.0, 2000.0, 1940.0, 1590.0, 1035.0, 1075.0, 900.0, 1260.0, 1200.0, 1702.0, 1080.0, 1189.0, 1035.0, 1200.0, 2427.800000000003, 1200.0, 1300.0, 1330.0, 1210.0, 1350.0, 1900.0, 1935.0, 1410.0, 1469.0, 986.0, 1460.0, 1260.0, 1345.0, 980.0, 1164.0, 929.0, 1065.0, 1747.0, 2427.800000000003, 1020.0, 1362.0, 900.0, 1746.0, 1025.0, 1532.0, 1200.0, 1250.0, 1188.0, 2427.800000000003, 1170.0, 1800.0, 1000.0, 2427.800000000003, 1200.0, 2427.800000000003, 1061.0, 1290.0, 1200.0, 1120.0, 900.0, 1333.0, 1691.0, 1089.0, 1700.0, 2030.0, 1012.0, 1245.0, 1765.0, 1110.0, 967.0, 1044.0, 1518.0, 1300.0, 1798.0, 900.0, 2427.800000000003, 1179.0, 2427.800000000003, 1125.0, 2098.0, 2400.0, 1976.0, 1190.0, 1800.0, 1761.0, 1700.0, 900.0, 1128.0, 2000.0, 1220.0, 900.0, 1852.0, 1045.0, 2427.800000000003, 1102.0, 1800.0, 1436.0, 1397.0, 1140.0, 900.0, 2350.0, 1200.0, 2050.0, 1335.0, 2100.0, 1255.0, 1140.0, 2376.0, 900.0, 1276.0, 1450.0, 1400.0, 1339.0, 1220.0, 2200.0, 1305.0, 1740.0, 900.0, 1154.0, 1200.0, 1155.0, 1525.0, 900.0, 2427.800000000003, 1100.0, 1250.0, 1400.0, 1600.0, 1060.0, 1272.0, 1296.0, 2100.0, 1945.0, 1033.0, 2300.0, 1235.0, 2100.0, 900.0, 1880.0, 2427.800000000003, 1060.0, 2041.0, 1050.0, 1037.0, 1150.0, 1184.0, 1680.0, 1411.0, 900.0, 900.0, 2427.800000000003, 1702.0, 1185.0, 1300.0, 1545.0, 1515.0, 1300.0, 1107.0, 1720.0, 1540.0, 1000.0, 900.0, 1100.0, 2427.800000000003, 900.0, 1250.0, 2400.0, 1584.01, 900.0, 1200.0, 1485.0, 1100.0, 1245.0, 1880.0, 2214.0, 1050.0, 900.0, 1640.0, 1165.0, 1110.0, 1200.0, 2427.800000000003, 2427.800000000003, 900.0, 1300.0, 1200.0, 2100.0, 1232.0, 1704.0, 1275.0, 1222.0, 1155.0, 1000.0, 1200.0, 1517.0, 1166.0, 900.0, 2427.800000000003, 1350.0, 2427.800000000003, 1345.0, 900.0, 2427.800000000003, 971.0, 1255.0, 1810.0, 1300.0, 1185.0, 1350.0, 2345.0, 2427.800000000003, 1560.0, 1650.0, 1645.0, 1748.0, 1200.0, 1170.0, 2427.800000000003, 1320.0, 1610.0, 1870.0, 1510.0, 2427.800000000003, 1305.0, 1500.0, 1149.0, 1948.0, 1448.0, 1242.0, 1268.0, 1101.0, 1255.0, 1362.0, 984.0, 1089.0, 900.0, 1345.0, 2427.800000000003, 1650.0, 950.0, 1068.0, 900.0, 2427.800000000003, 1756.0, 1205.0, 1120.0, 1800.0, 2427.800000000003, 1604.0, 2427.800000000003, 1015.0, 1200.0, 1010.0, 1250.0, 1010.0, 1050.0, 1710.0, 1248.52, 900.0, 1656.0, 1451.0, 1200.0, 1250.0, 2427.800000000003, 2427.800000000003, 1340.0, 1100.0, 2427.800000000003, 1700.0, 1200.0, 1096.0, 1160.0, 1936.0, 1269.0, 2427.800000000003, 1586.0, 1376.0, 1452.0, 1538.0, 1427.0, 935.0, 1220.0, 1197.0, 900.0, 900.0, 1573.0, 1135.0, 1400.0, 1200.0, 1800.0, 2045.0, 1268.0, 900.0, 1600.0, 1056.0, 1200.0, 2427.800000000003, 1204.0, 1410.0, 1460.0, 1100.0, 1310.0, 1600.0, 1250.0, 1665.0, 1345.0, 2000.0, 1416.0, 1145.0, 2427.800000000003, 1231.0, 1664.0, 2000.0, 972.0, 2427.800000000003, 1185.0, 1750.0, 2427.800000000003, 1007.0, 1700.0, 1250.0, 1200.0, 994.0, 1150.0, 1220.0, 1441.0, 1157.0, 1300.0, 1400.0, 1370.07, 1200.0, 900.0, 900.0, 1200.0, 1200.0, 1062.0, 1120.0, 1012.0, 1500.0, 950.0, 900.0, 1430.0, 1195.0, 2427.800000000003, 1075.0, 2345.0, 900.0, 1011.0, 1450.0, 1129.0, 1126.0, 1200.0, 1180.0, 900.0, 940.0, 1933.0, 1082.0, 2400.0, 900.0, 1560.0, 1300.0, 2427.800000000003, 1125.0, 2400.0, 900.0, 2427.800000000003, 1798.0, 1864.0, 1115.0, 900.0, 1200.0, 992.0, 950.0, 1500.0, 1200.0, 1735.0, 1750.0, 1009.0, 1470.0, 1527.0, 985.0, 2427.800000000003, 1277.0, 1100.0, 1820.0, 1530.0, 1886.0, 1200.0, 1880.0, 1255.0, 900.0, 1140.0, 1025.0, 2427.800000000003, 1490.0, 1200.0, 1850.0, 1250.0, 2400.0, 2427.800000000003, 1244.0, 900.0, 1025.0, 1034.0, 1191.0, 1719.0, 1035.0, 1500.0, 1470.0, 1140.0, 1752.12, 900.0, 900.0, 2427.800000000003, 1660.0, 1275.0, 1365.0, 1200.0, 2427.800000000003, 1392.0, 1245.0, 1200.0, 1162.0, 1476.0, 900.0, 2427.800000000003, 943.0, 1150.0, 1113.0, 1615.0, 1279.0, 1256.0, 1805.0, 1350.0, 1525.0, 1357.0, 1645.0, 1777.26, 900.0, 900.0, 1210.0, 900.0, 1879.0, 1250.0, 1200.0, 1108.0, 1401.0, 1157.0, 1185.0, 1751.0, 1550.0, 1880.0, 1940.0, 1175.0, 1407.0, 1000.0, 1518.0, 2427.800000000003, 1027.0, 2427.800000000003, 1145.0, 1260.0, 1500.0, 1737.0, 2427.800000000003, 1600.0, 1500.0, 1120.0, 1200.0, 1030.0, 2427.800000000003, 1057.0, 2427.800000000003, 1460.0, 1075.0, 1080.0, 2427.800000000003, 2427.800000000003, 1139.7, 1074.0, 1200.0, 2425.0, 1323.0, 1232.0, 900.0, 900.0, 1920.0, nan, 1550.0, 1588.0, 2300.0, 2427.800000000003, 1308.0, 1340.0, 2427.800000000003, 2170.0, 1719.0, 1107.83, 1200.0, 1090.0, 1500.0, 1660.0, 1247.0, 1595.0, 1175.0, 1200.0, 1184.0, 1100.0, 935.0, 1200.0, 2400.0, 1000.0, 1000.0, 1705.0, 1060.0, 2325.0, 1347.0, 1200.0, 1402.0, 2280.0, 1225.0, 1080.0, 2427.800000000003, 1919.0, 1100.0, 2427.800000000003, 1200.0, 1565.0, 1200.0, 1581.0, 2427.800000000003, 1440.0, 2180.0, 2427.800000000003, 985.0, 950.0, 1339.0, 1449.0, 1200.0, 1100.0, 1468.0, 2427.800000000003, 1100.0, 1140.0, 2427.800000000003, 2427.800000000003, 900.0, 2000.0, 1200.0, 1300.0, 1220.0, 2289.0, 1170.0, 1350.0, 900.0, 1698.0, 2427.800000000003, 1060.0, 1185.0, 2051.0, 1404.0, 1252.0, 1885.0, 2427.800000000003, 980.0, 2427.800000000003, 1420.0, 1166.0, 2312.0, 2427.800000000003, 1175.0, 1145.0, 970.0, 1125.0, 2399.5, 2427.800000000003, 2150.0, 1635.0, 2427.800000000003, 2427.800000000003, 1200.0, 1335.0, 2427.800000000003, 1166.0, 2390.0, 1460.0, 1690.0, 1386.0, 1090.0, 1732.0, 1390.0, 1095.0, 900.0, 2400.0, 1350.0, 1453.0, 1226.0, 900.0, 1168.0, 1776.0, 1634.0, 900.0, 2427.800000000003, 1650.0, 1190.0, 1133.0, 1559.0, 1448.0, 2427.800000000003, 976.0, 1350.0, 1590.0, 2427.800000000003, 1633.0, 1151.0, 1400.0, 1037.0, 1188.0, 1060.0, 2215.0, 1255.0, 2427.800000000003, 1075.0, 2427.800000000003, 900.0, 1183.0, 1100.0, 1643.0, 1500.0, 1291.0, 1150.0, 1060.0, 1575.0, 1200.0, 1700.0, 1236.0, 1350.0, 2427.800000000003, 2427.800000000003, 2427.800000000003, 1200.0, 1200.0, 1225.0, 1056.0, 1240.0, 1200.0, 1850.0, 2427.800000000003, 1200.0, 1018.0, 2427.800000000003, 1185.0, 918.0, 1330.0, 1540.0, 1200.0, 927.0, 2427.800000000003, 1400.0, 1345.0, 1900.0, 1510.0, 900.0, 900.0, 1500.0, 1142.0, 1100.0, 1200.0, 1100.0, 2282.0, 900.0, 2172.0, 2427.800000000003, 900.0, 2427.800000000003, 1242.0, 900.0, 1245.0, 1088.0, 1200.0, 1995.0, 1309.0, 1717.0, 2100.0, 900.0, 1200.0, 1250.0, 2427.800000000003, 1041.0, 1505.0, 1776.0, 1767.0, 1293.0, 1320.0, 1280.0, 1245.0, 1027.0, 1200.0, 1100.0, 1065.0, 1814.0, 1610.0, 900.0, 1600.0, 2427.800000000003, 1250.0, 1243.0, 1452.0, 1475.0, 1353.0, 2100.0, 1750.0, 2427.800000000003, 1270.0, 2427.800000000003, 1200.0, 2427.800000000003, 1330.0, 900.0, 1400.0, 2427.800000000003, 1700.0, 1585.0, 1385.0, 1128.0, 900.0, 1200.0, 1203.0, 905.0, 1450.0, 1105.0, 1200.0, 1530.0, 1105.0, 1333.0, 1065.0, 1350.0, 1243.0, 1530.0, 1200.0, 1270.0, 1830.0, 900.0, 2400.0, 2427.800000000003, 1450.0, 1525.0, 1080.0, 1220.0, 1200.0, 1962.5, 2400.0, 1500.0, 1355.0, 1070.0, 1980.0, 900.0, 900.0, 2427.800000000003, 1884.0, 1100.0, 1196.0, 1820.0, 1200.0, 1185.0, 2145.0, 1220.0, 1116.0, 1192.0, 1449.0, 2427.800000000003, 1700.0, 1920.0, 1350.0, 2427.800000000003, 1700.0, 1447.0, 1329.0, 1314.0, 1200.0, 1214.0, 1513.0, nan, 1246.0, 900.0, 1220.0, 1800.0, 1400.0, 1245.0, 1495.0, 2000.0, 996.0, 1000.0, 1250.0, 975.0, 1261.0, 1080.0, 1230.0, 982.0, 1260.0, 1590.0, 1220.0, 1320.0, 1750.0, 1436.0, 1200.0, 1500.0, 1560.0, 2427.800000000003, 1275.0, 1040.0, 2400.0, 1500.0, 2427.800000000003, 1960.0, 2427.800000000003, 1195.0, 1765.0, 2427.800000000003, 900.0, 2427.800000000003, 900.0, 2100.0, 2427.800000000003, 1027.0, 1575.0, 1365.0, 900.0, 1200.0, 1100.0, 1075.0, 1100.0, 1320.0, 1500.0, 1200.0, 1125.0, 1246.0, 1718.0, 1075.0, 1480.0, 900.0, 2400.0, 1200.0, 1041.0, 1128.0, 1685.0, 1180.0, 1200.0, 1250.0, 900.0, 1000.0, 900.0, 900.0, 1404.0, 1610.0, 1760.0, 975.0, 1190.0, 1110.0, 2415.0, 1235.0, 1275.0, 1115.0, 1197.0, 900.0, 1251.0, 1105.0, 1080.0, 2100.0, 1600.0, 1731.0, 1206.0, 1560.0, 900.0, 1035.0, 1200.0, 900.0, 1700.0, 1145.0, 1208.0, 1589.0, 900.0, 1426.0, 1885.0, 935.0, 1171.0, 1465.0, 1820.0, 1580.0, 1452.0, 1445.0, 1170.0, 1070.0, 1100.0, 1140.0, 2427.800000000003, 1532.0, 1150.0, 1473.0, 1350.0, 2427.800000000003, 1980.0, 1660.0, 2427.800000000003, 900.0, 2427.800000000003, 2427.800000000003, 1495.0, 1080.0, 1521.0, 1053.0, 2406.0, 900.0, 1050.0, 1430.0, 2400.0, 1250.0, 1200.0, 900.0, 1000.0, 1630.0, 985.0, 1200.0, 1650.0, 1670.0, 1200.0, 1240.0, 1000.0, 900.0, 1200.0, 2427.800000000003, 2427.800000000003, 1140.0, 1635.0, 1120.0, 2427.800000000003, 1760.0, 2137.0, 973.0, 1724.0, 1020.0, 1200.0, 900.0, 900.0, 900.0, 2427.800000000003, 1470.0, 900.0, 1275.0, 1787.0, 1730.0, 1320.0, 1692.0, 1400.0, 1115.0, 1370.0, 1602.0, 900.0, 900.0, 2427.800000000003, 1050.0, 1035.0, 1200.0, 1800.0, 1625.0, 1032.0, 1496.0, 1100.0, 1500.0, 1125.0, 1555.0, 1025.0, 1482.0, 1630.0, 900.0, 1355.0, 2360.0, 1200.0, 1563.0, 1344.0, 2427.800000000003, 900.0, 1200.0, 2427.800000000003, 1360.0, 1835.0, 1756.0, 1296.0, 1300.0, 1141.0, 1270.0, 1210.0, 1310.0, 1356.0, 1713.0, 1745.0, 1200.0, 1050.0, 2400.0, 1140.0, 1210.0, 2035.0, 900.0, 900.0, 1112.0, 1200.0, 2275.0, 1419.0, 1195.0, 2020.0, 1047.0, 1884.0, 1200.0, 905.0, 1500.0, 900.0, 1125.0, 1165.0, 933.0, 1305.0, 1125.0, 900.0, 1245.0, 2427.800000000003, 1145.0, 2000.0, 900.0, 1724.0, 900.0, 1270.0, 1250.0, 1485.0, 900.0, 990.0, 1200.0, 1185.0, 1140.0, 1950.0, 1756.0, 2427.800000000003, 900.0, 1025.0, 1216.0, 1026.0, 2427.800000000003, 2427.800000000003, 1411.0, 1320.0, 1320.0, 900.0, 1804.0, 1140.0, 1200.0, 2375.0, 1750.0, 960.0, 1152.0, 965.0, 1684.0, 1672.0, 1075.0, 1500.0, 1464.0, 1420.0, 900.0, 1169.0, 1290.0, 1160.0, 2427.800000000003, 1500.0, 1850.0, 1300.0, 1310.0, 2427.800000000003, 2150.0, 2427.800000000003, 1300.0, 1875.0, 1260.0, 2427.800000000003, 1241.0, 1025.0, 1500.0, 1070.0, 900.0, 2000.0, 1400.0, 1740.0, 2427.800000000003, 1216.0, 2200.0, 2427.800000000003, 970.0, 2427.800000000003, 1200.0, 1026.0, 900.0, 1205.0, 1368.0, 900.0, 1270.0, 900.0, 1050.0, 1408.0, 1223.0, 1507.0, 1160.0, 1200.0, 960.0, 1021.0, 2162.03, 1065.0, 900.0, 1465.0, 900.0, 1800.0, 1175.0, 2427.800000000003, 1500.0, 1050.0, 1400.0, 1650.0, 1827.0, 1930.0, 900.0, 900.0, 1400.0, 1350.0, 1290.0, 1021.0, 1158.0, 1200.0, 1400.0, 2400.0, 1200.0, 1520.0, 1087.0, 2427.800000000003, 1150.0, 1101.0, 1200.0, 1252.0, 1650.0, 1270.0, 992.0, 2000.0, 900.0, 1075.0, 2427.800000000003, 1190.0, 900.0, 1814.0, 1400.0, 1400.0, 1344.0, 2427.800000000003, 1843.0, 1138.0, 1495.0, 900.0, 1396.0, 1610.0, 1050.0, 1410.0, 1050.0, 1310.0, 1104.0, 1165.0, 1027.0, 1310.0, 1052.0, 1464.0, 1000.0, 2240.0, 1150.0, 2019.0, 986.0, 1350.0, 900.0, 1893.0, 1318.0, 1325.0, 900.0, 1300.0, 1300.0, 1010.0, 1260.0, 2427.800000000003, 1520.0, 1665.0, 1800.0, 1197.0, 1050.0, 910.0, 1241.0, 1567.0, 1747.0, 1475.0, 900.0, 1524.0, 980.0, 966.0, 2360.0, 1112.0, 900.0, 1760.0, 1830.0, 1175.0, 1175.0, 1025.0, 1232.0, 1010.0, 1273.0, 1590.0, 1100.0, 1252.0, 2427.800000000003, 1200.0, 1322.0, 1000.0, 1755.0, 1135.0, 1200.0, 1200.0, 1260.0, 2427.800000000003, 2427.800000000003, 1200.0, 1100.0, 1305.0, 1236.0, 1125.0, 1075.0, 2000.0, 900.0, 2427.800000000003, 1150.0, 1440.0, 1085.0, 1785.0, 2427.800000000003, 1930.0, 900.0, 900.0, 2427.800000000003, 1200.0, 1920.0, 1085.0, 900.0, 1201.0, 1615.0, 1289.0, 1991.0, 1377.0, 2427.800000000003, 1892.0, 2176.0, 900.0, 1165.0, 2427.800000000003, 1260.0, 1095.0, 1050.0, 1176.0, 1801.0, 1315.0, 1194.0, 2400.0, 1308.0, 2427.800000000003, 1806.0, 2427.800000000003, 2144.0, 1065.0, 1205.0, 1160.0, 900.0, 1194.0, 1200.0, 1681.0, 1130.0, 2427.800000000003, 1843.0, 1065.0, 1885.0, 1500.0, 1210.0, 1126.0, 1357.0, 1451.0, 1600.0, 950.0, 960.0, 1625.0, 2200.0, 1607.0, 900.0, 1080.0, 2300.0, 1708.0, 2427.800000000003, 1690.0, 2100.0, 1269.0, 1243.0, 1890.0, 1165.0, 1196.0, 1194.0, 1630.0, 1063.0, 1025.0, 1067.0, 1299.0, 1343.0, 1330.0, 1524.0, 2236.0, 2427.800000000003, 1410.0, 1581.0, 1205.0, 1270.0, 1353.0, 1200.0, 1250.0, 1950.2, 1157.0, 1181.0, 1000.0, 900.0, 2427.800000000003, 1108.0, 1040.0, 1451.0, 1196.0, 900.0, 2171.66, 900.0, 900.0, 1573.0, 1026.0, 1400.0, 1400.0, 2100.0, 1150.0, 1500.0, 2400.0, 1200.0, 1790.0, 1125.0, 2427.800000000003, 1100.0, nan, 1105.0, 1110.0, 900.0, 1027.0, 1600.0, 2427.800000000003, 1205.0, 1450.0, 900.0, 900.0, 1200.0, 1200.0, 1837.0, 1346.0, 1012.0, 1950.2, 1125.0, 1500.0, 1197.0, 1230.0, 1100.0, 1563.0, 2240.0, 2427.800000000003, 1600.0, 1715.0, 2400.0, 1151.0, 1200.0, 1123.0, 1276.0, 1315.0, 1270.0, 1325.0, 1600.0, 1660.0, 1299.0, 953.0, 1457.0, 1000.0, 1100.0, 1075.0, 1450.0, 2427.800000000003, 950.0, 1200.0, 1013.0, 1140.0, 2100.0, 1430.0, 900.0, 1600.0, 1190.0, 1625.0, 1210.0, 1615.0, 1180.0, 1500.0, 900.0, 1130.0, 907.0, 1300.0, 1891.0, 1735.0, 1075.0, nan, 2040.0, 1590.0, 1600.0, 1160.0, 930.0, 1010.0, 1221.0, 2400.0, 1108.0, 1000.0, 1370.0, 920.0, 1277.0, 1213.0, 1653.0, 2400.0, 2427.800000000003, 1600.0, 1321.0, 1570.0, 1150.0, 1053.0, 1325.0, 1169.0, 1274.0, 1317.0, 1195.0, 2427.800000000003, 940.0, 1820.0, 1450.0, 1615.0, 2200.0, 985.0, 1116.0, 900.0, 1105.0, 1220.0, 1400.0, 2400.0, 900.0, 1000.0, 1660.0, 1330.0, 1165.0, 1153.0, 1270.0, 1070.0, 1427.0, 1420.0, 1600.0, 2031.0, 1454.0, 1116.0, 2000.0, 1346.0, 1062.0, 900.0, 1405.0, 1100.0, 2153.0, 1200.0, 2135.0, 1125.0, 1350.0, 1068.0, 940.0, 1063.0, 1382.0, 936.0, 1400.0, 900.0, 1200.0, 1450.0, 1162.0, 1161.0, 1623.29, 1260.0, 1672.0, 2427.800000000003, 1500.0, 1030.0, 1650.0, 2000.0, 1675.0, 1200.0, 1100.0, 1400.0, 2257.0, 1153.0, 1197.0, 1150.0, 900.0, 1837.0, 2427.800000000003, 1830.0, 1715.0, 970.0, 1200.0, 2427.800000000003, 2427.800000000003, 2400.0, 2427.800000000003, 1168.0, 1160.0, 1500.0, 900.0, 1200.0, 900.0, 935.0, 1200.0, 900.0, 1650.0, 2427.800000000003, 1300.0, 950.0, 1250.0, 1072.0, 1425.0, 1165.0, 1390.0, 1510.0, 1305.0, 1200.0, 900.0, 1231.0, 1360.0, 2427.800000000003, 1140.0, 900.0, 1295.0, 1020.0, 2427.800000000003, 1200.0, 1100.0, 2427.800000000003, 900.0, 2427.800000000003, 2427.800000000003, 1354.0, 2427.800000000003, 1154.0, 1680.0, 1205.0, 1400.0, 1625.0, 1500.0, 1520.0, 1300.0, 1150.0, 1762.0, 1153.0, 2427.800000000003, 1350.0, 950.0, 2427.800000000003, 1515.0, 1100.0, 1250.0, 1200.0, 2427.800000000003, 1200.0, 1355.0, 1115.0, 1275.0, 2051.0, 1470.0, 1550.0, 1270.0, 2119.0, 1600.0, 1320.0, 2427.800000000003, 1410.0, 1200.0, 1705.0, 995.0, 1081.0, 1194.0, 900.0, 900.0, 1718.0, 2110.5, 900.0, 1715.0, 2427.800000000003, 1500.0, 1846.0, 900.0, 1015.0, 2427.800000000003, 1100.0, 1965.0, 1021.0, 1230.0, 1260.0, 2400.0, 1894.0, 1500.0, 1950.0, 1231.0, 1236.0, 1800.0, 1650.0, 900.0, 1443.0, 900.0, 925.0, 1305.0, 1190.0, 1284.0, 900.0, 900.0, 1325.0, 2400.0, 1183.0, 1750.0, 2427.800000000003, 900.0, 1342.0, 1113.0, 1738.0, 1206.0, 2427.800000000003, 1162.0, 1194.0, 1857.0, 2427.800000000003, 1763.0, 1150.0, 2400.0, 1290.0, 2427.800000000003, 900.0, 1150.0, 1040.0, 1160.0, 900.0, 1750.0, 1320.0, 2240.0, 900.0, 1000.0, 1852.0, 1323.0, 1404.0, 1370.0, 1385.0, 1129.0, 1876.0, 1720.0, 1200.0, 1175.0, 900.0, 1200.0, 1200.0, 1893.0, 1430.0, 900.0, 1392.0, 1938.0, 1020.0, 2400.0, 1832.0, 1423.0, 1432.0, 1350.0, 1500.0, 1480.0, 1843.0, 900.0, 1916.0, 1255.0, 1160.0, 2427.800000000003, 1160.0, 1200.0, 1100.0, 1500.0, 1336.0, 1065.0, 1294.0, 1550.0, 1216.0, 1005.0, 1430.0, 2427.800000000003, 1660.0, 1430.0, 1470.0, 1045.0, 2427.800000000003, 950.0, 1382.0, 930.0, 1660.0, 1290.0, 1010.0, 2427.800000000003, 1200.0, 1650.0, 1636.0, 2367.0, 1153.0, 2087.01, 1200.0, 1844.0, nan, 1215.0, 1194.0, 1220.0, 2427.800000000003, 900.0, 955.0, 2000.0, 900.0, 1250.0, 2427.800000000003, 2400.0, 2427.800000000003, 1195.0, 2427.800000000003, 1200.0, 984.0, 1089.0, 1165.0, 900.0, 1482.0, 1200.0, 1938.0, 1166.0, 1275.0, 1140.0, 2427.800000000003, 900.0, 1200.0, 1100.0, 1162.0, 900.0, 1550.0, 1300.0, 1200.0, 1220.0, 964.0, 1500.0, 1347.0, 2427.800000000003, 2427.800000000003, 1120.0, 900.0, 2321.0, 900.0, 1150.0, 1484.0, 1680.0, 900.0, 1650.0, 1250.0, 2072.0, 1105.0, 1200.0, 2427.800000000003, 2427.800000000003, 900.0, 1340.0, 2409.0, 1194.0, 1246.0, 1055.0, 1541.0, 1370.0, 1224.0, 900.0, 900.0, 1676.0, 1154.0, 1610.0, 1057.0, 1157.0, 1200.0, 1500.0, 980.0, 1140.0, 1206.0, 900.0, 1600.0, 2400.0, 1300.0, 1270.0, 1128.0, 900.0, 2400.0, 1200.0, 1090.0, 900.0, 1125.0, 1140.0, 2427.800000000003, 1315.0, nan, 1435.0, 1092.0, 1314.0, 1260.0, 1875.0, 1080.0, 2427.800000000003, 1082.0, 1150.0, 1052.0, 1045.0, 1442.0, 1500.0, 900.0, 1255.0, 1432.0, 2100.0, 1450.0, 1346.0, 1200.0, 925.0, 1160.0, 1768.0, 1094.0, 1500.0, 1745.0, 2427.800000000003, 2427.800000000003, 1550.0, 2340.0, 1655.0, 2024.0, 2427.800000000003, 1575.0, 1920.0, 2427.800000000003, 1082.0, 1265.0, 1100.0, 1160.0, 1246.0, 900.0, 1128.0, 1260.0, 1830.0, 1525.0, 900.0, 2427.800000000003, 1835.0, 1250.0, 1200.0, 1855.0, 1450.0, 2089.0, 1464.0, 2427.800000000003, 1200.0, 1095.0, 2427.800000000003, 2427.800000000003, 1170.0, 1280.0, 1224.0, 1694.0, 900.0, 1612.0, 985.0, 1175.0, 900.0, 1740.0, 1770.0, 1000.0, 1090.0, 2295.0, 2427.800000000003, 1800.0, 1221.0, 1046.0, 1290.0, 1065.0, 1850.0, 1097.0, 1200.0, 2160.0, 1140.0, 1297.0, 1150.0, 1375.0, 1245.0, 2427.800000000003, 1800.0, 1594.0, 1200.0, 900.0, 900.0, 2427.800000000003, 1000.0, 2427.800000000003, 1160.0, 1200.0, 900.0, 1570.0, 1290.0, 1200.0, 2427.800000000003, 2250.0, 1270.0, 1145.0, 1320.0, 1065.0, 1650.0, 1371.0, 2427.800000000003, 1575.0, 1362.0, 2427.800000000003, 1255.0, 925.0, 1088.0, 1234.0, 2140.0, 1584.0, 1175.0, 1555.0, 900.0, 1585.0, 1354.0, 1165.0, 1200.0, 1740.0, 1200.0, 985.0, 1200.0, 900.0, 1340.0, 1583.0, 1200.0, 1200.0, 1680.0, 1573.0, 1227.0, 1210.0, 1650.0, 1000.0, 1485.0, 1735.0, 1730.0, 1684.0, 1686.0, 1654.0, 1600.0, 1100.0, 1655.0, 1830.0, 1430.0, 1989.0, 1044.0, 1426.0, 1115.0, 1000.0, 900.0, 1140.0, 900.0, 1200.0, 900.0, 1200.0, 1030.0, 1910.0, 1950.0, 1724.0, 1200.0, 1314.0, 1400.0, 1400.0, 1115.0, 1300.0, 2400.0, 1332.0, 1000.0, 1200.0, 2427.800000000003, 1070.0, 1600.0, 1196.0, 1025.0, 1220.0, 2180.0, 1600.0, 1270.0, 2427.800000000003, 1932.47, 2086.0, 1165.0, 1310.0, 1440.0, 1900.0, 900.0, 2427.800000000003, 1075.0, 1260.0, 1282.0, 1100.0, 1717.0, 1088.0, 1335.0, 1200.0, 1325.0, 1157.0, 2427.800000000003, 1200.0, 1510.0, 1050.0, 1200.0, 1516.0, 2400.0, 1050.0, 1000.0, 1050.0, 900.0, 1194.0, 900.0, 1210.0, 1660.0, 1410.0, 1305.0, 1800.0, 1206.0, 900.0, 1150.0, 1100.0, 1245.0, 1850.0, 2427.800000000003, 2150.0, 2427.800000000003, 1035.0, 900.0, 1200.0, 1155.0, 1200.0, 900.0, 960.0, 900.0, 2427.800000000003, 1571.0, 1691.0, 1489.0, 900.0, 980.0, 1215.0, 911.0, 1535.0, 1200.0, 1500.0, 1588.0, 900.0, 957.0, 1200.0, 1495.0, 900.0, 2427.800000000003, 2206.0, 1181.0, 1309.0, 1400.0, 1650.0, 1622.0, 1225.0, 1719.0, 995.0, 1120.0, 1047.0, 1466.0, 1691.0, 900.0, 1659.0, 1270.0, 1269.0, 1200.0, 1153.0, 1315.0, 2427.800000000003, 1354.0, 1344.0, 1180.0, 1313.0, 1100.0, 900.0, 1200.0, 900.0, 900.0, 1173.0, 1190.0, 1250.0, 1644.0, 1740.0, 1710.0, 1000.0, 1662.0, 1162.0, 1362.0, 900.0, 2251.5, 900.0, 1250.0, 1410.0, 2427.800000000003, 970.0, 1799.0, 1500.0, 1200.0, 1810.0, 1084.0, 1500.0, 1328.0, 1485.0, 1500.0, 1100.0, 1360.0, 900.0, 900.0, 1031.0, 1380.0, 1040.0, 2427.800000000003, 1404.0, 1200.0, 1267.0, 1510.0, 900.0, 1457.0, 2427.800000000003, 1408.0, 1005.0, 2427.800000000003, 900.0, 1182.0, 2427.800000000003, 1367.0, 1200.0, 1100.0, 1565.0, 1720.0, 1107.0, 1360.0, 900.0, 1701.0, 1350.0, 1016.0, 1500.0, 900.0, 1500.0, 2292.0, 1280.0, 1750.0, 1500.0, 1500.0, 1245.0, 1025.0, 1945.0, 1640.0, 1348.0, 1100.0, 1616.0, 1855.0, 1255.0, 2040.0, 2400.0, 1195.0, 1022.0, 900.0, 1264.0, 1650.0, 1020.0, 2427.800000000003, 950.0, 2427.800000000003, 1936.0, 1075.0, 1223.0, 1500.0, 1050.0, 2100.0, 1200.0, 1650.0, 1495.0, 1500.0, 1605.0, 1270.0, 1081.0, 1600.0, 1596.0, 900.0, 1557.0, 1410.0, 1984.0, 1196.0, 2259.0, 1720.0, 900.0, 1256.0, 1243.0, 1310.0, 1140.0, 1600.0, 1790.0, 1935.0, 1674.0, 1200.0, 1786.0, 900.0, 1035.0, 1564.0, 1334.0, 2427.800000000003, 1365.0, 1115.0, 1020.0, 1369.0, 1240.0, 900.0, 1418.0, 2250.0, 900.0, 1020.0, 1290.0, 1500.0, 1290.0, 1881.0, 943.0, 1140.0, 1035.0, 1500.0, 2427.800000000003, 1232.0, 1290.0, 2427.800000000003, 1576.0, 980.0, 2427.800000000003, 1346.0, 1181.0, 2427.800000000003, 1307.0, 1215.0, 1180.0, 900.0, 1115.0, 1025.0, 1910.0, 1200.0, 2427.800000000003, 1349.0, 1175.0, 1150.0, 935.0, 1404.0, 2427.800000000003, 1203.0, 900.0, 1571.0, 1125.0, 900.0, 1198.0, 1200.0, 1200.0, 2427.800000000003, 1830.0, 1432.0, 2300.0, 1331.95, 1876.0, 1639.0, 1200.0, 1665.0, 1140.0, 2093.0, 1450.0, 1330.0, 1200.0, 1800.0, 2427.800000000003, 1486.0, 1425.0, 1255.0, 900.0, 1225.0, 1274.0, 2427.800000000003, 1350.0, 1100.0, 1760.0, 1200.0, 1800.0, 1095.0, 1140.0, 1530.0, 1724.0, 1058.0, 1464.0, 1975.0, 1112.0, 1600.0, 1648.0, 1100.0, 900.0, 2265.0, 1200.0, 900.0, 1010.0, 1150.0, 1340.0, 1850.0, 907.0, 1688.0, 1160.0, 1600.0, 1800.0, 2427.800000000003, 1464.0, 1295.0, 1012.0, 1000.0, 1010.0, 1379.0, 1121.0, 1200.0, 2427.800000000003, 1246.0, 1420.0, 900.0, 1090.0, 1355.0, 1425.0, 2427.800000000003, 1700.0, 2099.0, 1330.0, 1520.0, 1490.0, 1000.0, 1291.0, 1339.0, 1330.0, 2427.800000000003, 1200.0, 1650.0, 2427.800000000003, 1125.0, 1310.0, 1096.0, 900.0, 2427.800000000003, 1140.0, 1480.0, 2427.800000000003, 1500.0, 1850.0, 900.0, 900.0, 1200.0, 1470.0, 900.0, 900.0, 1200.0, 1160.0, 1590.0, 900.0, 1178.0, 1360.0, 1155.0, 900.0, 1615.0, 2427.800000000003, 1140.0, 1508.0, 2395.0, 1590.0, 2215.0, 1667.0, 1903.0, 1530.0, 1730.0, 1048.0, 1225.0, 1200.0, 1175.0, 1585.0, 1651.0, 1500.0, 1783.0, 1015.0, 1800.0, 2427.800000000003, 1200.0, 1132.0, 1200.0, 1490.0, 1917.0, 1703.0, 1211.0, 1310.0, 1146.0, 1041.0, 1453.0, 900.0, 1477.0, 1420.0, 2000.0, 1140.0, 1380.0, 1095.0, 1825.0, 1665.0, 1245.0, 2427.800000000003, 2010.0, 1226.0, 1075.0, 1226.0, 900.0, 1153.0, 1600.0, 1000.0, 1400.0, 1256.0, 1200.0, 1425.0, 1375.0, 1919.0, 2111.0, 970.0, 1353.0, 1405.0, 1285.0, 1050.0, 1349.0, 2427.800000000003, 900.0, 1440.0, 2425.0, 2200.0, 1810.0, 1200.0, 1060.0, 1015.0, 2427.800000000003, 1500.0, 1454.0, 1075.0, 900.0, 1187.0, 900.0, 1200.0, 1805.0, 1527.0, 1675.0, 1050.0, 1500.0, 1262.0, 1345.0, 1715.0, 2427.800000000003, 2427.800000000003, 1141.0, 2427.800000000003, 900.0]\n"
     ]
    }
   ],
   "source": [
    "lower_limit = df['total_sqft'].quantile(0.10)\n",
    "upper_limit = df['total_sqft'].quantile(0.90)\n",
    "a = []\n",
    "for x1 in df['total_sqft']:\n",
    "    if x1 < lower_limit:\n",
    "        x1 = lower_limit\n",
    "        a.append(x1)\n",
    "    elif x1 > upper_limit:\n",
    "        x1 = upper_limit\n",
    "        a.append(x1)\n",
    "    else:\n",
    "        a.append(x1)\n",
    "        \n",
    "print(a)\n",
    "df['total_sqft'] = a"
   ]
  },
  {
   "cell_type": "code",
   "execution_count": 35,
   "id": "e030fd59",
   "metadata": {},
   "outputs": [
    {
     "data": {
      "text/html": [
       "<div>\n",
       "<style scoped>\n",
       "    .dataframe tbody tr th:only-of-type {\n",
       "        vertical-align: middle;\n",
       "    }\n",
       "\n",
       "    .dataframe tbody tr th {\n",
       "        vertical-align: top;\n",
       "    }\n",
       "\n",
       "    .dataframe thead th {\n",
       "        text-align: right;\n",
       "    }\n",
       "</style>\n",
       "<table border=\"1\" class=\"dataframe\">\n",
       "  <thead>\n",
       "    <tr style=\"text-align: right;\">\n",
       "      <th></th>\n",
       "      <th>total_sqft</th>\n",
       "      <th>bath</th>\n",
       "      <th>price</th>\n",
       "      <th>bhk</th>\n",
       "      <th>price_per_sqft</th>\n",
       "    </tr>\n",
       "  </thead>\n",
       "  <tbody>\n",
       "    <tr>\n",
       "      <th>count</th>\n",
       "      <td>13274.000000</td>\n",
       "      <td>13320.000000</td>\n",
       "      <td>13320.000000</td>\n",
       "      <td>13320.000000</td>\n",
       "      <td>1.327400e+04</td>\n",
       "    </tr>\n",
       "    <tr>\n",
       "      <th>mean</th>\n",
       "      <td>1445.847098</td>\n",
       "      <td>2.688814</td>\n",
       "      <td>112.565627</td>\n",
       "      <td>2.802778</td>\n",
       "      <td>7.883254e+03</td>\n",
       "    </tr>\n",
       "    <tr>\n",
       "      <th>std</th>\n",
       "      <td>474.177564</td>\n",
       "      <td>1.338754</td>\n",
       "      <td>148.971674</td>\n",
       "      <td>1.294496</td>\n",
       "      <td>1.064303e+05</td>\n",
       "    </tr>\n",
       "    <tr>\n",
       "      <th>min</th>\n",
       "      <td>900.000000</td>\n",
       "      <td>1.000000</td>\n",
       "      <td>8.000000</td>\n",
       "      <td>1.000000</td>\n",
       "      <td>2.678298e+02</td>\n",
       "    </tr>\n",
       "    <tr>\n",
       "      <th>25%</th>\n",
       "      <td>1100.000000</td>\n",
       "      <td>2.000000</td>\n",
       "      <td>50.000000</td>\n",
       "      <td>2.000000</td>\n",
       "      <td>4.227642e+03</td>\n",
       "    </tr>\n",
       "    <tr>\n",
       "      <th>50%</th>\n",
       "      <td>1280.000000</td>\n",
       "      <td>2.000000</td>\n",
       "      <td>72.000000</td>\n",
       "      <td>3.000000</td>\n",
       "      <td>5.416667e+03</td>\n",
       "    </tr>\n",
       "    <tr>\n",
       "      <th>75%</th>\n",
       "      <td>1690.000000</td>\n",
       "      <td>3.000000</td>\n",
       "      <td>120.000000</td>\n",
       "      <td>3.000000</td>\n",
       "      <td>7.293505e+03</td>\n",
       "    </tr>\n",
       "    <tr>\n",
       "      <th>max</th>\n",
       "      <td>2427.800000</td>\n",
       "      <td>40.000000</td>\n",
       "      <td>3600.000000</td>\n",
       "      <td>43.000000</td>\n",
       "      <td>1.200000e+07</td>\n",
       "    </tr>\n",
       "  </tbody>\n",
       "</table>\n",
       "</div>"
      ],
      "text/plain": [
       "         total_sqft          bath         price           bhk  price_per_sqft\n",
       "count  13274.000000  13320.000000  13320.000000  13320.000000    1.327400e+04\n",
       "mean    1445.847098      2.688814    112.565627      2.802778    7.883254e+03\n",
       "std      474.177564      1.338754    148.971674      1.294496    1.064303e+05\n",
       "min      900.000000      1.000000      8.000000      1.000000    2.678298e+02\n",
       "25%     1100.000000      2.000000     50.000000      2.000000    4.227642e+03\n",
       "50%     1280.000000      2.000000     72.000000      3.000000    5.416667e+03\n",
       "75%     1690.000000      3.000000    120.000000      3.000000    7.293505e+03\n",
       "max     2427.800000     40.000000   3600.000000     43.000000    1.200000e+07"
      ]
     },
     "execution_count": 35,
     "metadata": {},
     "output_type": "execute_result"
    }
   ],
   "source": [
    "df.describe()"
   ]
  },
  {
   "cell_type": "code",
   "execution_count": 36,
   "id": "b64cf0f1",
   "metadata": {},
   "outputs": [
    {
     "data": {
      "text/plain": [
       "(13320, 7)"
      ]
     },
     "execution_count": 36,
     "metadata": {},
     "output_type": "execute_result"
    }
   ],
   "source": [
    "df.shape"
   ]
  },
  {
   "cell_type": "code",
   "execution_count": 37,
   "id": "8796b7ad",
   "metadata": {},
   "outputs": [
    {
     "name": "stdout",
     "output_type": "stream",
     "text": [
      "[2, 4, 3, 3, 2, 2, 4, 4, 3, 4.0, 3, 4, 2, 2, 3, 2, 3, 3, 3, 2, 2.0, 3, 4, 3, 2.0, 3, 2, 3, 2, 3, 4, 3, 3, 3, 3, 2, 2, 3, 3, 2, 2, 3, 2.0, 2.0, 2, 4.0, 2, 2, 2, 2, 2, 3, 3, 2, 3, 2, 4, 2, 4.0, 2, 3, 2, 4, 2, 4.0, 2, 2, 2, 4.0, 2, 3, 2, 3, 2, 3, 2, 2, 3, 2, 4.0, 3, 4, 2, 3, 3, 4.0, 3, 2, 2, 4.0, 2, 2, 3, 4, 2, 3, 4, 3, 2, 3, 3, 2, 3, 2, 2, 2, 3, 3, 2, 2, 3, 3, 2, 3, 4, 3, 3, 3, 2, 2, 3, 3, 4, 4, 3, 2, 3, 2, 2, 4.0, 3, 3, 2, 4, 3, 2, 2, 2, 3, 3, 4.0, 4.0, 3, 2, 2, 4.0, 3, 2, 3, 4.0, 3, 2, 3, 3, 2, 2, 2, 3, 3, 4, 3, 2, 3, 4, 3, 2, 3, 3, 2, 3, 4.0, 2.0, 2, 3, 3, 3, 4.0, 2.0, 2.0, 2, 2, 3, 3, 3, 2, 3, 2, 2, 2, 2, 4, 3, 4, 4.0, 2, 2, 2, 3, 3, 2, 2, 3, 2, 2, 3, 3, 3, 2, 2, 4, 4, 3, 3, 3, 3, 2, 4.0, 2.0, 3, 3, 3, 3, 4, 2, 3, 3, 2, 2, 3, 2, 2, 2, 2, 2, 2, 3, 2, 3, 4.0, 2, 2.0, 4.0, 2.0, 3, 2, 3, 2, 3, 3, 3, 2, 2, 2, 2, 2, 4, 2, 2, 4.0, 3, 4, 3, 2, 2, 2, 4, 3, 3, 2, 3, 2, 3, 2, 2, 3, 3, 2, 4, 3, 3, 2, 3, 4.0, 3, 3, 3, 2, 3, 2, 2, 2, 2, 2, 2, 2, 2, 3, 2, 4, 3, 4, 2, 3, 3, 3, 2, 2.0, 3, 4, 3, 2, 3, 2, 3, 2, 4.0, 2, 2, 2, 2, 2, 2, 2, 4, 3, 4, 3, 2, 2, 3, 3, 2, 4, 2, 3, 2, 2, 4, 3, 2, 2, 2, 2, 3, 2.0, 2, 3, 3, 3, 3, 2, 2, 3, 2, 2.0, 3, 3, 2, 4, 2, 2, 3, 4, 2.0, 2, 2.0, 2, 2, 2, 2, 4, 2, 2, 3, 2, 3, 3, 2.0, 3, 3, 3, 2, 2, 2, 2, 2, 3, 3, 3, 2, 2, 2, 3, 2, 2, 2, 2, 4.0, 2, 3, 3, 4, 2, 4, 2, 2, 4, 3, 4.0, 2, 2.0, 2, 2, 4.0, 3, 3, 2, 3, 2, 2, 2, 3, 2, 2, 2, 4.0, 3, 2, 2, 3, 2, 2, 2, 2, 4.0, 3, 3, 3, 2, 3, 4, 2, 3, 3, 3, 2, 3, 2.0, 3, 3, 2, 3, 2, 4, 2, 4, 3, 3, 2, 4.0, 3, 3, 2, 2, 2, 2, 3, 3, 2, 4, 2, 2, 4, 2, 2, 2, 2, 4, 2, 2, 4, 4, 4.0, 4.0, 3, 4, 4, 2, 2, 3, 4.0, 3, 2, 2, 2, 2, 2, 2, 3, 2, 2, 3, 3, 3, 2.0, 2, 2, 2, 2, 2, 4, 2.0, 2, 4, 4, 4, 4, 3, 4, 3, 3, 2, 3, 2, 4, 2, 2.0, 2, 4, 3, 2, 2, 2, 3, 3, 3, 2, 3, 4.0, 4.0, 2, 3, 3, 3, 3, 3, 2, 4.0, 3, 2, 3, 2, 2, 3, 4.0, 2, 2, 2.0, 2, 4, 2, 2.0, 2, 3, 2, 3, 4, 3, 3, 2, 4, 3, 2, 4, 3, 3, 2, 2, 3, 2, 2, 2.0, 2.0, 3, 3, 2, 2, 2, 2, 2, 3, 3, 2, 2.0, 2, 3, 2, 3, 3, 3, 3, 2.0, 2.0, 3, 3, 4.0, 2, 2, 3, 4, 4, 2, 2, 2, 4.0, 4.0, 2, 4, 4, 3, 3, 2, 3, 2.0, 3, 3, 3, 2, 2, 3, 2, 3, 2, 2.0, 4, 2, 3, 3, 4.0, 4, 2, 3, 2, 2.0, 2, 2, 3, 2, 4.0, 3, 2, 3, 3, 2, 3, 3, 4, 3, 2, 2, 3, 2, 2, 4, 3, 3, 2, 2, 3, 4.0, 3, 3, 4, 3, 3, 2, 2.0, 4.0, 3, 4.0, 3, 4, 2, 3, 3, 3, 2, 3, 3, 4, 4, 2, 2, 3, 2, 3, 2, 3, 2, 3, 2, 2, 4.0, 3, 3, 2, 3, 3, 2, 2, 2, 2, 3, 3, 3, 3, 3, 2, 2, 3, 3, 3, 2, 2, 3, 4, 3, 4.0, 4, 2, 2, 2, 3, 2, 2, 2, 4, 2, 3, 3, 2, 2.0, 2, 4, 2, 2, 2, 2.0, 2, 4, 3, 2, 2, 4, 2, 3, 2, 4.0, 2, 4, 2, 2, 2, 2.0, 2, 3, 2, 4.0, 3, 2, 4.0, 2, 2, 3, 2, 2.0, 3, 2, 3, 3, 2, 2, 2.0, 4.0, 3, 3, 2, 4, 4, 4.0, 3, 2, 2, 2, 4.0, 3, 2, 2, 2, 3, 3, 4, 2, 2, 2, 3, 2, 4, 3, 3, 4, 4, 2, 2, 2, 2, 2.0, 2, 3, 4, 3, 3, 2, 4, 2, 4, 3, 3, 3, 2.0, 2, 2, 3, 2, 2, 2, 2, 2, 4.0, 2, 3, 2, 3, 2, 2, 4, 3, 3, 3, 3, 2, 3, 3, 2, 3, 4, 3, 4.0, 2, 2, 4.0, 4, 2, 2, 2, 2, 4.0, 2, 2, 2, 2, 3, 2, 2, 2, 3, 3, 3, 3, 3, 3, 2, 2.0, 3, 3, 4.0, 2.0, 2, 4.0, 4.0, 3, 2, 3, 2, 2, 2, 2, 2, 2.0, 3, 2, 3, 2, 3, 2.0, 2.0, 2.0, 2, 2, 3, 2, 4, 3, 2, 2, 2, 3, 2, 2.0, 2, 3, 3, 2, 4, 3, 3, 3, 2, 4.0, 2, 2, 2, 3, 3, 3, 4, 4, 3, 4.0, 4.0, 3, 4, 2.0, 2, 2, 2, 4, 2, 4, 3, 4, 3, 3, 4, 3, 3, 4, 2, 2, 2.0, 3, 3, 2, 3, 2, 3, 3, 2, 2, 3, 2.0, 3, 2, 2, 2, 2, 4.0, 4.0, 2, 2, 2, 3, 2, 3, 2, 2, 3, 3, 2, 2, 2.0, 4.0, 4, 2.0, 2, 2, 2.0, 3, 2, 3, 2.0, 3, 2, 2, 3, 3, 3, 3, 2, 2, 4, 2, 2, 4, 3, 2, 2.0, 2, 4.0, 2.0, 2.0, 2, 2, 3, 4.0, 2, 3, 2, 2.0, 2, 2.0, 2, 3, 4.0, 2, 3, 2, 2, 4.0, 4, 3, 3, 4.0, 3, 4.0, 3, 3, 3, 4.0, 2, 3, 3, 2, 3, 3, 2, 3, 2, 3, 3, 2, 3, 4, 4.0, 3, 4, 4.0, 2, 4.0, 3, 2, 2, 2, 4, 2, 2, 3, 3, 4.0, 3, 3, 3, 2.0, 2, 3, 2, 2, 4, 2, 3, 4, 2, 3, 2, 4, 3, 3, 4.0, 3, 3, 2.0, 3, 3, 4.0, 2, 4.0, 2, 3, 4.0, 2, 3, 3, 2, 2, 3, 2, 3, 3, 3, 2, 3, 2, 4.0, 3, 4, 4.0, 2, 2, 2, 2, 2, 2, 3, 2, 2, 3, 2, 4, 3, 2, 3, 4.0, 2, 2, 3, 3, 4, 2, 2, 3, 2, 3, 2, 4, 2, 4, 2, 3, 2, 2, 2, 2, 4.0, 2, 3, 3, 2, 2.0, 2, 3, 3, 2, 3, 2, 3, 3, 3, 3, 3, 2.0, 2.0, 2, 3, 2, 4, 3, 4, 2, 2, 2.0, 2, 3, 2, 3, 2, 2.0, 3, 2, 3, 2, 3, 3, 4, 2, 3, 3, 3, 3, 3, 3, 2, 4.0, 4.0, 2, 3, 3, 3, 3, 3, 2, 4.0, 2, 4.0, 3, 3, 2, 2, 4, 3, 2, 3, 3, 3, 4, 4, 2.0, 2.0, 2, 3, 2, 3, 2, 2, 3, 4, 3, 3, 3, 2, 2, 3, 2, 4.0, 2, 2.0, 4, 3, 4, 3, 2, 4, 3, 4, 3, 3, 4, 2, 3, 2, 4.0, 2, 3, 2, 2, 2, 3, 2, 2, 2, 3, 2, 3, 3, 2.0, 3, 3, 4, 4, 3, 2, 2, 3, 2, 3, 3, 3, 4, 3, 2.0, 4.0, 3, 2, 4, 2, 3, 3, 2, 3, 2, 3, 3, 3, 2, 3, 4.0, 2, 2, 3, 2, 2.0, 3, 3, 3, 2, 3, 4, 2, 3, 2, 2, 4, 3, 2, 3, 3, 2, 2, 2, 2, 2, 3, 3, 3, 2, 3, 3, 3, 3, 3, 2, 2, 2, 4.0, 2, 2, 3, 2, 3, 3, 2, 3, 4, 2, 2.0, 4.0, 2, 3, 3, 3, 2, 2, 4.0, 2, 3, 4, 3, 3, 2, 2, 4.0, 3, 2, 3, 3, 2.0, 3, 3, 2, 3, 4.0, 3, 2, 2, 4, 2, 2, 2, 2, 4, 2, 4.0, 2, 3, 3, 3, 4, 2, 4.0, 3, 2, 2, 2, 2, 3, 3, 2, 3, 2, 2, 3, 3, 2, 2, 2, 2, 3, 3, 3, 2.0, 3, 2, 2, 2, 2, 2, 3, 2, 3, 2, 2.0, 4, 3, 3, 3, 3, 2, 2.0, 2.0, 4.0, 3, 3, 2, 2, 3, 2, 3, 2, 2, 2, 4.0, 3, 3, 3, 2, 3, 2, 4, 3, 2, 2, 3, 2.0, 4, 2, 2, 2, 2, 3, 3, 2, 2, 4, 2, 2, 2, 2, 3, 2, 2, 3, 4.0, 2.0, 4.0, 2, 3, 2, 3, 3, 4, 2, 2, 2, 2, 3, 2, 3, 2, 3, 2, 3, 2.0, 2, 2, 2, 2, 2, 3, 3, 2, 3, 2, 3, 2, 2, 3, 2, 2, 2, 2, 2, 2, 2, 2, 3, 4, 4.0, 4, 2, 3, 2, 2, 2, 2.0, 3, 3, 2, 4, 2, 2, 3, 2, 2, 4.0, 3, 4, 2, 3, 2, 3, 2, 2, 3, 2, 3, 3, 3, 3, 4.0, 3, 4, 2, 2, 3, 2, 4, 4.0, 2, 2, 4.0, 3, 4, 2, 3, 2, 3, 2, 3, 3, 2, 3, 4.0, 2, 2, 4.0, 4, 4, 3, 4, 4, 4, 2, 3, 3, 2, 3, 3, 3, 3, 2.0, 4, 3, 2, 2, 3, 4, 2, 3, 3, 3, 3, 3, 2, 3, 2, 4.0, 3, 3, 2.0, 2, 2, 3, 3, 2, 3, 3, 3, 2, 2, 2, 2, 2, 3, 2, 3, 2.0, 2, 4, 2, 2, 4, 2, 3, 3, 2, 4, 4, 3, 2, 3, 3, 3, 4, 2, 2, 2, 3, 2.0, 2, 3, 4, 3, 4.0, 4.0, 3, 3, 4.0, 3, 2, 4.0, 2, 3, 4.0, 3, 4, 3, 4.0, 2.0, 4, 2, 2, 3, 3, 2.0, 3, 4, 2, 2, 2.0, 2, 3, 2, 4.0, 2, 3, 2, 2, 2, 3, 3, 3, 2, 4, 3, 3, 2, 2, 4, 3, 4.0, 4, 2, 2, 2, 2, 2.0, 3, 2, 4, 2, 2, 2, 3, 2.0, 4, 2, 4.0, 2, 2, 2, 3, 3, 2.0, 3, 3, 4.0, 4, 2, 2, 2, 3, 3, 2, 3, 2, 2, 3, 4, 2, 4.0, 3, 2, 3, 2, 3, 2, 4, 2, 2, 4.0, 4.0, 4, 4, 3, 3, 3, 2, 3, 2, 2, 3, 3, 3, 2, 2, 2, 2, 2, 3, 3, 4, 2, 3, 2, 2, 3, 4.0, 3, 3, 2.0, 2, 3, 2, 4, 2, 2, 3, 2, 3, 2, 2, 3, 2, 4, 2, 3, 3, 3, 3, 2, 3, 4.0, 3, 2.0, 2, 2, 4.0, 2, 2, 4, 2, 3, 4, 3, 2, 3, 4, 2, 3, 4, 3, 4, 3, 3, 2, 2, 2, 2, 2, 3, 2, 2, 2, 4, 2, 3, 4, 3, 3, 2, 2, 4.0, 2, 2, 3, 2, 2, 2, 4, 2, 2, 4, 3, 3, 4.0, 3, 3, 2, 2, 4, 2, 4.0, 4, 3, 3, 2, 4, 3, 4.0, 2, 4, 2, 3, 3, 2, 3, 2, 2, 2, 2, 2, 2, 3, 3, 4, 2, 3, 2, 2.0, 2, 3, 2, 2, 2, 2, 2, 3, 2, 4, 2, 2, 2, 3, 2, 4, 2, 3, 3, 2, 3, 2, 4, 3, 2, 2, 3, 3, 2.0, 4.0, 2, 4.0, 3, 3, 3, 3, 2, 2.0, 4, 3, 4, 2, 3, 2, 3, 4.0, 3, 2, 3, 2, 2, 3, 3, 2, 3, 2, 2.0, 3, 2, 2.0, 2, 3, 3, 3, 2, 2, 3, 3, 4, 3, 3, 4.0, 3, 2, 3, 2, 4, 4, 3, 3, 2, 3, 2, 2, 3, 2, 2, 4.0, 2, 2.0, 3, 3, 4, 2.0, 2.0, 2, 3, 2, 2, 2.0, 3, 3, 3, 3, 3, 3, 3, 2, 2, 2, 2, 4, 3, 2, 3, 3, 4.0, 2, 2.0, 2, 3, 4, 3, 4.0, 2, 4.0, 2, 2, 2.0, 2, 3, 4, 2, 2.0, 3, 3, 3, 2, 3, 3, 3, 2, 2, 3, 3, 2, 3, 2, 2, 3, 3, 2, 2, 2, 2, 3, 2, 3, 3, 4, 3, 2, 3, 2, 2, 4, 3, 2, 3, 3, 3, 2, 3, 4, 2, 2, 3, 2, 4.0, 2, 2, 3, 2, 2, 2, 3, 2.0, 3, 2, 3, 2, 2, 2, 2, 2, 4, 3, 2, 3, 3, 4.0, 3, 3, 3, 2, 4, 3, 4, 3, 4, 2, 3, 4, 3, 3, 2, 2, 3, 2, 2, 2.0, 2, 2, 2, 4, 4, 3, 4, 3, 3, 3, 2, 3, 3, 4, 4, 3, 2, 4, 2, 2, 2, 2.0, 3, 3, 4, 3, 2, 2.0, 3, 3, 2, 3, 4, 4.0, 2, 3, 4.0, 2.0, 2, 3, 3, 2, 2, 2, 3, 3, 2, 2, 4.0, 3, 4.0, 2, 4, 3, 2, 4.0, 2, 3, 4.0, 2, 2, 4, 4, 3, 3, 3, 2, 2, 2, 4, 2, 3, 2.0, 3, 2, 3, 3, 3, 2, 4, 3, 3, 2, 3, 4.0, 2, 2, 2, 2, 2, 3, 3, 2, 4, 4, 2, 2, 3, 2, 3, 2, 2, 2, 3, 2, 4, 2, 3, 4, 3, 2, 4.0, 2, 2, 2, 2, 2, 2, 2, 3, 2, 3, 2, 4.0, 2, 2, 2, 3, 2.0, 2, 3, 3, 3, 3, 3, 2, 4, 4, 4, 2, 2, 4, 3, 4, 3, 3, 2, 2, 3, 3, 2, 2.0, 3, 3, 2, 2, 3, 4, 2, 2, 2, 2, 3, 4.0, 2, 3, 2, 3, 2.0, 3, 3, 3, 2, 3, 2, 2, 2, 4, 2, 3, 4, 4, 2.0, 3, 2, 4.0, 2, 3, 2, 2, 2, 3, 3, 4, 2, 2, 3, 2, 2, 4, 2, 3, 3, 2, 3, 2, 4.0, 2, 3, 4, 2, 2, 4, 2, 2, 3, 2, 2, 2, 3, 2, 2, 3, 4, 4.0, 3, 4, 2, 2, 2, 3, 3, 3, 3, 3, 2, 3, 4, 4, 4.0, 3, 2, 3, 3, 4, 2, 2, 2, 2, 2, 4, 4, 3, 2, 3, 2, 3, 3, 3, 3, 3, 3, 4, 4, 2, 3, 2, 2.0, 3, 2, 2.0, 4.0, 3, 2, 3, 2.0, 2, 3, 4, 2, 2.0, 2, 2, 2, 3, 2, 3, 2, 4, 2, 2, 2, 4, 2, 4, 3, 2, 3, 3, 4, 4, 3, 4, 3, 3, 3, 2, 2, 2.0, 2, 4.0, 4, 4.0, 3, 2, 3, 3, 2, 3, 2, 3, 3, 3, 3, 3, 3, 2, 2, 4.0, 3, 4.0, 2, 2, 2, 2.0, 4.0, 2, 2, 2, 4, 3, 2, 2, 2, 3, 2, 2, 3, 2, 2, 2.0, 3, 2, 2, 3, 2, 3, 2.0, 4.0, 2, 3, 2, 2, 2, 2, 3, 3, 3, 3, 4, 3, 4, 4, 4, 2, 2, 2, 4, 2, 3, 2, 3, 3, 3, 3, 2, 2, 2, 3, 4, 4.0, 3, 4.0, 3, 2, 2, 2, 3, 2, 4, 2, 2, 2, 2, 2, 3, 3, 4.0, 3, 3, 2.0, 2, 3, 2, 4, 3, 2, 3, 3, 2, 4, 2, 3, 4.0, 2, 3, 2, 3, 2.0, 2, 3, 4, 3, 3, 4, 3, 3, 3, 2, 3, 2, 3, 2, 3, 2, 2, 4, 2, 2, 2, 4, 2.0, 3, 2, 2, 4, 2, 2, 2.0, 2, 2, 2, 3, 2, 2, 3, 3, 4, 2, 2, 3, 3, 3, 4, 2, 3, 2, 3, 2, 4, 3, 2, 2, 3, 3, 3, 3, 2, 4, 2, 3, 4.0, 3, 3, 4, 3, 2, 2, 3, 3, 3, 4, 2, 3, 2, 3, 3, 2, 3, 2, 3, 2, 2, 2, 3, 2, 3, 3, 2, 2, 4.0, 3, 2, 2, 2, 4, 2, 2, 4, 2, 2, 4, 2, 4, 4, 2, 3, 3, 3, 2, 2, 3, 3, 3, 3, 3, 3, 2, 3, 3, 2, 3, 2.0, 3, 2, 2, 3, 3, 2, 2, 2, 3, 2, 2, 2, 4, 2, 3, 2, 2, 2, 3, 2, 2.0, 3, 3, 2, 3, 2, 3, 3, 3, 3, 2, 3, 2, 2, 2, 2.0, 3, 3, 3, 3, 2, 3, 2, 2, 2, 3, 2, 2, 2, 3, 2, 3, 4, 3, 3, 2, 2, 4.0, 2, 2, 3, 3, 3, 4, 2, 2, 2, 2, 3, 2, 4.0, 2, 2, 2.0, 2, 2, 4, 3, 3, 3, 2, 3, 2, 4, 2, 4, 2, 3, 4, 2, 2, 2, 4, 2.0, 2, 2, 4.0, 2, 2, 4.0, 3, 3, 2, 2, 4, 3, 2.0, 3, 3, 3, 2, 2, 4.0, 3, 3, 4, 2, 4, 2, 3, 4, 4.0, 2, 3, 2, 2, 2, 2, 2, 3, 2.0, 3, 2, 4.0, 3, 3, 2, 2, 3, 2, 2, 2, 3, 3, 4.0, 2, 2, 2, 2, 3, 2, 2, 3, 3, 3, 2, 2.0, 2, 3, 2.0, 2, 3, 2.0, 2, 2.0, 3, 2, 3, 4, 3, 2, 2.0, 3, 2, 2, 4.0, 2.0, 2, 4, 2, 2, 4, 4, 2, 2.0, 3, 3, 2, 2, 2, 2, 4.0, 3, 2, 3, 2, 4.0, 2, 3, 2, 2, 3, 4, 4.0, 3, 3, 2, 2, 3, 2, 3, 3, 2.0, 3, 2, 4, 2, 2, 3, 4, 2, 3, 2, 2, 2, 3, 3, 3, 4, 3, 3, 3, 3, 3, 2, 2, 2, 2.0, 2, 2, 3, 2, 4, 2, 3, 4.0, 2, 4.0, 2, 4, 3, 3, 2, 2, 2, 4.0, 3, 2, 2.0, 2, 2, 4, 3, 2, 2, 4.0, 2, 2, 3, 3, 3, 2, 2, 2, 3, 2, 2, 4.0, 2, 3, 2, 3, 2, 2, 2, 3, 3, 2, 2, 2, 3, 2.0, 2, 3, 2, 2, 3, 2, 2, 3, 3, 2, 3, 3, 3, 4.0, 2, 2, 2, 3, 2, 3, 3, 2, 2, 2.0, 3, 3, 4.0, 2, 4.0, 2, 3, 4, 2.0, 3, 2, 3, 4, 2, 3, 2, 3, 3, 2, 2, 2, 2, 4, 3, 2, 4, 3, 2, 3, 3, 4.0, 3, 4.0, 3, 2, 3, 2, 3, 3, 2, 4.0, 4.0, 3, 2, 2, 2, 3, 4.0, 2.0, 2, 2, 3, 3, 3, 2, 2, 4, 2, 2, 3, 2, 2, 2, 3, 3, 3, 4.0, 3, 2, 2.0, 2, 2, 3, 2, 3, 3, 2, 4, 3, 4, 3, 3, 2, 2, 3, 4.0, 2, 2, 2, 4.0, 3, 3, 2, 2, 4.0, 2, 3, 4.0, 4.0, 4.0, 3, 2, 3, 3, 2, 2, 3, 4.0, 2, 3, 2, 4, 3, 4, 2, 3, 3, 3, 2, 4, 2, 3, 2, 4, 4, 4.0, 4, 3, 3, 2, 3, 2, 2, 3, 2, 3, 4, 2, 2, 2, 3, 3, 4.0, 2, 3, 2, 3, 3, 3, 3, 3, 3, 3, 4, 2.0, 3, 4, 3, 4, 4, 3, 3, 2, 3, 3, 4, 4, 3, 2, 3, 2, 4, 2.0, 2, 4, 2, 4, 3, 3, 2, 3, 3, 4.0, 2, 3, 3, 3, 3, 3, 2, 3, 2.0, 3, 4.0, 2, 3, 2, 4, 3, 3, 3, 2, 3, 2, 2, 2, 2, 3, 3, 4, 2, 2, 3, 4.0, 2, 3, 3, 2, 2, 3, 2, 2, 4, 3, 2, 4.0, 2.0, 2, 2, 2, 4.0, 3, 2, 3, 3, 3, 2, 4.0, 2, 3, 2, 2, 2, 4, 3, 2, 3, 3, 4, 2, 3, 3, 3, 3, 2, 2, 2, 2, 3, 2, 2, 2, 2, 2, 4, 2, 4, 3, 2, 2, 2, 2, 2, 2, 2, 2, 2, 4, 3, 2, 2.0, 3, 2, 3, 4.0, 3, 2, 4, 4, 2, 3, 3, 3, 4.0, 2, 4, 2, 2, 3, 4.0, 2, 2, 4, 2, 3, 3, 2, 3, 3, 3, 2, 3, 2, 2, 2, 3, 2, 3, 3, 4.0, 3, 3, 3, 2, 2, 2, 2, 3, 2, 2, 3, 3, 3, 2, 3, 2, 3, 2, 2.0, 2, 3, 3, 3, 2, 3, 4, 3, 3, 3, 3, 2, 3, 2, 3, 3, 2, 4.0, 2, 4, 4, 3, 2, 2, 3, 2, 3, 2.0, 3, 3, 4, 2.0, 3, 3, 2, 3, 2, 2, 3, 2.0, 4.0, 2, 4.0, 3, 2, 3, 3, 2, 3, 3, 4, 4.0, 2, 2, 2, 2, 2, 3, 4.0, 2, 4.0, 3, 2, 3, 2, 2, 3, 2.0, 3, 3, 2, 4, 3, 3, 3, 3, 4, 4, 3, 2, 2, 4.0, 2, 2, 2, 2, 3, 4, 4.0, 3, 4, 2, 2, 4, 2, 2, 4, 2, 2.0, 2, 4.0, 3, 2, 4.0, 3, 4.0, 2, 2, 4, 3, 3, 3, 3, 4.0, 4.0, 2, 2.0, 2, 2, 3, 3, 3, 3, 4, 2, 3, 3, 2.0, 2, 4.0, 3, 2, 4, 3, 3, 3, 2, 2, 2, 3, 2, 3, 2, 3, 3, 2, 4.0, 3, 2, 3, 2, 3, 4, 4, 2, 2, 2, 2, 2.0, 2, 2.0, 3, 3, 3, 3, 2, 2.0, 2, 2, 4.0, 2, 2, 3, 3, 4.0, 3, 2.0, 4, 2, 2, 2, 4, 3, 3, 2, 3, 4.0, 4, 2, 3, 4.0, 4, 2, 2.0, 3, 2.0, 2, 3, 3, 4.0, 2, 4, 2.0, 2.0, 4, 2, 2, 3, 3, 3, 3, 2.0, 2, 4.0, 2, 2, 3, 2, 3, 3, 4, 3, 3, 3, 2, 4, 3, 2, 2, 3, 2, 3, 2, 3, 2, 2, 2, 2, 4, 2, 2.0, 2, 2, 3, 2, 2, 3, 2, 2, 3, 2, 4, 2, 3, 3, 4, 3, 4.0, 2, 4.0, 3, 4, 2, 3, 2, 2, 2, 2, 2.0, 4, 4, 2.0, 4.0, 4, 3, 2, 4, 2, 2, 2, 2, 3, 3, 3, 3, 3, 2, 2, 3, 3, 2, 2, 2, 4, 3, 3, 3, 3, 2, 4, 2, 3, 4, 2, 4, 2, 2.0, 3, 3, 4, 4, 2, 2, 3, 2.0, 3, 3, 3, 2, 2.0, 3, 2, 3, 2, 2, 3, 2, 3, 4.0, 2.0, 2, 3, 3, 2.0, 2, 2, 4, 2, 2, 2, 2, 3, 2, 2, 2.0, 3, 2.0, 2, 4.0, 2, 2, 2, 4, 3, 2, 4.0, 3, 2, 3, 4, 4, 3, 3, 2, 3, 3, 3, 4.0, 4, 4, 3, 2, 3, 2.0, 3, 2, 2, 4, 2, 4.0, 2, 3, 3, 3, 3, 3, 2, 2, 2, 3, 4, 4, 3, 3, 2, 4.0, 3, 4, 3, 4, 4, 2, 2, 3, 2.0, 3, 3, 2.0, 2, 3, 2, 3, 2, 2, 3, 2, 4.0, 3, 3, 2.0, 3, 2, 2, 3, 3, 3, 2, 3, 2, 3, 2, 3, 4.0, 3, 2, 2, 2, 2, 2, 2, 2.0, 3, 2, 2, 3, 3, 2, 3, 3, 3, 3, 2, 2, 4.0, 3, 2, 4, 4.0, 3, 3, 2, 2, 3, 2, 3, 2, 3, 3, 4.0, 2, 3, 2, 3, 4, 4, 3, 3, 3, 4.0, 2, 2, 2, 2, 3, 2, 4.0, 4, 2, 2, 3, 3, 2, 3, 2.0, 3, 2, 2, 3, 3, 4, 3, 4, 3, 2, 4.0, 2, 4.0, 2, 2, 3, 3, 2, 3, 2, 3, 3, 4.0, 2, 3, 2, 4.0, 2, 3, 2, 4, 4, 3, 3, 2, 3, 4, 3, 2, 4, 3, 2, 2, 3, 3, 2, 3, 3, 3, 3, 3, 4, 2, 3, 3, 4, 3, 2, 2, 3, 4, 2, 2, 3, 4, 3, 2, 2, 2, 2, 2, 2, 2, 2, 2, 2, 3, 2, 2, 3, 3, 2, 2, 3, 4.0, 4.0, 4, 2, 2, 3, 4, 2, 2, 2, 2, 4, 3, 3, 2, 3, 2, 3, 2, 3, 3, 4.0, 2, 3, 2, 4, 2.0, 4.0, 2, 2.0, 3, 2, 4, 4, 4.0, 2, 2, 2, 3, 2, 2, 2, 2, 2, 3, 3, 3, 2, 2, 3, 2, 3, 3, 3, 2.0, 3, 2, 3, 3, 4, 2, 2.0, 4, 4, 3, 3, 2, 2, 3, 3, 3, 2, 3, 2, 3, 2, 2, 3, 3, 2.0, 4, 3, 2, 4, 3, 3, 3, 3, 3, 3, 2, 2, 4, 2, 2, 2, 4.0, 2, 3, 2, 2, 2, 2, 3, 4.0, 2, 2, 2, 2, 2, 2, 3, 2.0, 2.0, 3, 3, 3, 2, 2, 4, 3, 2, 2, 3, 3, 3, 3, 2, 3, 3, 4, 2, 2, 2, 3, 2, 3, 4, 2, 2, 4, 2, 3, 4, 2, 3, 4.0, 4, 2, 2, 3, 4, 2, 2, 2, 3, 3, 3, 4.0, 3, 3, 2, 3, 3, 2.0, 3, 2, 2, 3, 3, 3, 4, 2, 3, 4.0, 2, 2, 2, 3, 3, 3, 2, 3, 2, 2, 3, 2, 2, 3, 2, 4.0, 2, 2, 4, 3, 4, 3, 4.0, 3, 2, 2, 2, 2, 2, 3, 2, 3, 2, 3, 2, 4, 4.0, 2, 3, 2, 3, 2, 2, 3, 2, 3, 3, 3, 3, 3, 3, 2, 3, 2, 2, 3, 2, 2, 3, 3, 2, 3, 3, 3, 2, 2, 4, 2, 2, 3, 3, 2, 4, 2, 2, 2, 2, 4.0, 2.0, 3, 2, 3, 4, 4, 4, 3, 2, 4.0, 3, 2, 2, 2, 3, 3, 2, 2, 2, 4, 3, 4, 2.0, 2, 3, 3, 3, 4, 2, 2, 3, 4, 2, 3, 2, 4, 2, 2, 3, 4, 2, 2, 3, 2, 2, 2, 4, 3, 4, 2, 3, 2, 3, 3, 2, 3, 3, 2, 2.0, 2, 3, 2, 2, 2, 3, 4, 3, 3, 3, 3, 4, 3, 2, 3, 3, 4, 3, 2, 2, 4, 4.0, 3, 3, 2.0, 2, 4, 4.0, 3, 4, 3, 2, 2, 3, 2, 4, 3, 4, 2, 3, 4, 4, 4.0, 4, 3, 2, 2.0, 2, 2, 2, 2, 2, 2, 2, 3, 4, 3, 2, 2, 2, 3, 3, 2.0, 2, 2, 2, 4, 3, 2, 3, 3, 3, 2.0, 2, 2, 3, 3, 2, 2, 2, 3, 4, 3, 2, 2, 2.0, 4, 4, 2, 3, 3, 4, 2, 2.0, 2, 3, 3, 2, 3, 2, 2, 2, 4, 2, 3, 2, 2, 3, 3, 2, 3, 3, 2, 4.0, 3, 3, 4.0, 2, 4.0, 3, 3, 3, 2, 2, 4, 2, 2, 2, 2.0, 4, 4.0, 4, 4.0, 3, 3, 3, 3, 3, 3, 4.0, 2, 3, 4.0, 3, 3, 2, 4, 3, 3, 2, 2.0, 4.0, 4.0, 4, 3, 2, 2, 2, 2, 3, 2, 2, 2, 2, 2, 3, 2, 2.0, 4.0, 4.0, 2, 2.0, 3, 3, 3, 2, 4, 2, 3, 2, 4, 3, 2, 2, 2, 4, 4, 3, 3, 2, 2, 2, 3, 2, 3, 4, 2, 3, 3, 2, 3, 3, 4, 2, 2, 3, 2, 3, 3, 2.0, 3, 2, 2, 4.0, 2, 3, 4, 4, 2, 4.0, 2, 3, 2, 4.0, 3, 3, 2, 2.0, 2, 3, 2, 2, 3, 3, 3, 3, 3, 2, 3, 4, 2, 2, 4.0, 4.0, 2, 3, 2, 4, 2, 2, 3, 2, 2, 2, 3, 4.0, 2, 2, 4, 2, 4, 4, 3, 3, 2, 4.0, 2, 2, 2, 2, 4, 4, 2, 3, 3, 3, 4, 2, 2.0, 3, 2, 3, 2, 4.0, 2, 3, 3, 2, 4, 3, 4.0, 3, 2, 3, 2, 3, 3, 2, 3, 3, 2, 3, 4, 2, 2, 3, 2, 2, 3, 3, 2, 3, 4, 3, 2.0, 2, 4, 2, 4, 4, 2, 2, 3, 2, 2.0, 4, 2, 3, 3, 2, 2.0, 3, 2, 3, 3, 3, 2, 2, 4.0, 3, 3, 3, 3, 2, 3, 2, 2, 2.0, 4, 4.0, 3, 4, 4, 3, 2, 2, 2, 3, 4.0, 2, 3, 2, 4.0, 4, 2, 2, 4.0, 4, 4.0, 3, 2, 3, 2, 4, 4.0, 4, 2, 2.0, 2, 3, 3, 3, 2, 2, 2, 2, 2, 4, 2, 3, 3, 2, 3, 2, 2, 4, 3, 2, 4, 3, 2.0, 2, 2.0, 2, 3, 4, 3, 3, 4, 2, 2, 3, 3, 2, 3, 4, 3, 2, 2, 2, 2, 3, 2, 2, 2, 3, 2, 4.0, 4, 2, 2.0, 3, 4, 3, 4.0, 3, 2, 2, 2.0, 4.0, 2, 2, 3, 2, 3, 3, 3, 3, 3, 2, 2, 3, 2, 3, 3, 2, 4.0, 4.0, 2.0, 3, 3, 2.0, 4, 3, 4.0, 2, 3, 2, 2, 2, 4.0, 2.0, 3, 2, 3, 2, 2, 3, 2, 4, 2, 4, 3, 3, 2, 4.0, 2, 4.0, 4.0, 3, 3, 2, 4, 3, 3, 2, 2, 4, 3, 2, 3, 3, 3, 3, 2, 2, 3, 2, 2, 2, 4, 4.0, 2, 2, 3, 4.0, 2, 3, 2, 2, 4, 2, 3, 3, 3, 2, 3, 4, 3, 3, 3, 2.0, 2, 2, 4, 3, 3, 2, 2, 2.0, 3, 2, 3, 2, 2, 3, 2, 2, 3, 2, 2, 2, 3, 3, 4, 3, 3, 2, 3, 2, 2, 3, 4, 2, 2, 2, 4, 4, 2, 3, 2, 3, 3, 2, 3, 4, 3, 2, 2, 2, 2, 2, 2, 2, 2, 4, 3, 3, 2, 2, 2, 2, 3, 4.0, 2, 4.0, 3, 3, 3, 3, 2.0, 4, 3, 3, 2, 2.0, 2, 2, 3, 4.0, 3, 2, 2, 2, 2, 4, 4, 4.0, 2.0, 2, 3, 2, 3, 3, 2, 3, 2.0, 3, 2, 2, 3, 2, 2, 2, 2.0, 2, 4, 3, 3, 2, 3, 2, 3, 2, 4.0, 3, 2, 4.0, 2, 2.0, 3, 2, 2, 3, 2, 2, 2, 2, 3, 2, 2, 2, 4, 3, 4, 3, 3, 3, 2, 3, 2, 3, 3, 3, 3, 2, 3, 4, 3, 4, 2, 3, 2, 4.0, 3, 4.0, 2, 2, 2, 4.0, 2, 3, 2, 3, 2, 2, 2, 2, 3, 2, 2, 3, 4.0, 2, 3, 4.0, 3, 2, 3, 3, 4, 2, 2, 3, 4.0, 2, 2.0, 2, 3, 3, 2, 3, 2, 3, 3, 3, 4, 2, 2, 3, 3, 3, 3, 2, 2, 3, 4.0, 3, 4.0, 2, 4, 3, 2, 3, 3, 4.0, 3, 2, 2, 2, 2, 2, 2, 3, 2.0, 4, 2, 2, 3, 3, 3, 2, 2, 2, 2, 4.0, 3, 2, 3, 2, 2, 3, 3, 3, 3, 2, 2, 2, 2, 3, 2, 2, 3, 4.0, 2, 2, 2, 2, 4.0, 2, 2, 2, 3, 4, 2, 2, 2, 4, 3, 3, 3, 2.0, 2, 2, 4, 2, 4.0, 2.0, 2, 4.0, 4.0, 2, 3, 2, 3, 4.0, 3, 2.0, 2, 3, 2, 3, 3, 2, 2, 3, 3, 2, 4.0, 2, 3, 3, 2, 3, 4, 3, 3, 2, 3, 3, 3, 2, 2, 3, 4.0, 2, 2, 4, 4.0, 4, 3, 3, 2.0, 2, 3, 4, 2, 4, 4, 3, 3, 2, 3, 2, 2, 3, 2, 4, 2, 3, 4, 4, 2, 3, 3, 3, 2, 3, 2, 3, 2, 3, 3, 3, 2, 4.0, 2, 3, 4.0, 2, 3, 2, 2, 2, 3, 3, 2, 2, 3, 3, 2, 3, 3, 2, 2, 2, 2, 2, 2, 4, 2.0, 4.0, 2.0, 2, 4.0, 3, 4, 3, 3, 2, 4, 2, 3, 2, 4.0, 3, 2, 2.0, 2, 3, 3, 4, 4, 3, 3, 3, 3, 4, 2, 4.0, 2, 2, 2.0, 2, 4, 2, 2, 2.0, 2, 4, 3, 2, 2.0, 4, 4.0, 3, 2.0, 3, 3, 3, 2, 4.0, 2, 4.0, 3, 2, 3, 3, 4, 2, 4, 2, 2, 3, 2.0, 2, 3, 4.0, 2, 3, 2, 3, 2, 2, 3, 3, 2, 2, 3, 3, 2, 4, 3, 2.0, 2.0, 3, 4, 3, 4.0, 3, 4.0, 2, 2, 2, 4, 2, 2, 2, 2, 3, 2, 3, 2, 3, 2, 3, 2, 2, 3, 2, 3, 2, 2, 3, 4, 2, 3, 2, 4, 2, 4, 2, 2, 2, 4, 2, 3, 3, 2, 2, 3, 3, 2, 2, 3, 2, 3, 3, 3, 2, 3, 4, 3, 3, 3, 3, 2, 4, 2.0, 2, 2, 4, 2, 2.0, 2, 2, 2, 4, 2, 2.0, 2.0, 2, 2, 3, 2, 2, 2, 3, 2, 4, 2.0, 2, 2, 3, 3, 2, 2, 3, 3, 3, 3, 2, 3, 3, 2, 2, 2, 3, 2.0, 2, 3, 2, 4.0, 2, 2, 2, 2, 2, 2, 3, 4, 2.0, 3, 2, 3, 2, 4, 3, 2, 2, 2, 4, 3, 2, 3, 2, 3, 2.0, 2, 2, 3, 2, 3, 3, 3, 3, 4, 2, 4, 3, 3, 2, 2.0, 3, 2, 2, 2, 2, 2, 2, 2, 2, 2, 2, 2, 2.0, 2, 2.0, 4, 2, 3, 2, 2, 2, 2, 4, 4.0, 2, 2, 2, 2, 2, 3, 2, 3, 2, 4, 2, 3, 2, 2, 2, 3, 2.0, 3, 2, 2, 3, 4, 2, 4, 2, 2, 2, 2, 3, 3, 3, 2, 2, 3, 2, 2, 4, 2, 3, 3, 2, 2, 2, 3, 3, 2, 3, 3, 4, 2, 3, 3, 2, 2, 2, 4.0, 3, 2, 2, 4.0, 3, 2, 4, 2, 3, 2, 2, 3, 4, 4.0, 3, 2, 2, 3, 2, 4, 2.0, 3, 2, 3, 2, 2, 4, 2.0, 2, 2, 4.0, 3, 2, 4, 2, 3, 3, 2, 2.0, 2, 3, 2, 2, 2.0, 3, 2, 3, 2, 4, 4.0, 3, 3, 2, 2, 4.0, 3, 2, 3, 2, 2, 3, 2, 2, 3, 2, 2, 2.0, 2, 4, 4, 3, 3, 2, 2, 3, 2, 2, 3, 4.0, 3, 3, 2, 2, 3, 4.0, 2, 3, 3, 4, 3, 2, 3, 4, 3, 2.0, 4, 3, 2, 3, 3, 2, 4, 2, 2, 3, 2, 3, 4, 2, 3, 2, 2, 3, 2, 3, 2, 2.0, 2, 2, 2, 2, 2, 3, 2.0, 3, 3, 2, 2, 4.0, 2, 2, 2, 4.0, 3, 3, 2, 2, 3, 4, 2.0, 3, 4.0, 4, 3, 3, 2, 2, 2, 2, 3, 2, 3, 2, 2, 2, 2, 3, 3, 3, 4, 3, 3, 3, 3, 2, 2, 4, 3, 3, 2, 3, 3, 2, 4.0, 3, 3, 2, 2, 3, 3, 2, 3, 2, 3, 2, 4.0, 3, 3, 3, 4, 2, 4, 2, 2, 2, 3, 2, 2, 3, 2, 3, 2.0, 2, 3, 2.0, 2, 2, 2, 2, 2.0, 2, 2, 2, 2.0, 3, 2, 4.0, 2.0, 4.0, 3, 4, 4, 2, 2, 2, 2, 3, 3, 3, 4, 3, 3, 3, 3, 2, 2, 2, 2.0, 3, 4.0, 3, 4, 2, 2, 2, 3, 2, 4, 2, 3, 2, 4.0, 2, 4, 2, 2, 4, 3, 4, 4, 2, 4, 2, 2.0, 3, 3, 3, 4, 3, 3, 2, 2, 2, 2, 3, 2, 3, 3, 3, 2, 2, 2, 3, 2, 2, 2, 4, 2, 2, 2, 3, 4, 4, 2, 2, 2, 2, 2.0, 4.0, 4, 3, 2, 2, 2, 2, 3, 2, 4.0, 3, 2, 4, 2, 4, 3, 2, 3, 3, 2, 3, 4, 4.0, 3, 3, 4, 4.0, 2, 2, 4.0, 2, 4, 2, 4, 2.0, 4, 2, 3, 2, 3, 2, 2.0, 2, 2.0, 2, 2, 4.0, 2, 3, 3, 2, 3, 3, 2, 3, 2, 3, 4.0, 2, 3, 2, 2, 3, 3, 3, 2, 2.0, 3, 2, 2, 4, 3, 2, 2, 2, 2, 3, 3, 3, 2, 2, 4, 2, 2, 2, 4.0, 3, 3, 2, 2, 2, 2, 4.0, 4, 2, 4.0, 4.0, 2, 3, 4.0, 2.0, 3, 2, 4.0, 3, 3, 2, 3, 3, 2, 4.0, 3, 2, 2.0, 2, 3, 3, 3, 4, 2, 3, 2, 3, 3, 3, 2, 3, 3, 3, 2, 4, 3, 2, 3, 3, 4, 4.0, 2, 2.0, 4, 3, 2, 2, 2.0, 2, 4, 3, 2, 2, 2, 3, 2, 3, 3, 2, 3, 2, 2, 2, 2, 2.0, 2, 2, 3, 4.0, 4.0, 3, 3, 3, 3, 4, 2, 3, 2, 2.0, 2, 3, 3, 2, 2, 3, 3, 3, 3, 2, 3, 4.0, 4, 3, 3, 4, 3, 3, 2, 4, 4.0, 3, 2, 4.0, 2, 3, 2, 3, 4, 2, 2, 3, 2, 2, 3, 3, 2, 2, 3, 3, 3, 2, 4.0, 2, 2.0, 4.0, 2, 2.0, 2, 2, 2.0, 3, 3, 2.0, 3, 2, 3, 3, 2, 2, 2, 4, 4, 2, 3, 3, 2.0, 4, 2, 3, 3, 3, 2, 2, 3, 4, 3, 3, 3, 2, 2, 2, 2, 2, 3, 3, 2, 4.0, 2.0, 3, 4, 3, 2.0, 3, 4.0, 2.0, 3, 2, 2, 4, 3, 2, 2, 3, 2, 4.0, 3, 2, 3, 4.0, 2, 4, 3, 2, 4, 4.0, 2, 2, 3, 3, 3, 2, 4, 3, 4, 4.0, 2, 2, 4, 4.0, 2, 3, 4, 2, 2.0, 3, 3, 3, 4.0, 3, 2, 2, 3, 2, 2, 4.0, 3, 3, 4, 3, 4.0, 2, 4, 3, 2, 3, 2, 4, 3, 3, 3, 3, 3, 2, 2, 2, 3, 3, 3, 2, 2, 4.0, 2, 2, 4, 3, 3, 2.0, 3, 4, 4.0, 2, 3, 3, 3, 2, 2, 2, 3, 2, 3, 2, 2, 3, 4, 3, 2, 3, 2, 3, 3, 2.0, 3, 4.0, 2, 3, 3, 2, 4, 2, 2, 2, 2, 4.0, 2, 2, 3, 2, 2, 3, 3, 2, 3, 2, 4, 4, 4.0, 3, 4, 2, 2, 4, 3, 3, 2, 3, 3, 2, 3, 3, 3, 4.0, 2, 3, 3, 4.0, 4.0, 2, 2, 2, 2, 3, 3, 4, 2, 2, 3, 4, 2.0, 4, 2, 4.0, 3, 3, 3, 3, 3, 4, 2, 2, 3, 4.0, 3, 2, 2, 4, 2, 2, 2, 2, 3, 4, 4, 2, 2, 4, 3, 3, 4.0, 2, 3, 4.0, 3, 3, 2, 3, 2, 2, 2, 3, 3, 2, 4, 2, 4, 2, 3, 4.0, 4.0, 2, 2, 3, 2, 2, 3, 3, 3, 2.0, 3, 2, 3, 3, 2, 3, 2, 4.0, 3, 3, 3, 2, 3, 2, 2.0, 4, 2, 2, 3, 2, 3, 3, 2, 3, 3, 3, 2, 2, 3, 3, 4, 2, 3, 4.0, 4, 3, 2, 4, 2, 2, 2, 4, 4.0, 3, 2, 2, 3, 3, 3, 3, 2.0, 3, 3, 4, 4.0, 3, 3, 3, 2, 4, 3, 2, 3, 3, 2, 4.0, 3, 2, 4.0, 2, 2, 3, 3, 3, 3, 3, 2, 3, 4, 3, 3, 2, 3, 2, 3, 3, 2, 2.0, 2, 2.0, 2, 2, 2, 4, 2, 2, 4, 4.0, 2.0, 3, 3, 4, 3, 2, 2, 2, 2, 3, 2, 4, 2, 2, 2, 4, 2.0, 3, 2, 2, 4, 4, 3, 2, 2, 4, 2, 2.0, 4, 2.0, 2, 2, 2, 3, 2.0, 3, 3, 3, 2.0, 2, 2, 3, 3, 3, 3, 2, 2, 2, 3, 3, 2, 2.0, 3, 2.0, 4.0, 3, 2, 2, 3, 2, 2, 2, 4, 2, 2, 2, 3, 4, 2, 4, 2, 2, 3, 2, 3, 3, 3, 2, 2, 2, 4, 2, 4, 4.0, 2, 2, 3, 3, 4, 2, 2, 2, 2, 3, 2, 2, 3, 3, 3, 2, 2, 3, 2, 2, 3, 2, 2, 2, 4, 2, 2, 2, 4.0, 2, 3, 2, 3, 3, 4.0, 4, 2, 2, 2, 2, 2, 3, 3, 2.0, 2, 2, 3, 4, 2, 2, 3, 3, 2, 3, 2, 2, 2, 2, 3, 3, 2, 3, 3, 4.0, 2, 4.0, 2, 3, 3, 3, 3, 2, 2, 3, 2, 2, 2, 2, 2, 3, 3, 3, 4.0, 3, 3, 2, 3, 3, 2.0, 2, 3, 2, 2, 3, 2, 3, 2, 2, 2, 3, 3, 2, 2.0, 3, 3, 3, 2, 2, 4, 4.0, 4.0, 3, 2, 2, 3, 4.0, 4, 4, 2, 3, 3, 3, 3, 2, 3, 2, 2.0, 4.0, 2, 4.0, 3, 2, 4, 2, 3, 3, 4, 2, 3, 3, 3, 3, 3, 3, 3, 3, 2, 3, 2, 2, 2, 4, 2, 2, 3, 3, 2, 3, 3, 2, 3, 3, 3, 2.0, 2.0, 2, 2, 3, 2, 4, 3, 2, 3, 3, 2, 4, 3, 4.0, 3, 3, 3, 3, 2.0, 4.0, 4.0, 2, 3, 4, 4, 2, 2, 2, 2, 2, 3, 3, 3, 3, 4.0, 3, 2, 3, 3, 3, 2, 4.0, 3, 3, 2, 2, 4.0, 2.0, 3, 2, 2, 3, 2, 3, 3, 2, 4, 3, 3, 2, 3, 3, 2, 3, 3, 2, 3, 2, 2.0, 4, 3, 2, 4, 3, 2, 4, 4.0, 3, 2, 2, 2, 3, 3, 3, 4, 3, 2, 4, 4.0, 2, 3, 2, 2, 2, 2, 2.0, 2, 2, 3, 3, 3, 2, 3, 2, 2.0, 4, 3, 2, 3, 3, 2, 2.0, 2, 4, 2, 3, 2, 3, 2, 4.0, 2, 2, 3, 2, 3, 2, 4.0, 2.0, 3, 2.0, 2.0, 3, 2, 2, 2, 3, 3, 2, 2, 2, 4, 3, 4, 2, 2, 2, 2, 3, 3, 2, 2, 2, 2, 2.0, 4, 2, 2, 3, 3, 2, 2, 2, 2, 3, 3, 3, 2, 3, 2, 3, 2, 4, 2, 4.0, 3, 3, 4.0, 4.0, 2, 2, 2.0, 2, 3, 2, 3, 3, 2, 3, 3, 4, 3, 4, 2, 2, 4, 3, 2, 3, 3, 3, 2.0, 2, 3, 3, 4, 2, 2, 3, 2, 2, 3, 2, 3, 2, 2, 2, 3, 2, 3, 2, 2, 2.0, 3, 2, 2, 2, 4.0, 3, 4, 2, 3, 4.0, 2, 3, 3, 2, 3, 2, 2, 2, 3, 3, 3, 3, 4, 2, 2, 2, 2, 4, 2, 4.0, 3, 2, 2, 4, 4.0, 3, 2, 3, 3, 2, 2, 3, 3, 2, 3, 4, 2, 2, 2.0, 3, 2, 3, 2, 4.0, 2, 3, 2, 3, 2, 4.0, 4, 2, 2, 2, 3, 4, 2, 3, 2, 2, 2.0, 2, 2, 2, 2, 3, 3, 2, 3, 2, 3, 2, 2, 3, 3, 2, 2, 3, 3, 2, 4, 2, 2, 3, 2.0, 3, 2, 2, 2, 2, 4, 3, 2, 2, 2, 3, 2, 2, 3, 4, 2, 2, 3, 2, 3, 3, 2, 3, 3, 2, 3, 3, 3, 2, 3, 2, 3, 3, 4.0, 4.0, 3, 2, 2, 2, 2, 3, 2, 2, 3, 2, 2, 2, 4.0, 2.0, 3, 3, 3, 4.0, 3, 2, 3, 3, 3, 3, 2, 2.0, 2, 3, 3, 2, 4.0, 2, 3, 3, 3, 3, 2, 2.0, 2, 2, 2, 2, 3, 3, 3, 3, 4.0, 2, 2, 4, 3, 2.0, 3, 3, 2, 2, 2, 4, 4, 3, 2, 2, 4.0, 2, 4.0, 3, 3, 2, 3, 2.0, 2, 2, 3, 2, 3, 4.0, 3, 2, 2, 4.0, 3, 3, 2, 3, 3, 4, 2, 3, 4.0, 2, 2, 3, 3, 2, 2, 3, 4, 2.0, 2, 2, 2, 2, 2, 3, 3, 2, 3, 2, 2, 2.0, 4, 2, 3, 2, 2, 2, 2, 2, 3, 2, 3, 4.0, 2, 2, 3, 3, 2, 3, 3, 2, 2, 2.0, 2, 3, 2, 2, 2.0, 2, 2, 2, 3, 3, 3, 4, 3, 2, 2, 3, 4.0, 2.0, 4.0, 3, 3, 2, 4.0, 3, 3, 2, 2.0, 3, 4, 2, 3, 2, 3, 4.0, 3, 4, 2.0, 3, 2, 2, 3, 3, 3, 3, 2, 3, 3, 2, 3, 4, 4.0, 2.0, 3, 2, 3, 2, 4.0, 3, 2, 2, 4.0, 2, 3, 3, 2, 2, 4.0, 3, 3, 2, 3, 4, 2, 2, 3, 2, 3, 2, 3, 2, 2, 3, 2, 2, 4, 2, 2, 4, 2.0, 3, 3, 2, 2.0, 2, 3, 3, 2, 2, 3, 3, 2, 3, 2, 2, 4.0, 3, 2, 4, 4, 3, 3, 2, 2, 3, 3, 3, 2, 4.0, 4, 3, 3, 3, 3, 3, 2, 3, 2, 3, 3, 3, 2, 4, 4, 4.0, 2, 2, 4, 3, 2, 4.0, 2, 2, 3, 2, 4, 2, 3, 2, 2, 2, 3, 3, 2, 3, 3, 2, 3, 3, 3, 3, 2.0, 3, 3, 2, 2, 2, 2, 2, 2, 3, 3, 2.0, 2, 4, 2, 2, 2, 2, 3, 4.0, 3, 2, 2, 3, 2, 4.0, 2, 2, 3, 2, 2.0, 2, 2, 3, 2, 2, 3, 3, 2, 3, 2, 2.0, 2, 3, 2, 2, 4, 2, 2, 3, 2, 2, 3, 3, 2, 2, 3, 3, 4.0, 2, 3, 2, 2, 3, 3, 3, 2.0, 4.0, 3, 2, 2, 4, 3, 3, 2, 3, 2, 3, 2, 3, 2, 2, 3, 3, 4, 3, 2, 3, 2, 3, 2, 3, 4, 2, 3, 2, 3, 2.0, 3, 3, 4.0, 3, 4, 2.0, 2.0, 2, 2, 2, 3, 4, 3, 3, 3, 2, 3, 3, 2.0, 3, 3, 2, 2, 2, 2, 4, 3, 4, 3, 2, 2, 4.0, 2, 3, 3, 3, 2, 4, 2, 2, 4, 4, 4.0, 3, 2, 3, 2, 3, 3, 3, 4, 2, 2, 2, 4, 2, 2, 3, 2, 4, 2, 3, 3, 3, 2, 2.0, 3, 3, 2, 3, 3, 3, 2, 3, 4, 2, 2.0, 2, 3, 2, 2, 2, 2, 3, 2, 2, 2, 3, 2, 3, 2, 3, 3, 2, 3, 2, 3, 3, 2, 2, 2, 3, 2, 2, 2, 2, 3, 2, 3, 3, 3, 3, 4, 3, 3, 3, 3, 3, 4.0, 3, 2, 3, 3, 4, 3, 4, 4, 2, 3, 2, 4.0, 2, 2, 2, 2, 2, 3, 3, 3, 4.0, 3, 2, 3, 2, 3, 2, 2, 4.0, 2, 2, 2, 3, 3, 2.0, 2, 4.0, 2, 4, 2, 2, 3, 3, 4, 3, 3, 2, 3, 3, 3, 3, 3, 3, 3, 3, 3, 2, 3, 3, 3, 2, 2, 3, 2, 2, 3, 2, 3, 3, 4, 3, 2, 3, 2, 3, 3, 4, 2, 2, 2, 4, 2, 2, 2, 3, 3, 3, 4, 2, 4, 3, 3, 3, 3, 3, 2.0, 2, 3, 4, 2.0, 2, 3, 2.0, 3, 3, 2, 4.0, 3, 4.0, 3, 3, 2, 2, 3, 2, 2, 3, 2, 2, 3, 4, 2, 2, 3, 4, 4, 2, 2, 3, 3, 3, 2, 2, 4.0, 3, 2, 2.0, 2, 2, 4, 4, 4.0, 4, 3, 3, 4.0, 3, 4, 4.0, 4, 4, 2, 4, 3, 2, 3, 3, 3, 3, 3, 3, 3, 2, 4, 4, 2, 4.0, 3, 2.0, 4, 3, 3, 2, 4, 3, 3, 2.0, 4, 3, 2, 2, 2, 3, 3, 3, 2, 2, 3, 3, 3, 2.0, 4, 3, 3, 2, 4.0, 2, 2, 4, 3, 4, 3, 3, 3, 3, 3, 2, 3, 3, 2.0, 2, 2, 2, 2, 2, 3, 3, 4.0, 2, 4.0, 4.0, 2, 4, 3, 2, 3, 3, 2, 2, 3, 3, 2.0, 2, 2, 3, 2, 2, 3, 2, 2, 2, 2, 2, 2, 4.0, 4, 2, 3, 2, 3, 2, 3, 3, 2, 2, 4.0, 4.0, 2, 3, 2, 2.0, 4, 2, 4.0, 3, 2, 3, 2, 3, 3, 4, 3, 2, 4, 2, 4, 2.0, 2, 2.0, 4, 2, 2, 2, 4.0, 2, 4.0, 3, 4, 2, 2, 2, 2, 3, 2, 3, 3, 3, 3, 2, 2.0, 2, 3, 4, 3, 2, 4, 2, 3, 4, 2, 2, 3, 2, 2, 4, 4.0, 4, 2, 2, 3, 3, 3, 4, 2, 2, 2, 3, 2, 2, 3, 2, 2, 2, 3, 2, 3, 3, 2, 3, 3, 3, 3, 2, 2, 3, 2, 3, 3, 2, 4, 2, 2, 2.0, 4, 4, 2, 2, 3, 3, 2, 3, 3, 3, 4.0, 2, 3, 3, 2, 2, 2, 2, 2, 4, 3, 3, 4, 2.0, 2, 2.0, 3, 4.0, 2, 3, 3, 4, 2, 2, 2, 4, 4, 4, 2, 3, 4.0, 2.0, 2.0, 3, 2, 2, 2.0, 2.0, 4, 4.0, 4, 4, 3, 3, 4, 2, 3, 2.0, 4, 4.0, 3, 3, 2, 3, 4, 3, 2, 2, 4, 3, 3, 2.0, 3, 3, 2.0, 4, 3, 2, 2, 3, 3, 2, 4, 2.0, 2, 4.0, 3, 2, 2, 3, 2, 4.0, 3, 4, 4, 3, 3, 3, 2, 3, 2.0, 3, 2, 2, 2, 4, 2, 2.0, 3, 3, 2, 2, 3, 3, 2, 3, 4, 2, 2.0, 3, 3, 2, 2, 3, 3, 3, 2, 2, 2, 3, 2, 2.0, 3, 4, 2, 2, 3, 3, 2, 3, 2, 4, 2, 3, 4.0, 2, 3, 2, 3, 3, 3, 3, 3, 3, 3, 2, 2, 3, 3, 2, 4, 4, 2, 2, 2, 3, 3, 4, 3, 3, 3, 4, 2, 2, 2, 4, 2, 2.0, 4.0, 4.0, 2, 2, 3, 4.0, 2, 4, 3, 3, 3, 3, 2, 2, 4.0, 2, 3, 3, 3, 3, 4.0, 3, 2, 4, 2, 4.0, 4.0, 4, 3, 4.0, 3, 2, 3, 4, 3, 3, 3, 4, 2, 4, 2, 4, 4.0, 3, 4, 2, 4, 3, 2.0, 2.0, 3, 4.0, 4, 2, 3, 3, 3, 2.0, 2, 3, 3, 3, 2, 2, 2, 3, 3, 4, 2, 2, 3, 4.0, 2.0, 2, 2, 3, 2, 3, 4, 2, 3, 2, 2, 2, 3, 2, 3, 2, 2, 3, 2.0, 2, 4.0, 2, 2.0, 2, 4, 3, 2, 2, 2, 2, 4.0, 4.0, 3, 3, 2, 2, 2.0, 2, 4, 2, 2, 2, 2, 2, 2, 3, 4, 3, 3, 2, 3, 3, 2.0, 2, 3, 4.0, 4, 2, 2, 2, 2.0, 3, 4.0, 3, 2, 3, 2, 2, 4, 2, 2, 2.0, 3, 2, 3, 4.0, 4, 4, 3, 4, 2, 3, 3, 2, 2, 2, 4, 4, 2, 3, 3, 4, 2, 2, 2, 4.0, 4, 4, 2.0, 3, 2, 3, 2, 4.0, 3, 4, 2, 2, 3, 2, 2, 2.0, 3, 3, 4, 2, 3, 3, 4, 3, 3, 3, 2, 3, 3, 3, 3, 4, 3, 2, 3, 3, 3, 2, 2, 2, 3, 2, 3, 4.0, 2, 2, 4, 2, 4, 2, 2, 3, 3, 3, 4.0, 2, 2, 2, 3, 3, 2, 4, 2, 2, 3, 4, 3, 3, 2, 2, 3, 3, 3, 3, 3, 3, 3, 2, 4, 2, 2, 2, 3, 2, 3, 2, 3, 3, 2, 2.0, 4, 2.0, 2, 2, 3, 2.0, 2, 4, 2, 2, 3, 3, 3, 3, 2.0, 3, 4, 3, 2, 4, 3, 2, 2, 2, 2, 3, 2, 3, 2, 2, 2.0, 2, 2, 2, 4, 2, 3, 3, 2.0, 3, 2, 2, 3, 4, 3, 2, 3, 2, 2, 2, 3, 4, 2, 2, 3, 3, 2, 2, 3, 2, 2, 2, 2, 3, 4, 4, 2, 3, 3, 2, 3, 2, 2, 3, 3, 2.0, 3, 4.0, 4.0, 2.0, 3, 2, 2, 3, 4, 3, 3, 4, 2, 2, 2, 2, 3, 2, 3, 3, 3, 2, 2, 3, 3, 2, 4, 2, 2, 3, 4, 2, 2, 4, 3, 3, 3, 2, 4, 4.0, 2, 2, 2.0, 2, 3, 2, 4, 2, 3, 4, 3, 2, 2, 3, 4, 2, 4, 4.0, 4, 2, 2, 3, 2, 2, 3, 2, 2, 2, 2, 2, 2, 3, 2.0, 3, 4, 2, 2, 3, 2.0, 3, 2, 4, 3, 3, 3, 4.0, 2, 2, 2, 2, 3, 3, 3, 2, 2, 4, 4, 2, 4, 2, 4, 3, 3, 2, 2, 2, 2, 3, 2, 2, 3, 2, 4, 3, 2.0, 4, 2, 2.0, 2.0, 4, 2, 2, 4, 4.0, 2, 2, 2, 2, 3, 3, 3, 4, 3, 2, 3, 2, 4, 3, 3, 2, 3, 2, 4, 3, 3, 3, 2, 2, 2, 4.0, 3, 4, 4, 3, 4, 2, 3, 2.0, 2, 4, 2, 4, 3, 2, 2.0, 3, 2, 2.0, 3, 2, 2, 2, 2.0, 4.0, 4.0, 3, 3, 4.0, 4.0, 3, 3, 2, 2, 3, 3, 2, 2, 4, 2, 3, 2.0, 2, 2, 3, 3, 3, 2, 2, 3, 3, 2.0, 2, 4, 3, 4, 3, 3, 2, 3, 2, 2, 3, 3, 2, 2.0, 2, 2, 3, 2, 2, 2.0, 2, 2, 3, 2.0, 3, 2, 3, 2.0, 2, 2, 3, 2.0, 3, 3, 2, 2, 4, 3, 3, 2, 2, 4, 2, 2, 3, 2, 2, 4, 3, 4, 3, 2, 2, 3, 2, 2, 2, 2.0, 2, 4, 2, 2, 4.0, 3, 3, 2, 2, 2, 2, 3, 3, 2, 3, 3, 2, 2, 3, 2, 4, 2, 2.0, 2, 3, 3, 3, 2, 3, 2, 2, 2, 2, 3, 2, 3, 3, 2, 3, 3, 3, 2, 4, 3, 4, 2, 2, 2, 3, 3, 2, 2, 3, 2, 2, 3, 3, 3, 4, 3, 2, 4.0, 2, 3, 4.0, 2.0, 2, 2, 4.0, 4, 3, 2, 2, 4, 3, 2, 2, 2, 3, 2, 3, 2, 3, 2, 3, 2.0, 2, 2, 3, 2.0, 2, 3, 2, 2.0, 2, 4.0, 3, 2, 3, 3, 2, 4.0, 3, 2, 2, 3, 4, 2, 3, 2, 4, 2, 4.0, 4, 2, 3, 3, 3, 3, 2, 2, 2, 3, 2, 2, 2, 4, 2, 2, 2, 2, 2, 3, 4, 3, 3, 2, 3, 2, 2, 3, 2, 3, 2, 3, 3, 2, 3, 2, 2, 2, 4, 2.0, 2.0, 2, 3, 3, 2, 4, 3, 2, 3, 3, 2, 2.0, 3, 3, 3, 3, 2, 2.0, 4.0, 4, 2, 3, 4, 4.0, 3, 2, 2, 3, 3, 3, 2, 3, 4, 3, 2, 3, 3, 4, 2, 3, 2, 3, 3, 2.0, 2, 3, 2, 3, 2, 2, 2, 2, 2, 2, 2.0, 3, 3, 3, 3, 2, 2, 3, 2, 2, 4.0, 2, 2.0, 2, 3, 3, 2, 3, 3, 3, 2, 2.0, 3, 2.0, 4.0, 3, 3, 2, 2, 2, 2, 2.0, 3, 3, 2, 3, 2.0, 2, 2, 3, 2, 2, 2, 3, 2, 3, 3, 3, 3, 3, 3, 2, 2, 2, 4.0, 2, 2, 3, 2, 2, 3, 4, 3, 2, 3, 3, 2.0, 3, 4.0, 2, 4, 2, 4.0, 2, 3, 2, 2, 2, 2, 3, 2.0, 3, 4, 2, 2, 2, 2, 3, 2, 2, 2, 3, 2.0, 3, 3, 2, 2, 4.0, 4, 2, 4.0, 2, 2, 3, 4.0, 2, 3, 4, 2, 3, 2, 2.0, 4.0, 2, 4, 3, 3, 3, 2, 3, 3, 2, 3, 4, 3, 3, 2, 2, 2, 3, 3, 3, 3, 2, 2, 3, 2, 3, 3, 2, 2.0, 2, 2, 2, 4, 3, 4, 2, 2, 3, 2, 4.0, 3, 2, 3, 2, 3, 3, 2, 2, 2, 2, 3, 2, 2, 3, 2, 3, 4, 2.0, 2, 2, 2, 3, 3, 3, 3, 4.0, 4.0, 4.0, 3, 3, 3, 2, 3, 3, 3, 4.0, 3, 2, 2, 3, 3, 3, 3, 3, 4, 2, 3, 2, 4.0, 4, 2, 2, 3, 3, 4, 4.0, 4, 2, 2, 2, 2, 3, 3, 2.0, 2, 2, 3, 4, 3, 2.0, 3, 2, 3, 3, 2, 3, 3, 2, 2, 2, 2, 2, 3, 3, 2.0, 4, 3, 2, 3, 2, 2, 2.0, 2, 3, 2, 3, 3, 2, 2, 3, 3, 3, 2.0, 3, 4.0, 2, 2, 2, 2, 3, 3, 2, 2, 3, 2, 2.0, 2.0, 2, 3, 3, 2, 3, 4, 2, 2, 4, 2, 2, 2, 2, 2, 3, 3, 2, 2, 2, 2, 2, 2, 3, 2.0, 2, 2, 3, 3, 3, 3, 2.0, 2, 3, 3, 2, 3, 2, 3, 3, 2, 3, 2, 2, 3, 2, 4, 3, 2, 3, 2, 3, 2, 2, 2, 2.0, 4, 3, 3, 3, 2, 3, 3, 2, 3, 3, 3, 3, 2, 3, 2, 3, 2, 3, 2, 3, 3, 3, 2, 2, 4.0, 4, 3, 4, 2, 3, 2, 2, 2.0, 3, 2, 2, 3, 4, 2, 2, 2, 2, 4, 3, 2, 3, 4, 2.0, 4, 3, 3, 4, 2, 2, 3, 2, 2, 2, 2, 2, 2, 2, 3, 2, 3, 2, 2, 4, 2.0, 3, 4.0, 2, 3, 2, 3, 3, 3, 4.0, 4, 2, 2, 3, 4, 4.0, 2, 3, 2, 2, 3, 2, 2, 3, 3, 3, 2, 3, 3, 4, 2, 4, 2, 4, 2, 2, 2, 3, 2, 3, 4.0, 3, 3, 3, 2, 3, 4, 3, 2, 2.0, 2, 2.0, 3, 4, 2, 3, 2, 3, 3, 2, 3, 2, 4, 2, 3, 2, 4, 2, 2, 4, 3, 3, 4, 4, 3, 2.0, 2, 3, 4.0, 3, 2, 2, 4.0, 2, 3, 3, 3, 3, 2, 3, 4, 3, 2, 2, 3, 3, 2, 2, 2, 2, 3, 3, 3, 3, 4.0, 3, 3, 2, 2, 2, 3, 2, 2, 3, 2.0, 3, 3, 2, 2, 3, 2, 3, 2, 2, 4, 3, 3, 2, 2.0, 2, 2, 2, 2, 4.0, 3, 3, 2, 3, 2, 3, 3, 2.0, 4, 4, 2, 4.0, 2, 2, 2, 2, 2, 4, 3, 4, 4, 2, 2, 2, 2, 2, 3, 2, 2, 2, 2, 3, 2, 3, 3, 2, 3, 4.0, 4.0, 2, 2, 3, 4.0, 3, 2, 2, 4, 3, 2, 2, 4, 3, 2, 2, 2, 2, 2, 2, 2.0, 2.0, 3, 3, 2, 2, 4, 3, 2.0, 2, 2, 2.0, 2, 3, 4, 2, 2, 4, 3, 2.0, 3, 4, 3, 4, 2, 2, 2, 3, 3, 2, 3, 2, 3, 3, 2, 3, 4.0, 3, 3, 2, 3, 4.0, 2, 4, 2, 2, 2, 4, 2, 2.0, 2, 3, 3, 3, 2, 4.0, 2, 2, 3, 2, 2.0, 2, 2, 4, 3, 2, 3, 2, 3, 3, 3, 2, 3, 3, 4, 2, 4.0, 2, 2, 2, 2, 3, 2, 2, 3, 2, 4.0, 3, 2, 2, 2, 2, 3, 3, 2, 4, 4, 2, 2, 2, 3, 2, 2, 2, 2, 3, 3, 2, 2, 4, 2, 4.0, 3, 2.0, 2.0, 4, 2, 4, 2, 4, 2, 2, 2, 3, 2, 3, 2, 4, 3, 3, 2, 2, 2, 2, 4, 2, 2, 2, 2, 3, 4, 3, 4, 3, 4, 3, 2.0, 2, 4.0, 2.0, 4.0, 2, 2, 2, 4.0, 3, 3, 2, 4, 4, 4, 4, 2, 2, 3, 3, 2, 3, 4, 2, 3, 2.0, 4, 2.0, 2, 3, 2, 4.0, 3, 2, 2, 2.0, 4, 4.0, 2, 4, 3, 3, 4.0, 2, 3, 4, 3, 2, 3, 4, 2, 2.0, 3, 4, 3, 3, 3, 3, 3, 3, 3, 4.0, 2, 2, 2, 4, 2.0, 3, 4.0, 2, 3, 3, 3, 2, 3, 2, 3, 2, 3, 2, 2, 2, 2, 3, 3, 3, 2, 2, 2.0, 4, 2.0, 2, 4, 3, 2.0, 2, 2, 2, 2, 2, 3, 2, 3, 4, 2, 3, 4, 4, 2, 2.0, 2, 2, 4.0, 3, 3, 2, 3, 2, 3, 2, 2.0, 2, 4, 3, 4.0, 2, 2, 4.0, 2, 3, 3, 4.0, 3, 2.0, 4, 3, 3, 4.0, 2.0, 2, 4, 2, 2, 4.0, 2, 2, 3, 3, 2, 3, 4, 2, 2, 3, 2, 2, 2, 3, 3, 4.0, 2, 2, 2, 2, 3, 2, 2, 3, 2, 2, 3, 2, 2.0, 2, 3, 3, 2, 4.0, 3, 3, 3, 2, 2.0, 2, 2, 2, 3, 3, 3, 3, 4, 2, 3, 3, 4.0, 3, 3, 2, 2, 3, 3, 2, 3, 3, 3, 2, 3, 2, 2, 4.0, 3, 3, 2, 2, 4, 2, 4, 4, 4, 3, 3, 3, 2, 3, 2, 2.0, 3, 2.0, 4, 3, 3, 2, 3, 3, 2, 3, 3, 4, 2, 3, 2, 3, 2, 2, 2, 2, 2, 3, 2, 4, 4, 2, 2, 2, 2, 3, 2, 3, 4, 3, 4.0, 2, 4, 3, 2, 3, 3, 2, 2, 2, 2, 3, 2.0, 2, 2, 3, 2, 3, 2.0, 3, 2, 3, 2, 2, 3, 2, 2, 4, 3, 3, 3, 4, 3, 3, 4.0, 4.0, 4, 3, 4, 2, 2, 3, 2, 2, 3, 4, 2, 4, 4, 3, 2, 3, 3, 3, 3, 4, 3, 2, 2, 4, 3, 4.0, 4, 3, 3, 3, 4, 3, 3, 3, 3, 3, 3, 2, 2, 3, 2.0, 2, 2, 3, 3, 3, 4, 3, 2.0, 2, 2, 2, 2, 2, 4, 4.0, 2, 4.0, 4, 3, 2, 3, 3, 3, 4.0, 3, 4.0, 2, 2, 4, 3, 2, 3, 2, 4.0, 3, 2, 3, 4, 2, 3, 4, 4.0, 4, 4.0, 2, 2, 4, 2, 2, 2, 2.0, 3, 2, 2, 4, 4, 4, 3, 4.0, 4, 2, 4, 2, 4.0, 3, 2, 3, 2, 2, 3, 3, 2, 2.0, 3, 3, 3, 2, 3, 2, 4, 3, 2, 2, 4.0, 3, 3, 3, 3, 2, 4.0, 3, 2, 4, 3, 2, 2, 4, 3, 2, 2, 4, 2.0, 2, 2.0, 2, 2, 4, 2, 4.0, 2.0, 2, 3, 3, 4, 2, 3, 2, 2, 2, 2, 2, 2, 2, 2, 3, 2, 3, 4.0, 3, 4, 3, 2, 2, 2, 3, 3, 2, 3, 2, 3, 4, 2, 3, 2, 4.0, 4.0, 3, 3, 3, 3, 2, 3, 3, 4.0, 2, 2, 4, 3, 3, 4.0, 2, 3, 4.0, 3, 3, 2, 2, 3, 3, 4, 3, 4, 3, 4.0, 3, 3, 2, 3, 2.0, 3, 3, 2, 2, 3, 3, 3, 2, 2, 4, 2, 3, 4.0, 2, 2, 2, 3, 2, 2.0, 2, 2, 3, 2, 3, 4.0, 4.0, 2.0, 2, 3, 2, 3, 3, 2, 2, 2, 3, 2, 2, 2, 2, 2, 4, 4, 4, 2, 3, 3, 3, 2, 2, 2.0, 3, 4, 3, 3, 3, 2, 2, 3, 2, 4, 2, 2, 4.0, 3, 2, 3, 4, 2, 3, 2, 2, 2, 2, 3, 2, 4.0, 2, 2, 2, 2.0, 3, 2.0, 4.0, 4.0, 3, 4.0, 3, 2, 3, 2, 2, 4, 3, 4, 3, 2, 4, 3, 3, 2, 2, 4, 2, 2, 3, 2, 2, 3, 3, 2, 3, 2.0, 2, 2, 4, 3, 3, 2, 3, 2, 3, 3, 3, 2, 3, 4, 3, 2, 3, 4, 4, 2, 4, 3, 3, 3, 2, 3, 3, 3, 3, 2, 2, 3, 2, 2, 2, 3, 3, 2.0, 2, 3, 4.0, 3, 4.0, 2, 3, 2, 3, 3, 3, 2, 3, 2, 3, 2.0, 2, 3, 3, 4, 2, 4.0, 4.0, 3, 2, 2, 4.0, 3, 4.0, 3, 2, 2, 3, 3, 3, 2, 3, 3, 2, 3, 2, 3, 2, 2, 2, 2.0, 2, 4.0, 2, 2, 4, 2, 2, 3, 2, 2, 2, 4, 2, 2, 2, 3, 2, 4.0, 2.0, 2, 3, 2, 3, 2, 2, 2.0, 2, 4, 3, 4.0, 3, 3, 2, 3, 2, 2, 2, 3, 2, 2.0, 2, 2, 2, 2, 3, 2, 3, 4, 3, 3, 3, 2, 3, 3, 3, 3, 3, 2, 4.0, 3, 2, 3, 2, 2, 2, 2, 2, 2, 2, 2, 4, 2, 2, 3, 2, 3, 3, 2, 3, 2, 3, 2, 4, 4, 2.0, 4.0, 3, 4, 3, 3, 3, 4.0, 2, 2, 4, 3, 3, 2.0, 4, 2, 3, 3, 4.0, 2, 2, 4, 3, 3, 3, 2, 3, 3, 2, 2, 3, 3, 3, 2, 2, 2, 2.0, 2, 2, 2, 2, 4, 3, 2, 3, 2.0, 2, 2, 2, 3, 3, 2, 2, 2, 4.0, 4, 3, 2, 3, 3, 4.0, 4.0, 2, 2, 3, 2, 3, 4.0, 2, 2, 4, 3, 3, 2, 3, 3, 3, 3, 3, 3, 4.0, 2, 2, 3, 2, 2, 3, 2, 2, 3, 3, 2, 2, 4, 3, 2, 2, 3, 3, 4.0, 3, 4, 3, 3, 4.0, 2, 2, 3, 2, 2, 3, 3, 2, 3, 2, 2, 4, 2, 2, 3, 3, 2, 2, 4, 2, 3, 2, 2, 3, 3, 2, 2, 2, 2, 3, 4, 2, 3, 2, 2, 2, 2, 2, 2, 2, 3, 2, 2, 2, 3, 2, 2, 2, 2, 3, 3, 3, 2.0, 3, 2, 2.0, 4, 4, 2, 2, 2, 2, 3, 2, 4.0, 3, 4.0, 2, 2, 3, 2, 2, 4.0, 3, 4.0, 3, 2, 2, 3, 3, 2, 3, 2, 3, 2, 3, 2, 2, 4, 2, 4, 3, 2, 2.0, 3, 2, 3, 2, 2, 4, 2, 2, 3, 3, 4, 2, 2, 3, 2, 3, 3, 4, 3, 3, 3, 2.0, 2.0, 2, 2, 2, 2, 3, 3, 3, 4, 4.0, 2, 2, 2, 3, 2.0, 4, 4, 4, 3, 2, 2, 4, 2, 2.0, 3, 2, 4, 4, 2, 2, 3, 3, 2.0, 4.0, 3, 2, 2, 4, 2, 4.0, 3, 3, 2, 4, 2, 2, 3, 2, 2, 2.0, 2, 2, 4, 4, 2, 2, 3, 3, 2, 2, 2, 2, 4, 4.0, 3, 4.0, 4, 4, 2, 4, 2, 4.0, 2, 3, 3, 3, 2, 2.0, 3, 2, 2, 2.0, 3, 2, 2.0, 2, 2, 2, 2, 2, 4.0, 2, 2, 4, 2, 3, 2, 4, 2, 2, 3, 3, 2, 2, 4, 2, 3, 2, 2, 3, 2, 2, 4, 2, 4.0, 4, 2, 2, 2.0, 2, 4, 2.0, 4.0, 3, 2.0, 2, 2, 2, 2, 2, 3, 3, 2, 2.0, 4, 3, 2, 2, 3, 3, 3, 2, 2.0, 3, 3, 2, 2, 4, 2, 2, 2, 2, 3, 3, 3, 2.0, 2, 4, 2, 4, 3, 2, 2.0, 3, 4.0, 2, 2, 2, 4.0, 2, 4, 4.0, 3, 2, 2, 2, 2.0, 2.0, 2, 2.0, 3, 2, 2, 3, 2, 3, 4.0, 3, 3, 2, 4, 4, 3, 3, 2, 2, 3, 3, 3, 3, 2, 3, 2.0, 3, 4, 3, 3, 2, 2, 3, 4, 2, 2, 2, 3, 2, 4, 2.0, 2, 2, 3, 2, 4.0, 2, 2, 2.0, 2, 4.0, 2, 4, 3, 4.0, 4, 4, 2, 3, 4.0, 2, 4, 3, 2, 2, 3, 4.0, 2, 2, 3, 4, 2.0, 2, 3, 3, 2, 2.0, 2.0, 3, 3, 2, 2, 4.0, 2, 2, 2, 2, 4.0, 3, 2, 3, 2, 2, 2, 2, 4, 3, 2, 2, 2, 3, 3, 2, 2, 2, 4, 4.0, 2, 3, 3, 2, 3, 2, 2, 3, 3, 3, 2, 4, 2, 2, 2, 3, 2, 3, 4, 2, 3, 2, 4, 3, 4, 3, 2, 2.0, 3, 3, 3, 2, 2, 2, 3, 4.0, 3, 3, 2, 2, 2, 4.0, 3, 3, 2, 3, 3, 3, 3, 3, 2, 2, 3, 3, 3, 2, 2, 2, 2, 2, 3, 2, 3, 2.0, 3, 2, 2, 3, 2, 2, 4, 2, 3, 2, 3, 4.0, 4, 2, 2, 2, 2, 2.0, 3, 3, 2.0, 3, 3, 2, 3, 3, 2, 2, 2, 3, 3, 3, 2, 4, 2, 4.0, 2, 3, 3, 3, 2, 3, 3, 3, 4, 2, 3, 3, 2.0, 3, 2, 4, 2, 4, 3, 3, 2, 2.0, 4.0, 3, 3, 2, 2, 3, 2, 3, 2.0, 2, 3, 3, 2, 3, 3, 2, 3, 2, 2, 2, 2, 3, 2.0, 4, 2, 2, 2, 3, 2, 2, 2, 4, 3, 3, 3, 2, 3, 2, 3, 4, 2, 3, 2, 2, 2, 2, 3, 3, 4.0, 2, 4, 3, 2, 3, 3, 3, 3, 2, 3, 3, 2, 2.0, 2, 4, 2, 2, 4.0, 3, 4, 4, 3, 3, 2, 4, 3, 2, 4, 3, 2, 2, 4.0, 4, 4, 4, 2, 2, 2, 2, 3, 3, 3, 2, 2, 2, 3, 2, 2, 4.0, 4, 4, 3, 3, 4, 3, 2, 2, 2, 2, 2, 3, 4.0, 4, 3, 3, 3, 3, 2, 4, 3, 3, 3, 3, 4.0, 3, 3, 2, 4, 3, 2, 2, 2, 2, 3, 3, 2, 2, 3, 4.0, 4, 2, 2, 2, 4.0, 3, 2, 4.0, 3, 4, 3, 4, 2, 3, 2, 2, 2, 2, 3, 3, 2.0, 3, 3, 4.0, 2, 3, 4, 3, 2, 4, 3, 4.0, 2, 2, 3, 3, 3, 3, 2, 3, 3, 3, 2, 2, 2, 2, 2.0, 3, 2, 3, 2.0, 3, 3, 2, 2, 3, 2, 4.0, 4, 2, 3, 2, 2, 2, 3, 2, 3, 3, 4.0, 2, 2, 4.0, 3, 3, 3, 2, 4, 2, 3, 3, 2, 3, 2, 2, 2, 2, 2, 2, 2, 4.0, 2, 3, 4.0, 2, 2.0, 3, 2, 2, 2, 2, 3, 4, 2, 2, 3, 3, 3, 3, 4.0, 2, 3, 2, 2, 3, 3, 3, 4, 3, 2, 4.0, 2.0, 4, 3, 4, 2, 4.0, 2, 4, 3, 3, 2, 2.0, 2, 2, 2, 4, 2, 3, 3, 2, 3, 3, 2, 4, 2, 2, 3, 4, 3, 3, 3, 2, 2, 2, 2, 4, 3, 4, 3, 2, 4, 4, 2, 4, 2, 2, 3, 3, 2, 4, 3, 2, 3, 4.0, 4, 3, 3, 3, 3, 3, 3, 3, 2, 4.0, 2, 3, 2.0, 4.0, 2, 2, 2, 3, 2, 2, 3, 3, 3, 2, 3, 3, 2, 2, 2, 2, 3, 3, 4, 3, 3, 3, 2, 3, 4.0, 3, 3, 2, 2, 2, 3, 4, 2, 4, 2, 2, 3, 3, 4, 3, 3, 2, 3, 2, 4.0, 2, 4, 2, 2, 3, 4, 4.0, 2, 2, 2, 4, 2, 2, 2, 2.0, 3, 2.0, 3, 3, 3, 4.0, 2, 3, 4.0, 4, 3, 2, 2, 2.0, 4.0, 3, 2, 3, 2, 4.0, 2, 2, 2, 2, 4.0, 2, 2, 3, 3, 4, 3, 4.0, 2, 3, 2, 2, 4.0, 3, 2, 4, 2, 3, 2, 3, 4, 4.0, 3, 4, 2, 2, 2, 3, 4, 2, 2, 3, 2, 2, 3, 4.0, 2, 4.0, 4, 2, 2, 3, 2, 2, 2, 3, 4, 2, 2, 3, 2, 2, 3, 4.0, 2, 3, 3, 4.0, 3, 4, 2, 2, 2, 2, 3, 4, 3, 3, 3, 4, 2.0, 3, 4, 2, 3, 3, 3, 4, 2, 3, 2, 2, 2.0, 3, 3, 3, 2, 4, 3, 3, 3, 2, 3, 3, 2, 2, 3, 3, 4, 2, 4, 3, 4, 3, 2, 3, 2, 2, 2, 3, 2, 3, 2, 4, 2, 2, 2, 3, 3, 2, 3, 2, 3, 4.0, 4, 2, 3, 3, 4.0, 4, 2, 4, 2, 2, 3, 3, 3, 4, 2.0, 4, 4.0, 3, 2, 3, 3, 2, 2, 4, 3, 2, 4, 2, 2, 2.0, 3, 2.0, 3, 3, 3, 4, 2, 3, 4.0, 4, 3, 3, 2.0, 3, 2, 2, 3, 2, 3, 3, 2, 4.0, 3, 3, 2, 3, 3, 3, 2, 2, 2, 2, 2, 2, 3, 3, 3, 3, 2.0, 3, 3, 3, 2, 3, 3, 2, 4, 3, 4, 2, 4, 4, 4, 3, 2, 2, 4, 3, 2, 3, 2, 4, 4.0, 2, 2, 3, 2, 2, 3, 2, 2, 2, 2, 2, 3, 2, 2, 3, 2, 4, 4.0, 3, 3, 2, 2, 2, 2, 3, 2, 2, 2, 3, 2, 2.0, 3, 3, 2, 2, 3, 4.0, 2, 3, 2, 2, 2, 3, 3, 3, 3, 2, 4, 3, 2, 2, 3, 3, 4.0, 3, 3, 2, 2.0, 2, 3, 3, 2, 3, 3, 2, 2, 2, 2, 3, 2, 2, 2, 3, 3, 2, 3, 3, 3, 3, 2, 3, 3, 2, 2, 3, 4.0, 4, 3, 4, 2, 2, 4.0, 3, 4, 2.0, 3, 4, 2, 4, 3, 2.0, 3, 2, 3, 2, 3, 3, 4, 4, 2, 3, 3, 3, 2.0, 4.0, 4, 2, 2, 3, 2, 2, 3, 2, 2, 2, 4, 2, 3, 2, 2, 2, 2, 3, 2, 2, 2, 2, 2.0, 2, 2, 2, 4, 4, 3, 2, 3, 2.0, 2, 4.0, 2.0, 3, 2, 3, 3, 2, 3, 3, 2, 2, 2, 3, 3, 3, 3, 2, 2, 3, 2, 3, 3, 2, 2, 3, 4, 3, 3, 4.0, 2, 4.0, 3, 3, 2, 3, 2, 3, 4, 2, 3, 3, 3, 4, 2.0, 2, 3, 2, 2, 3, 3, 4.0, 4, 2, 2, 3, 4.0, 4, 2, 3, 2, 4.0, 3, 3, 2, 3, 2, 4, 2.0, 2, 2, 4, 3, 2, 2, 3, 4.0, 2, 3, 3, 2, 2, 3, 2.0, 2.0, 4, 2, 2, 3, 3, 3, 2, 3, 2, 3, 2, 3, 2, 3, 3, 2, 3, 4, 2, 3, 4, 3, 2, 2, 4, 2, 3, 3, 3, 2, 2, 3, 2, 2, 4.0, 3, 3, 4.0, 2, 4, 2, 2, 3, 2.0, 2.0, 2, 2, 3, 3, 2, 3, 2, 3, 3, 2, 3, 2.0, 2, 2, 2, 3, 2, 2, 3, 2, 3, 3, 2.0, 3, 2.0, 3, 3, 3, 2, 2, 3, 2, 2, 3, 3, 4, 2.0, 2, 2, 2, 4, 4.0, 3, 3, 2, 4, 3, 2, 4, 4, 3, 4.0, 2, 2, 3, 3, 2, 3, 3, 2, 2, 2, 3, 2, 4.0, 3, 3, 3, 3, 3, 3, 4.0, 3, 3, 3, 4.0, 2, 2, 2, 2, 2, 3, 2, 4, 4, 2, 3, 4, 4.0, 4.0, 2, 2, 2.0, 2, 2, 2.0, 2, 2, 2, 2, 3, 3, 2, 3, 2, 2, 3, 2, 2.0, 3, 2, 3, 2, 3, 4, 2, 3, 3, 3, 3, 2, 2.0, 3, 4, 3, 3, 2, 4.0, 3, 4, 3, 3, 2.0, 3, 2, 2, 3, 2, 3, 2, 2, 3, 2, 3, 4.0, 2, 3, 3, 3, 4.0, 3, 4, 3, 2, 3, 2, 3, 3, 2, 3, 2, 3, 2, 2, 2, 2, 2, 3, 2, 3, 2, 3, 2, 2.0, 4.0, 3, 3, 3, 2, 3, 3, 2, 2, 4, 3, 3, 3, 2, 2, 4.0, 3, 3, 3, 3, 4, 3, 2, 2, 4, 2, 2, 3, 3, 2, 2, 2, 2, 2, 2, 2, 2, 3, 4, 4.0, 2, 2.0, 3, 2, 4.0, 4, 2, 4.0, 4, 4.0, 3, 3, 2, 2, 2, 3, 4.0, 4.0, 2, 4, 2, 3, 3, 3, 2, 2, 4, 4, 3, 2, 2.0, 2, 3, 2, 3, 2, 3, 3, 3, 2.0, 2, 3, 2, 2, 2, 2, 3, 2, 2, 2, 3, 4, 3, 4, 3, 2, 2, 2, 4, 2, 3, 3, 2, 4, 3, 2, 3, 2, 2, 2, 3, 3, 4, 2, 2, 3, 3, 3, 2, 2, 3, 4, 4.0, 3, 4.0, 2, 2, 3, 2, 2, 2, 3, 2, 2, 2, 2, 2, 3, 3, 4, 3, 3, 3, 2, 3, 3, 2, 3, 3, 3, 2.0, 2, 2.0, 4.0, 2, 2, 2, 2, 2.0, 3, 2, 2.0, 3, 2, 3, 3, 4, 2, 3, 3, 3, 3, 2, 3, 2, 2, 2, 2, 2.0, 2, 3, 4, 2, 3, 4, 2.0, 2, 4.0, 3, 2, 2, 3, 2, 3, 2, 3, 2, 3, 4.0, 4, 3, 3, 4, 2, 4.0, 2, 2, 2, 3, 2, 3, 3, 2, 2, 2, 2, 3, 3, 3, 4.0, 2.0, 4.0, 2, 2, 3, 3, 4, 3, 2, 3, 2, 3, 2, 2, 2, 2, 2, 2, 3, 3, 3, 4.0, 4.0, 3, 4.0, 2, 2, 2, 2, 4, 2, 4, 2, 2, 2, 2, 3, 4, 4, 4, 3, 3, 4.0, 2, 3, 2, 2, 2, 2, 4, 2, 3, 3, 3, 3, 2, 2, 2, 2, 2, 3, 4, 3, 2, 3, 3, 2, 2, 2, 2, 3, 3, 4, 2, 2, 2, 4, 2, 2, 2.0, 2, 2, 3, 3, 3, 2, 3, 2, 2, 2, 2, 2, 3, 2.0, 2, 3, 2, 2, 3, 2, 4, 3, 3, 2.0, 4.0, 3, 2.0, 3, 2, 3, 3, 2, 2, 2, 2.0, 3, 4, 3, 3, 2, 4, 4, 3, 4, 4, 2, 2, 3, 2, 4.0, 2, 2, 4.0, 2.0, 3, 3, 2, 2, 3, 2, 3, 2, 3, 3, 2, 4.0, 2, 2, 3, 3, 2, 2.0, 2, 2, 4, 2, 2, 4, 2, 4, 4, 2, 4, 2, 3, 2, 3, 3, 3, 3, 2, 2, 3, 2, 4, 3, 2, 3, 3, 2, 2, 2, 4.0, 4, 3, 3, 3, 3, 3, 3, 3, 4, 3, 3, 3, 3, 2, 3, 2, 2, 2, 2.0, 2.0, 2, 3, 3, 3, 4, 4, 3, 3, 2, 4, 2, 3, 2, 2, 2, 4, 3, 4.0, 3, 2, 2, 4, 3, 4.0, 3, 4, 2, 3, 2, 2, 4, 3, 2, 4.0, 2, 3, 4, 2.0, 2, 2, 3, 2, 4, 2, 2, 3, 4.0, 2, 2, 4, 2, 4, 2, 2, 3, 2, 2, 4, 3, 4, 2, 4.0, 3, 3, 2, 2, 3, 2, 3, 3, 4, 2, 2.0, 4.0, 2.0, 3, 3, 2, 2, 3, 2, 3, 3, 3, 2, 4, 4.0, 3, 3, 3, 3, 2, 2, 2, 2, 2, 2, 3, 3, 2, 2, 3, 2, 2, 3, 4, 3, 3, 3, 2, 4, 2, 3, 2, 3, 2, 3, 4, 2, 3, 3, 3, 2, 3, 2, 3, 3, 2, 2, 2, 4, 2.0, 2, 4.0, 2, 2, 2, 3, 4, 2, 2.0, 2, 2, 2, 2, 2.0, 3, 2, 3, 3, 3, 2, 4, 2.0, 3, 2, 2, 2.0, 3, 3, 4.0, 2, 2, 3, 3, 4, 4, 2, 2.0, 3, 2.0, 2, 3, 3, 2, 3, 3, 3, 2, 2, 4.0, 4, 2, 3, 3, 2, 2, 2, 3, 2, 2, 4, 2, 3, 2, 3, 2, 2, 4, 4.0, 2, 2, 2, 2.0, 3, 4, 3, 3, 2, 2.0, 3, 3, 2, 2.0, 2, 2, 4, 2, 2, 3, 2, 2, 2, 4.0, 2, 4.0, 3, 3, 2, 2, 3, 3, 2, 2, 3, 3, 2, 2, 2, 3, 2, 3, 2, 3, 3, 4.0, 4, 3, 4, 3, 3, 4, 3, 3, 4, 3, 3, 3, 2, 2, 2.0, 2, 2, 3, 3, 2.0, 4.0, 3, 3, 4, 3, 3, 3, 3, 4, 2, 2, 3, 3, 3, 2, 2, 3, 2, 3, 2, 2, 2.0, 3, 3, 4.0, 2, 4.0, 4.0, 3, 3, 2, 3, 2, 3, 2, 2, 3, 2, 2, 2, 2, 2, 4, 4, 3, 3, 2.0, 2, 4.0, 2, 4.0, 2, 4.0, 4.0, 3, 2, 2, 3, 3, 2, 2, 3, 2, 3, 2, 4.0, 3, 2, 4.0, 3, 2, 2, 2, 3, 3, 2, 3, 2.0, 3, 2, 2, 3, 3, 4.0, 2, 2, 3, 3, 3, 4, 2, 2, 3, 2, 2, 3, 4.0, 3, 3, 3, 3, 3, 3, 3, 2, 3, 3, 3, 3, 2, 3, 2, 2, 2, 2, 2, 2, 2.0, 3, 2, 3, 3, 3, 3, 2, 2, 3, 2, 2, 4, 2, 2, 3, 4, 2, 3, 2, 2, 3, 3, 3, 2, 3, 3, 3, 2, 3, 2, 3, 2, 3, 2, 2, 3, 4, 3, 2, 3, 2, 3, 2, 4, 2, 3, 2, 2, 3, 4.0, 2, 2, 2, 4, 2, 4, 2, 3, 2, 2, 4.0, 2, 2, 2, 2, 2, 3, 4, 4, 3, 2, 2, 3, 2, 4.0, 2.0, 2, 2.0, 4.0, 3, 3, 3, 2, 3, 2, 2, 3, 4.0, 3, 2, 4, 2, 2, 3, 2, 4, 3, 2, 2, 3, 4.0, 3, 2, 3, 2, 2, 2, 3, 3, 2, 3, 2, 3, 2, 2, 2, 4, 3, 4, 2, 2, 2, 4, 3, 4.0, 2, 2, 2, 2, 3, 3, 3, 4, 3, 2, 2, 2.0, 3, 4.0, 4, 3, 4, 2, 4.0, 4.0, 4, 3, 2, 3, 3, 3, 3, 2, 3, 2, 3, 2, 2, 2, 4.0, 3, 2, 2, 3, 2, 3, 4, 3, 2, 4.0, 2, 2, 3, 2, 4.0, 4.0, 3, 3, 2, 2, 2, 2, 3, 2, 3, 2, 3, 3, 3, 4, 3, 3, 2, 2, 3, 3, 3, 2, 3, 3, 2, 4.0, 4, 2, 2, 4.0, 2, 3, 2, 4, 2, 4, 3, 2, 2, 3, 2, 3, 4.0, 3, 2, 3, 3, 2, 2, 3, 3, 4.0, 3, 3, 3, 2, 4, 3, 4, 2, 2, 3, 2, 3, 3, 2, 3, 4.0, 3, 4, 2, 3, 2, 4.0, 3, 2, 2, 3, 2, 4, 2, 3, 2, 2, 2, 3, 3, 3, 2, 2, 2, 3, 4.0, 2, 3, 4, 3, 2, 4, 2, 2, 4, 2, 3, 2, 2.0, 2, 2, 3, 2, 4, 2, 2, 2, 2, 3, 4, 2, 3, 3, 2, 2.0, 2, 3, 2, 4, 3, 3, 3, 2, 3, 3, 4, 3, 2, 4, 3, 3, 4, 3, 4, 3, 3, 2, 2, 2, 2, 4.0, 3, 2, 3, 3, 4.0, 3, 2, 3, 3, 2, 3, 3, 2, 2, 3, 2, 2.0, 3, 2, 2.0, 2, 2, 2, 3, 2, 2, 2, 3, 4.0, 4, 3, 2, 2, 3, 2, 2, 2, 2, 4, 2, 3, 2, 2, 2, 2, 4.0, 3, 3, 4.0, 3, 3, 2, 2, 2, 2, 4, 4.0, 2, 4.0, 2, 2, 2, 2, 3, 2, 3, 4, 3, 3, 2, 2.0, 4, 3, 2.0, 2.0, 4.0, 2, 4.0, 2.0, 4.0, 3, 2, 2.0, 3, 4.0, 2, 3, 3, 3, 3, 3, 3, 2, 3, 2, 2, 2, 2, 2.0, 3, 3, 3, 2, 2.0, 4, 4, 2, 2, 3, 4, 3, 2, 2, 2, 2, 3, 2.0, 3, 2, 3, 2, 3, 2, 2, 3, 2, 4, 3, 3, 2, 2, 2.0, 2, 4, 2, 4.0, 2, 4.0, 3, 4.0, 3, 3, 2, 2, 3, 2, 2, 2, 4, 2.0, 3, 4, 4, 3, 2, 2, 2, 4, 4.0, 3, 2, 4.0, 2, 2.0, 4, 3, 3, 3, 2, 4.0, 2, 3, 3, 4.0, 4, 2, 4, 2.0]\n"
     ]
    }
   ],
   "source": [
    "lower_limit = df['bhk'].quantile(0.10)\n",
    "upper_limit = df['bhk'].quantile(0.90)\n",
    "b = []\n",
    "for x2 in df['bhk']:\n",
    "    if x2 < lower_limit:\n",
    "        x2 = lower_limit\n",
    "        b.append(x2)\n",
    "    elif x2 > upper_limit:\n",
    "        x2 = upper_limit\n",
    "        b.append(x2)\n",
    "    else:\n",
    "        b.append(x2)\n",
    "        \n",
    "print(b)\n",
    "df['bhk'] = a"
   ]
  },
  {
   "cell_type": "code",
   "execution_count": 38,
   "id": "ef2492fa",
   "metadata": {},
   "outputs": [
    {
     "data": {
      "text/plain": [
       "(13320, 7)"
      ]
     },
     "execution_count": 38,
     "metadata": {},
     "output_type": "execute_result"
    }
   ],
   "source": [
    "df.shape"
   ]
  },
  {
   "cell_type": "code",
   "execution_count": 39,
   "id": "ced7a817",
   "metadata": {},
   "outputs": [
    {
     "data": {
      "text/html": [
       "<div>\n",
       "<style scoped>\n",
       "    .dataframe tbody tr th:only-of-type {\n",
       "        vertical-align: middle;\n",
       "    }\n",
       "\n",
       "    .dataframe tbody tr th {\n",
       "        vertical-align: top;\n",
       "    }\n",
       "\n",
       "    .dataframe thead th {\n",
       "        text-align: right;\n",
       "    }\n",
       "</style>\n",
       "<table border=\"1\" class=\"dataframe\">\n",
       "  <thead>\n",
       "    <tr style=\"text-align: right;\">\n",
       "      <th></th>\n",
       "      <th>total_sqft</th>\n",
       "      <th>bath</th>\n",
       "      <th>price</th>\n",
       "      <th>bhk</th>\n",
       "      <th>price_per_sqft</th>\n",
       "    </tr>\n",
       "  </thead>\n",
       "  <tbody>\n",
       "    <tr>\n",
       "      <th>count</th>\n",
       "      <td>13274.000000</td>\n",
       "      <td>13320.000000</td>\n",
       "      <td>13320.000000</td>\n",
       "      <td>13274.000000</td>\n",
       "      <td>1.327400e+04</td>\n",
       "    </tr>\n",
       "    <tr>\n",
       "      <th>mean</th>\n",
       "      <td>1445.847098</td>\n",
       "      <td>2.688814</td>\n",
       "      <td>112.565627</td>\n",
       "      <td>1445.847098</td>\n",
       "      <td>7.883254e+03</td>\n",
       "    </tr>\n",
       "    <tr>\n",
       "      <th>std</th>\n",
       "      <td>474.177564</td>\n",
       "      <td>1.338754</td>\n",
       "      <td>148.971674</td>\n",
       "      <td>474.177564</td>\n",
       "      <td>1.064303e+05</td>\n",
       "    </tr>\n",
       "    <tr>\n",
       "      <th>min</th>\n",
       "      <td>900.000000</td>\n",
       "      <td>1.000000</td>\n",
       "      <td>8.000000</td>\n",
       "      <td>900.000000</td>\n",
       "      <td>2.678298e+02</td>\n",
       "    </tr>\n",
       "    <tr>\n",
       "      <th>25%</th>\n",
       "      <td>1100.000000</td>\n",
       "      <td>2.000000</td>\n",
       "      <td>50.000000</td>\n",
       "      <td>1100.000000</td>\n",
       "      <td>4.227642e+03</td>\n",
       "    </tr>\n",
       "    <tr>\n",
       "      <th>50%</th>\n",
       "      <td>1280.000000</td>\n",
       "      <td>2.000000</td>\n",
       "      <td>72.000000</td>\n",
       "      <td>1280.000000</td>\n",
       "      <td>5.416667e+03</td>\n",
       "    </tr>\n",
       "    <tr>\n",
       "      <th>75%</th>\n",
       "      <td>1690.000000</td>\n",
       "      <td>3.000000</td>\n",
       "      <td>120.000000</td>\n",
       "      <td>1690.000000</td>\n",
       "      <td>7.293505e+03</td>\n",
       "    </tr>\n",
       "    <tr>\n",
       "      <th>max</th>\n",
       "      <td>2427.800000</td>\n",
       "      <td>40.000000</td>\n",
       "      <td>3600.000000</td>\n",
       "      <td>2427.800000</td>\n",
       "      <td>1.200000e+07</td>\n",
       "    </tr>\n",
       "  </tbody>\n",
       "</table>\n",
       "</div>"
      ],
      "text/plain": [
       "         total_sqft          bath         price           bhk  price_per_sqft\n",
       "count  13274.000000  13320.000000  13320.000000  13274.000000    1.327400e+04\n",
       "mean    1445.847098      2.688814    112.565627   1445.847098    7.883254e+03\n",
       "std      474.177564      1.338754    148.971674    474.177564    1.064303e+05\n",
       "min      900.000000      1.000000      8.000000    900.000000    2.678298e+02\n",
       "25%     1100.000000      2.000000     50.000000   1100.000000    4.227642e+03\n",
       "50%     1280.000000      2.000000     72.000000   1280.000000    5.416667e+03\n",
       "75%     1690.000000      3.000000    120.000000   1690.000000    7.293505e+03\n",
       "max     2427.800000     40.000000   3600.000000   2427.800000    1.200000e+07"
      ]
     },
     "execution_count": 39,
     "metadata": {},
     "output_type": "execute_result"
    }
   ],
   "source": [
    "df.describe()"
   ]
  },
  {
   "cell_type": "code",
   "execution_count": 40,
   "id": "476fa491",
   "metadata": {},
   "outputs": [],
   "source": [
    "df.drop(columns = ['size','price_per_sqft'],inplace = True)"
   ]
  },
  {
   "cell_type": "code",
   "execution_count": 66,
   "id": "9c88343f",
   "metadata": {},
   "outputs": [],
   "source": [
    "df = df.dropna()\n",
    "df = df.replace([np.inf, -np.inf], 0)"
   ]
  },
  {
   "cell_type": "code",
   "execution_count": 67,
   "id": "4865712f",
   "metadata": {},
   "outputs": [],
   "source": [
    "from sklearn.preprocessing import StandardScaler\n",
    "from sklearn.linear_model import LinearRegression,Lasso,Ridge\n",
    "from sklearn.compose import ColumnTransformer\n",
    "from sklearn.model_selection import train_test_split\n",
    "from sklearn.preprocessing import OneHotEncoder\n",
    "from sklearn.pipeline import make_pipeline"
   ]
  },
  {
   "cell_type": "code",
   "execution_count": 68,
   "id": "b31ab6ef",
   "metadata": {},
   "outputs": [
    {
     "data": {
      "text/html": [
       "<div>\n",
       "<style scoped>\n",
       "    .dataframe tbody tr th:only-of-type {\n",
       "        vertical-align: middle;\n",
       "    }\n",
       "\n",
       "    .dataframe tbody tr th {\n",
       "        vertical-align: top;\n",
       "    }\n",
       "\n",
       "    .dataframe thead th {\n",
       "        text-align: right;\n",
       "    }\n",
       "</style>\n",
       "<table border=\"1\" class=\"dataframe\">\n",
       "  <thead>\n",
       "    <tr style=\"text-align: right;\">\n",
       "      <th></th>\n",
       "      <th>total_sqft</th>\n",
       "      <th>bath</th>\n",
       "      <th>price</th>\n",
       "      <th>bhk</th>\n",
       "    </tr>\n",
       "  </thead>\n",
       "  <tbody>\n",
       "    <tr>\n",
       "      <th>count</th>\n",
       "      <td>13274.000000</td>\n",
       "      <td>13274.000000</td>\n",
       "      <td>13274.000000</td>\n",
       "      <td>13274.000000</td>\n",
       "    </tr>\n",
       "    <tr>\n",
       "      <th>mean</th>\n",
       "      <td>1445.847098</td>\n",
       "      <td>2.687359</td>\n",
       "      <td>112.453654</td>\n",
       "      <td>1445.847098</td>\n",
       "    </tr>\n",
       "    <tr>\n",
       "      <th>std</th>\n",
       "      <td>474.177564</td>\n",
       "      <td>1.336158</td>\n",
       "      <td>149.070368</td>\n",
       "      <td>474.177564</td>\n",
       "    </tr>\n",
       "    <tr>\n",
       "      <th>min</th>\n",
       "      <td>900.000000</td>\n",
       "      <td>1.000000</td>\n",
       "      <td>8.000000</td>\n",
       "      <td>900.000000</td>\n",
       "    </tr>\n",
       "    <tr>\n",
       "      <th>25%</th>\n",
       "      <td>1100.000000</td>\n",
       "      <td>2.000000</td>\n",
       "      <td>50.000000</td>\n",
       "      <td>1100.000000</td>\n",
       "    </tr>\n",
       "    <tr>\n",
       "      <th>50%</th>\n",
       "      <td>1280.000000</td>\n",
       "      <td>2.000000</td>\n",
       "      <td>72.000000</td>\n",
       "      <td>1280.000000</td>\n",
       "    </tr>\n",
       "    <tr>\n",
       "      <th>75%</th>\n",
       "      <td>1690.000000</td>\n",
       "      <td>3.000000</td>\n",
       "      <td>120.000000</td>\n",
       "      <td>1690.000000</td>\n",
       "    </tr>\n",
       "    <tr>\n",
       "      <th>max</th>\n",
       "      <td>2427.800000</td>\n",
       "      <td>40.000000</td>\n",
       "      <td>3600.000000</td>\n",
       "      <td>2427.800000</td>\n",
       "    </tr>\n",
       "  </tbody>\n",
       "</table>\n",
       "</div>"
      ],
      "text/plain": [
       "         total_sqft          bath         price           bhk\n",
       "count  13274.000000  13274.000000  13274.000000  13274.000000\n",
       "mean    1445.847098      2.687359    112.453654   1445.847098\n",
       "std      474.177564      1.336158    149.070368    474.177564\n",
       "min      900.000000      1.000000      8.000000    900.000000\n",
       "25%     1100.000000      2.000000     50.000000   1100.000000\n",
       "50%     1280.000000      2.000000     72.000000   1280.000000\n",
       "75%     1690.000000      3.000000    120.000000   1690.000000\n",
       "max     2427.800000     40.000000   3600.000000   2427.800000"
      ]
     },
     "execution_count": 68,
     "metadata": {},
     "output_type": "execute_result"
    }
   ],
   "source": [
    "df.describe()"
   ]
  },
  {
   "cell_type": "code",
   "execution_count": 69,
   "id": "cab481d1",
   "metadata": {},
   "outputs": [
    {
     "name": "stdout",
     "output_type": "stream",
     "text": [
      "<class 'pandas.core.frame.DataFrame'>\n",
      "Int64Index: 13274 entries, 0 to 13319\n",
      "Data columns (total 5 columns):\n",
      " #   Column      Non-Null Count  Dtype  \n",
      "---  ------      --------------  -----  \n",
      " 0   location    13274 non-null  object \n",
      " 1   total_sqft  13274 non-null  float64\n",
      " 2   bath        13274 non-null  float64\n",
      " 3   price       13274 non-null  float64\n",
      " 4   bhk         13274 non-null  float64\n",
      "dtypes: float64(4), object(1)\n",
      "memory usage: 622.2+ KB\n"
     ]
    }
   ],
   "source": [
    "df.info()"
   ]
  },
  {
   "cell_type": "code",
   "execution_count": 70,
   "id": "e6e3f83d",
   "metadata": {},
   "outputs": [],
   "source": [
    "x = df.iloc[:,:-1].values\n",
    "y = df.iloc[:,-1].values"
   ]
  },
  {
   "cell_type": "code",
   "execution_count": 71,
   "id": "e8017890",
   "metadata": {},
   "outputs": [
    {
     "data": {
      "text/plain": [
       "array([['Electronic City Phase II', 1056.0, 2.0, 39.07],\n",
       "       ['Chikka Tirupathi', 2427.800000000003, 5.0, 120.0],\n",
       "       ['Uttarahalli', 1440.0, 2.0, 62.0],\n",
       "       ...,\n",
       "       ['Raja Rajeshwari Nagar', 1141.0, 2.0, 60.0],\n",
       "       ['Padmanabhanagar', 2427.800000000003, 4.0, 488.0],\n",
       "       ['Doddathoguru', 900.0, 1.0, 17.0]], dtype=object)"
      ]
     },
     "execution_count": 71,
     "metadata": {},
     "output_type": "execute_result"
    }
   ],
   "source": [
    "x"
   ]
  },
  {
   "cell_type": "code",
   "execution_count": 72,
   "id": "b2b2c4f0",
   "metadata": {},
   "outputs": [
    {
     "data": {
      "text/plain": [
       "array([1056. , 2427.8, 1440. , ..., 1141. , 2427.8,  900. ])"
      ]
     },
     "execution_count": 72,
     "metadata": {},
     "output_type": "execute_result"
    }
   ],
   "source": [
    "y"
   ]
  },
  {
   "cell_type": "code",
   "execution_count": 77,
   "id": "07dc2a61",
   "metadata": {},
   "outputs": [
    {
     "data": {
      "text/plain": [
       "array([[0.0, 0.0, 0.0, ..., 1056.0, 2.0, 39.07],\n",
       "       [0.0, 0.0, 0.0, ..., 2427.800000000003, 5.0, 120.0],\n",
       "       [0.0, 0.0, 0.0, ..., 1440.0, 2.0, 62.0],\n",
       "       ...,\n",
       "       [0.0, 0.0, 0.0, ..., 1141.0, 2.0, 60.0],\n",
       "       [0.0, 0.0, 0.0, ..., 2427.800000000003, 4.0, 488.0],\n",
       "       [0.0, 0.0, 0.0, ..., 900.0, 1.0, 17.0]], dtype=object)"
      ]
     },
     "execution_count": 77,
     "metadata": {},
     "output_type": "execute_result"
    }
   ],
   "source": [
    "ct = ColumnTransformer(transformers = [('encoder',OneHotEncoder(sparse = False),[0])],remainder = 'passthrough')\n",
    "x = ct.fit_transform(x)\n",
    "x\n"
   ]
  },
  {
   "cell_type": "code",
   "execution_count": 78,
   "id": "67099b18",
   "metadata": {},
   "outputs": [],
   "source": [
    "scaler = StandardScaler(with_mean= False)\n",
    "scaler.fit(x)\n",
    "x = scaler.transform(x)"
   ]
  },
  {
   "cell_type": "code",
   "execution_count": 79,
   "id": "99757d14",
   "metadata": {},
   "outputs": [],
   "source": [
    "x_train,x_test,y_train,y_test = train_test_split(x,y,test_size=0.2,random_state=1)"
   ]
  },
  {
   "cell_type": "code",
   "execution_count": 80,
   "id": "c251684a",
   "metadata": {},
   "outputs": [
    {
     "data": {
      "text/plain": [
       "array([[0.        , 0.        , 0.        , ..., 1.89809466, 0.74844251,\n",
       "        0.10062741],\n",
       "       [0.        , 0.        , 0.        , ..., 5.1202158 , 2.99377005,\n",
       "        2.75719104],\n",
       "       [0.        , 0.        , 0.        , ..., 3.75400944, 2.24532754,\n",
       "        0.59034747],\n",
       "       ...,\n",
       "       [0.        , 0.        , 0.        , ..., 3.07913134, 1.49688503,\n",
       "        0.50313705],\n",
       "       [0.        , 0.        , 0.        , ..., 2.53079288, 4.49065508,\n",
       "        1.47586868],\n",
       "       [0.        , 0.        , 0.        , ..., 3.1634911 , 1.49688503,\n",
       "        0.43605211]])"
      ]
     },
     "execution_count": 80,
     "metadata": {},
     "output_type": "execute_result"
    }
   ],
   "source": [
    "x_train"
   ]
  },
  {
   "cell_type": "code",
   "execution_count": 81,
   "id": "861ce392",
   "metadata": {},
   "outputs": [
    {
     "data": {
      "text/plain": [
       "array([ 900. , 2427.8, 1780. , ..., 1460. , 1200. , 1500. ])"
      ]
     },
     "execution_count": 81,
     "metadata": {},
     "output_type": "execute_result"
    }
   ],
   "source": [
    "y_train"
   ]
  },
  {
   "cell_type": "code",
   "execution_count": 82,
   "id": "8d9e4828",
   "metadata": {},
   "outputs": [
    {
     "data": {
      "text/plain": [
       "array([[0.        , 0.        , 0.        , ..., 2.84714199, 2.24532754,\n",
       "        0.73793434],\n",
       "       [0.        , 0.        , 0.        , ..., 2.50970294, 1.49688503,\n",
       "        0.42934362],\n",
       "       [0.        , 0.        , 0.        , ..., 2.53079288, 2.99377005,\n",
       "        1.20752892],\n",
       "       ...,\n",
       "       [0.        , 0.        , 0.        , ..., 2.22920673, 1.49688503,\n",
       "        0.20125482],\n",
       "       [0.        , 0.        , 0.        , ..., 2.49915797, 1.49688503,\n",
       "        0.36896717],\n",
       "       [0.        , 0.        , 0.        , ..., 3.1634911 , 4.49065508,\n",
       "        0.53667952]])"
      ]
     },
     "execution_count": 82,
     "metadata": {},
     "output_type": "execute_result"
    }
   ],
   "source": [
    "x_test"
   ]
  },
  {
   "cell_type": "code",
   "execution_count": 83,
   "id": "eedcac1b",
   "metadata": {},
   "outputs": [
    {
     "data": {
      "text/plain": [
       "array([1350., 1190., 1200., ..., 1057., 1185., 1500.])"
      ]
     },
     "execution_count": 83,
     "metadata": {},
     "output_type": "execute_result"
    }
   ],
   "source": [
    "y_test"
   ]
  },
  {
   "cell_type": "code",
   "execution_count": 84,
   "id": "4c1a317a",
   "metadata": {},
   "outputs": [
    {
     "data": {
      "text/plain": [
       "LinearRegression()"
      ]
     },
     "execution_count": 84,
     "metadata": {},
     "output_type": "execute_result"
    }
   ],
   "source": [
    "from sklearn.linear_model import LinearRegression\n",
    "lr = LinearRegression()\n",
    "lr.fit(x_train,y_train)"
   ]
  },
  {
   "cell_type": "code",
   "execution_count": 85,
   "id": "b32f86bc",
   "metadata": {},
   "outputs": [
    {
     "data": {
      "text/plain": [
       "array([1350., 1190., 1200., ..., 1057., 1185., 1500.])"
      ]
     },
     "execution_count": 85,
     "metadata": {},
     "output_type": "execute_result"
    }
   ],
   "source": [
    "prediction = lr.predict(x_test)\n",
    "prediction"
   ]
  },
  {
   "cell_type": "code",
   "execution_count": 86,
   "id": "09054694",
   "metadata": {},
   "outputs": [
    {
     "data": {
      "text/plain": [
       "1.0"
      ]
     },
     "execution_count": 86,
     "metadata": {},
     "output_type": "execute_result"
    }
   ],
   "source": [
    "from sklearn.metrics import r2_score\n",
    "r2_score(y_test,prediction)"
   ]
  },
  {
   "cell_type": "code",
   "execution_count": null,
   "id": "c7568ef7",
   "metadata": {},
   "outputs": [],
   "source": []
  }
 ],
 "metadata": {
  "kernelspec": {
   "display_name": "Python 3 (ipykernel)",
   "language": "python",
   "name": "python3"
  },
  "language_info": {
   "codemirror_mode": {
    "name": "ipython",
    "version": 3
   },
   "file_extension": ".py",
   "mimetype": "text/x-python",
   "name": "python",
   "nbconvert_exporter": "python",
   "pygments_lexer": "ipython3",
   "version": "3.9.13"
  }
 },
 "nbformat": 4,
 "nbformat_minor": 5
}
